{
 "cells": [
  {
   "cell_type": "markdown",
   "metadata": {},
   "source": [
    "# Dreaming Daily Mail\n",
    "\n",
    "#### by Frank Piva (code adapted from Aurélien Geron)\n",
    "#### November 21, 2020\n",
    "\n",
    "## Introduction\n",
    "This notebook demonstrates the construction of a dreaming, recurrent neural net (RNN) from Daily Mail articles. Much of the code is taken from Aurélien Geron's book, \"Hands-On Machine Learning\".\n",
    "\n",
    "## Environment Initialization"
   ]
  },
  {
   "cell_type": "code",
   "execution_count": 1,
   "metadata": {},
   "outputs": [],
   "source": [
    "from tensorflow import keras\n",
    "\n",
    "import matplotlib as mpl\n",
    "import matplotlib.pyplot as plt\n",
    "import numpy as np\n",
    "import os\n",
    "import random\n",
    "import sklearn\n",
    "import string\n",
    "import sys\n",
    "import tensorflow as tf\n",
    "import tensorflow_datasets as tfds\n",
    "\n",
    "# to make this notebook's output stable across runs\n",
    "np.random.seed(42)\n",
    "tf.random.set_seed(42)\n",
    "\n",
    "# to plot pretty figures\n",
    "mpl.rc('axes', labelsize=14)\n",
    "mpl.rc('xtick', labelsize=12)\n",
    "mpl.rc('ytick', labelsize=12)"
   ]
  },
  {
   "cell_type": "markdown",
   "metadata": {},
   "source": [
    "## Loading the Data"
   ]
  },
  {
   "cell_type": "code",
   "execution_count": 2,
   "metadata": {},
   "outputs": [
    {
     "name": "stdout",
     "output_type": "stream",
     "text": [
      "[INFO] len(X_train): 287113\n",
      "[INFO] index: 51997\n",
      "[INFO] maximum: 15925\n",
      "[INFO] article_text: By . Louise Boyle . PUBLISHED: . 09:45 EST, 28 February 2014 . | . UPDATED: . 13:31 EST, 5 March 2014 . A chemical used to make yoga mats has been found in almost 500 food items, according to a study released this week. The compound azodicarbonamide (ADA) is typically used in bread products to bleach flour and make the dough stronger while keeping it light and spongy. The additive is also an ingredient of shoe rubber and attic insulation, according to research released on Thursday by The Environmental Working Group (EWG). ADA features in foods made by at least 130 American brands including Jimmy Dean, Sara Lee, Pillsbury, White Castle, Marie Calledar's and Country Hearth. Scroll down for video . What's on your plate? A chemical called azodicarbonamide (ADA) which is used to make yoga mats (left) has also been found in close to 500 food products including many 'healthy' breads, salad croutons and fruit strudels (right) Most of the items which contain ADA are bread, pre-made sandwiches, croutons and snacks. According to EWG, the synthetic additive has not been a problem for the federal Food and Drug Administration - because the low levels of 45 parts per million are not known to be toxic. However a study by the World Health Organization showed that when handed in large quantities, the chemical causes respiratory problems including asthma and skin sensitization. ADA has not undergone extensive testing for its long-term affects on health. According to FoodBabe, who has campaigned against the use of ADA in foods, when the chemical partially degrades with the heat of processing, it can form trace amounts of semicarbazide, which shows carcinogenicity and also has been shown to cause tumors. Subway last month announced that it was removing the ingredient Azodicarbonamide . (ADA) as part of an ongoing effort to improve recipes in the U.S. (it . was not being used in sandwiches in the UK, much of Europe and Australia . where the additive is banned). Subway founder Fred DeLuca (pictured) announced last month that ADA was being removed from breads used to make their sandwiches in the U.S. According to Environmental Working Group, each product on the list below includes ADA: . Aladdin Bakers: Jumbo Bagels (Cinnamon Raisin)America's Choice: Muffin Sandwiches (Turkey, Sausage, Egg & Cheese)Amigos: TortillasArcher Farms:  Simply Balanced 100% Whole Wheat Hamburger BunsArnold:  Bakery Light 100% Whole Wheat Bread/ Wheat Sandwich RollsArtichoke Basilles Pizza Co: Margherita PizzaArtisan Fresh:  Jumbo Wheat HoagieAunt Hattie's: Onion Buns/ Potato Hamburger Enriched BunsAunt Millie's: Honey & Hamburger Buns/ Whole Grain BreadBagel-Fuls: Bagel Filled With Cream Cheese, OriginalBaker's Treat:  Big Texas Cheese Roll PastriesBall Park: Flame Grilled Barbeque Chicken Slider/ Flame Grilled Beef Sliders/ Flame Grilled Cheese Burger Sliders/ Hot Dog BunsBell's: Traditional StuffingBetty Crocker:  Pasta Caesar Salad/  Suddenly Pasta Salad, CaesarBig Az: CheeseburgerBimbo: Bread Crumbs/ Double Fiber Bread/ Large Wheat Bread/ Sabor Chocolate/ Toasted BreadToasted Bread, OriginalBon Appetit: Apple Danish/ Blueberry Cream Pastry/ Cheese & Berries Danish/ Cheese Croissant/Super Cinnamon RollBridgford: Cinnamon Pull-Apart Monkey Bread/ Ready-Dough Frozen White Bread DoughBrownberry: Chicago Hot Dog Rolls/ Kaiser Sandwich Buns / Sandwich Buns, Onion/  Sausage Rolls, OriginalBunny: Hot Dog Buns . Butternut: 1/2 Loaf White Enriched Bread/ All Whole Grain 100% Whole Wheat Bread/ Brown' N Serve Enriched Rolls/ Deluxe Buns/ Enriched Burger Buns, Sliced/ Enriched Hot Dog Buns, SlicedHearty Rye Bread/ Honey Wheat Bread/ Italian Bread/ Large Enriched Bread/ Sliced Buns, SeededWhole Grain White Bread/ Whole Wheat BreadCastillo: Castillo CroissantsCentrella: Hot Dog Buns, Enriched/  Restaurant Style Caesar CrotonsChef M.J. Brando: Grilled Cheese Sandwiches, Cheddar/ Grilled Cheese Sandwiches, SwissClear Value: White BreadCloverhill: Apple DanishCole's: Cheesesticks/  Garlic Mini LoafConnella: Bread CrumbsCorfu Foods Inc: Hand Made PitaCountry Hearth: Dakota Style 12 Grain Bread/  Hearty Homestyle 100% Whole Wheat Bread/ Hearty Homestyle Honey Grain 'n Oat Bread/ Split Top Wheat Bread/ Split Top White BreadD'italiano: Italian BreadDay'n Night Bites: Country Sausage Muffin With Egg'n CheeseDrake's: Danish Pastries CheeseEarthgrains: Honey Wheat Berry Bread/ Sliced French Premium Bread/ Wheat RollsEntenmann's: Raspberry DanishEssential Everyday: 5 Cheese Texas Toast/ Garlic Bread/ Garlic Bread Sticks/ Garlic Texas ToastEuropean Bakers: Onion Rolls/ White Sub RollsFarm Rich: French Toast Sticks, Cinnamon Sprinkle/ French Toast Sticks, OriginalFiber One: Hamburger Buns/ Hot Dog Buns . Fleischmann's: Simply Homemade Baking Mix, Pretzel Creations/ Simply Homemade No Knead Bread Mix, Country White/ Simply Homemade No Knead Bread Mix, Italian Herb/ Simply Homemade No Knead Bread Mix, Multi-GrainFood Club: Caesar Restaurant Style Croutons/ Garlic Cheesesticks/ Garlic Dinner Rolls/ Seasoned Restaurant Style Croutons/ Strawberry Strudel/ Stuffing Classics Cornbread Stuffing Mix/ Texas Toast, 3 Cheese/  Texas Toast, Garlic/ French Toast Sticks/ Garlic Bread Sticks/  Texas Toast, 3 CheeseFreihofer's: White BreadFresh Gourmet: Premium Croutons, Butter & Garlic/ Premium Croutons, Cheese & GarlicPremium Croutons, Classic Caesar /Premium Croutons, Garden Herb/ Premium Croutons, Italian Seasoned/ Premium Croutons, Parmesan RanchFurlani: Garlic Bread/ Multi Grain Garlic Toast/ Parmesan Garlic Toast/ Texas Toast, GarlicTexas Toast, Pizza/ Texas Toast, Three CheeseGateway: Soft Rye BreadGimbo: Conchas Fine PastryGollo: Galletas De Huevo (Eggs Crackers)Gonnella:  Sandwich RollsGreat Value: Honey Buns/ Hot Dog Buns/ Wheat Sandwhich BreadGrissom's: Hot Dog Sliced Enriched BunsHarvest Pride: Awesome Rolls/ Seeded Italian Bread/ Texas Toast Bread/ Wheat BreadWhite Enriched BreadHauswald's: Enriched Bread / Split Top Wheat Bread Healthy Life: 100% Whole Grain Wheat Bread, Flaxseed/  100% Whole Grain Wheat Bread, Sugar Free/ 100% Whole Wheat English Muffins/ 100% Whole Wheat Whole Grain Bread/ High Fiber White Bread/ Hot Dog Buns, Whole Grain/ Italian Bread/ Light English Muffins/ Light Multigrain English Muffins/ Soft Style 100% Whole Grain BreadHearth Of Texas Bread Company: 100% Whole Wheat Bread/ Enriched Large White BreadExtra Thin White Bread/ Split Top Wheat Bread/ Whole Grain White BreadHoney:  Hot Dog BunsHormel: Country Crock Homestyle StuffingHungry-Man: Roasted Carved White Meat TurkeyIhop:  French Toast Breakfast Sandwich, Egg, Canadian Bacon & Cheese/ French Toast Breakfast Sandwich, Maple Sausage, Egg & CheeseJ. Skinner: Cinnamon Craver's RollJ.C. Potter:    Sausage On A BunJ.J. Cassone: 100% Whole Wheat Sandwich Rolls/ Enriched Vienna Rolls/ Italian Bread/ Sliced Hero Rolls/ Sliced Sandwich Rolls/ Wheat Bran Sandwich Rolls . Jimmy Dean: Delights Honey Wheat Flatbread, Bacon, Egg & Cheese/ Delights Honey Wheat Flatbread, Turkey Sausage, Egg & Cheese/ French Toast Griddlers/ Muffin, Sausage, Egg & Cheese/ Sausage, Egg & Cheese On A Muffin/ Turkey Sausages Egg White & Cheese Whole Grain BagelJoseph Campione: Authentic Hearth Baked Garlic Bread/ Bread Sticks, Garlic/ Cheese Stuffed Bread Sticks/ Dinner Rolls, Parmesan Garlic/ Garlic Bread, Authentic Hearth Baked/ Garlic Mini LoafTexas Toast, 5 Cheese/ Texas Toast, Garlic/ Texas Toast, ParmesanKey Food:  Seeded Rye European Hearth Bread, Deli Style/ Seedless Rye European Hearth Bread, Deli StyleKid Cuisine: Kc's Campfire Hot DogKroger: White Enriched Bread/ White Hamburger Enriched BunsL'oven Fresh: Split Top Wheat BreadLakeland: Hot Dog Buns Enriched/ White Enriched Sandwich BreadLewis: Healthy Life Wheat Hot Dog Buns/ Whole Wheat Sandwich BunsLiberty Hearth:  New York Deli Kaiser Rolls, PoppyLittle Debbie: Cheese Danish Classic Pastry/ Cinnamon Rolls With Icing/ Cream Cheese Danish Pastry/ Danish Pastry, Cherry Cheese/ Honey BunsMaglio: Stromboli, Philly Style Steak & CheeseManischewitz: Pumpernickel BreadMariano's: 100% Whole Wheat Bread/ Asiago Cheese Focaccia/ Bell Pepper Focaccia MuffinsBreadstics/  Butterflake Rolls/ Cheese Pizza Bread/  Chefs Collection Italian Focaccia Half/Cinnamon Raisin Bread Club Rolls/ Egg And Onion Brat Bun/ Egg Dinner Rolls/ English Muffin Bread/ Fresh Tomato Focaccia/ Garlic Bread/ Ham Swiss Sub/ Hamburger Buns/ Hard RollsHot Dog Buns/ Italian Bread/ Italian Specialty Bread By The Pound/ Jalapeno Cheddar Focaccia/Jalapeno Cheddar Focaccia Muffins/ Kaiser Rolls/ Large Kaiser Rolls/ Marble Rye Bread/Olive And Parmesan Chop Block Bread/ Onion Rye Specialty Bread/ Paisano Italiano Sandwich/Parisian Chocolate Croissant/ Roast Beef & Cheddar Croissant/ Rotisserie Chicken Salad Croissant/Rye Specialty Bread By The Pound/ Salami And Provolone Chop Block Bread/ Tomato Basil Chop Block Bread/ Walnut Raisin Specialty Bread/ Wheat Bread/ Wheat Club Rolls/ Wheat Dinner Rolls/ Wheat Hamburger Buns/ Wheat Hot Dog Buns/  White Bread/ Whole Wheat Specialty BreadMarie Callender's: Flaky Croissant With Ham & Swiss/ Flaky Croissant With Sausage, Egg & Monterey Jack/  Spaghetti With Meat SauceMarket Street: Butterflake RollsMartin's: Cinnamon Raisin Swirl Potato Bread/ Hoagie Rolls, Unseeded/  Long Roll, Potato Rolls/ Potato Bread, 100% Whole Wheat/ Potato Bread, Sandwich/ Potato Rolls/ Potatobred Soft Cubed StuffingMarty's: Large RollsMaster: Hamburger Enriched Buns/  Hot Dog Enriched BunsMckee:  Cheese Danish With Icing/ Cinnamon RollsMediterranean Pita: BreadMet Foodmarkets     Giant White Enriched Bread/ Hamburgers Enriched Buns/ Hot Dogs Enriched BunsMother's: Giant Enriched White Bread/ Split Top Wheat BreadMrs Baird's: Pastry Kitchen Cinnamon Rolls/ Cinnamon Rolls, Cherry/ Cinnamon Rolls, OriginalMrs. Cubbison's: Butter & Garlic Croutons/ Corn Bread Stuffing, Seasoned/ Seasoned CroutonsMrs. Freshley's: Honey BunsMurry's:  French Toast Bites, Cinnamon BlaseNew York: Bread Sticks With Real Garlic/ Hand-Tied Garlic Knots With Real Garlic/ Texas Toast, 5 Cheese/  Texas Toast, GarlicNew York Deli:    Kaiser Rolls, PlainKaiser Rolls, SesameOld Style: Cottage Potato BreadOne Republic: Skinny BunsOroweat: Raisin Cinnamon BreadPalagonia: 100% Whole Wheat Sandwich Rolls/ French Bread/ Italian Bread/  Mini Heros/ Panino Italiano/ Rolls/ Sliced Italina BreadPatriotic:  Honey BunsPelmen:  Blueberry Perogies Peroguis Aux Bleuets Mushrooms Champigons/ Perogies, CherryPerogies, Potato With Cheddar Cheese/ Perogies, Potato With Cottage Cheese/ Perogies, Potato With Spinach & Feta/ Perogies, Sauerkraut/ Perogies, Sauerkraut Mushrooms/ Perogies, Sweet Cottage CheesePillsbury: Artisan Dinner Rolls/ Artisan Pizza Crust With Whole Grain/ Breadsticks, OriginalCrusty French Loaf/ Italian Bread/ Pizza Crust, Thin Crust/ Toaster Scrambles, Cheese Sauce, Egg & Bacon/ Toaster Scrambles, Cheese Sauce, Egg & Sausage/ Toaster Strudel Pastries, AppleToaster Strudel Pastries, Apple Cream Danish/ Toaster Strudel Pastries, Blueberry/ Toaster Strudel Pastries, Boston Cream Pie/ Toaster Strudel Pastries, Cinnamon With Brown Sugar/ Toaster Strudel Pastries, Cream Cheese & Strawberry/ Toaster Strudel Pastries, Danish Style Cream CheeseToaster Strudel Pastries, StrawberryPotmann's Select: Seasoned CroutonsRainbo: Thin Sliced White BreadRaybern's New York Deli Style: Raybern's New York Deli Style Philly Cheesesteak/Roast Beef Cheddar MeltRhodes:  Cinnamon Rolls, Cream Cheese FrostingRoman Meal: 100% Whole Wheat BreadRosa Bianca: Garlic BreadRosen's: Sweet Hawaiian RollsRoundy's: 100% Whole Wheat Bread/ Blueberry Bagels/ Bratwurst Enriched Buns, Sliced/ Cinnamon Raisin Swirl Bagel/ Croissant Sandwiches/ Croutons, Cheese & Garlic/ Croutons, Seasoned/ Deli Rye Bread, Seedless/ Enriched Hot Dog Buns/ Everything Bagels/ French Bread/ Garlic Bread, Original/ Garlic Bread, Parmesan/ Hamburger Enriched BunsItalian Sausage Tortelloni/ Meat & Fine Herbs Ravioli/ Muffin Sandwiches, Ham Egg And CheeseMuffin Sandwiches, Sausage, Egg & Cheese/ Plain Bagels/ Presliced Everything Bagels/Quarter Pound Chicken Sandwich/ Select 9 Grain Bread/ Texas Toast, Garlic/ Texas Toast, Three Cheese/ Wheat Bread, Split Top/ Wheat Muffin Sandwiches, Turkey Sausage, Egg White & CheeseWhite Enriched Bread/ White Enriched Sandwich BreadS.Rosen's: Black Bavarian Rye Bread/  Bohemian Style Rye Bread/  Brat & Sausage Rolls/Enriched Hot Dog Buns/ French Rolls, Italian Beef Rolls/ Hawaiian Bread, Pineapple/ Kaiser BunsMarble Rye Swirled/ Multi Grain Bread/ Rye Bread/ Rye Bread, Caraway Seeds/ Rye Bread, Unseeded/ Wheat With Oat Bran BunsSafeway: Cornbread Stuffing Mix/ Five Cheese Garlic ToastSara Lee: Blueberry Crumble Breakfast Bread/ Brown Sugar Cinnamon Breakfast Bread/ Center Split Deli Rolls, White/ Cinnamon Breakfast Bread With Raisins/ Cinnamon Raisin BagelsCinnamon Rolls/ Classic Dinner Rolls/ Deluxe Bagels, Blueberry/ Deluxe Bagels, Cinnamon RaisinDeluxe Bagels, Plain/ Hearty & Delicious 100% Whole Wheat Deli Rolls/ Hearty & Delicious Center Split Deli Rolls, White/ Honey Wheat Bread/ Soft & Smooth 100% Whole Wheat Bread/ Soft & Smooth 100% Whole Wheat Hot Dog Buns/ Soft & Smooth Hamburger Buns, White/ Soft & Smooth Hot Dog Buns, White/ Soft & Smooth Wheat Hamburger Buns/ White BreadSchmidt: Enriched Bread/ Enriched Hamburger Rolls, Sliced/ Rye Bread/ Wheat Rolls/ Whole Grain White BreadSelect Signatures     Spicy Chicken SlidersShoprite: Bangles Whole Wheat/ Cinnamon Bread/ Country White Bread/ Enriched Cinnamon Swirl Bread/ Enriched Honey Wheat Bread/ Enriched Light Hot Dog Rolls/ Enriched Light Wheat Bread/Enriched Round Top White Bread/ Garlic Bread Sticks/ Garlic Dinner Rolls/ Hot Dog Rolls/ Italian Bread/ Onion Bagels/ Poppy Bagels/ Potato Hamburger Rolls/ Premium Bread/ Premium Bread With 100% Stone Ground Wheat/ Sandwich White Bread/ Sesame Bagels/ Sliced Hearth Baked Plain Bagels/ Split Top White Bread/ Swirl Rye Bread/ Texas Toast Garlic/ Wheat BreadSimplyaddwater: Premium Challah Bread MixSmucker's:  Uncrustables Peanut Butter & Grape Jelly Sandwich/ Uncrustables Peanut Butter & Grape Spread Sandwich, Reduced Sugar/ Uncrustables Peanut Butter & Rasperry Spread Sandwich/ Uncrustables Peanut Butter & Strawberry Jam Sandwich/ Uncrustables Peanut Butter & Strawberry Spread Sandwich, Reduced SugarSnacks: Iced Honey BunsStorehmann: Split Top Wheat Bread/ White BreadSun-Maid: Raisin Bread, Cinnamon SwirlSunbeam: Enriched Buns/ Grill'n Griddle Bread/ Hot Dog Buns/ Large, Enriched Bread/Texas Toast Enriched Bread, Thick SlicedSuper Bread: Giant White Enriched Bread/ Hamburger Enriched Buns/ Honey Wheat Bread/ Hot Dog Enriched Buns/ Raisin BreadTastykake: Glazed Honey Buns/ Honey Bun/ Iced Honey BunsThe Bakery At Walmart: Glazed Yeast Donuts/ Jumbo CroissantToufayan Bakeries: Bagels Blueberry/  Cinnamon Raisin/  Everything Bagels/ Mini Bagels, Cinnamon Raisin/ Mini Bagels, Plain/ Pre-Sliced Bagels, Whole Wheat/ Pre-Sliced Mini Bagels, Whole WheatTurano: Brat & Sausage Rolls/ Extra Long French Bread/ French Rolls/ Gourmet Sandwich RollsItalian Bread/ Kaiser Rolls/ Old Fashioned Italian Bread/ Soft Sub Rolls/ Wheat French Rolls/Wheat RollsTuscan Garden: Caesar Gourmet Restaurant Style CroutonsTyson: Mini Chicken Sandwiches/ Mini Chicken Sandwiches With Cheddar Cheese/ Mini Grilled Chicken SandwichesUnger's: Puff Pastry ShellsVachon: Carrot CakesValu Time: Wheat Bread White Enriched BreadVan De Kamp's:  Enriched Hot Dog Buns SlicedVillage Hearth: 100% Whole Wheat Bread/ Cottage Bread, Wheat/ Honey Wheat Bread/ Light 12 Grain Bread/ Light Italian Bread/ Light Wheat Bread/White Brat BunsWeight Watchers Smart Ones: English Muffin Sandwich, Canadian Style Bacon / English Muffin Sandwich, Egg Whites & Cheese/ Homestyle Turkey Breast With StuffingWhite Castle: Cheeseburgers/ Microwavable HamburgersWhite Rose: Stuffing MixWonder: Light Wheat Bread/ Potato Hot Dog Buns/ Texas Toast Bread .\n"
     ]
    }
   ],
   "source": [
    "data, info = tfds.load(name='cnn_dailymail', with_info=True)\n",
    "\n",
    "# Prefetching overlaps the preprocessing and model execution of a training\n",
    "# step. While the model executing training step s, the input pipeline is\n",
    "# reading data for step s+1.\n",
    "# The number of elements to prefetch should be equal to (or possibly greater\n",
    "# than) the number of batches consumed by a single training step. You could \n",
    "# either manually tune this value, or set it to tf.data.experimental.AUTOTUNE \n",
    "# which will prompt the tf.data runtime to tune the value dynamically at runtime.\n",
    "\n",
    "data_train = data['train'].prefetch(tf.data.experimental.AUTOTUNE)\n",
    "X_train = [record['article'].numpy() for record in data_train]\n",
    "\n",
    "# find the article with the longest text\n",
    "index, maximum = 0, 0\n",
    "for element, article in enumerate(X_train):\n",
    "    article_length = len(article.decode('utf-8'))\n",
    "    if article_length > maximum:\n",
    "        maximum = article_length\n",
    "        index = element    \n",
    "\n",
    "print(f\"[INFO] len(X_train): {len(X_train)}\")\n",
    "print(f\"[INFO] index: {index}\")\n",
    "print(f\"[INFO] maximum: {maximum}\")\n",
    "\n",
    "article_text = X_train[index]\n",
    "# print(f\"[DEBUG] type(article_text): {type(article_text)}\")\n",
    "article_text = article_text.decode('utf-8')\n",
    "# print(f\"[DEBUG] type(article_text): {type(article_text)}\")\n",
    "print(f\"[INFO] article_text: {article_text}\")"
   ]
  },
  {
   "cell_type": "markdown",
   "metadata": {},
   "source": [
    "## Preparing the Tokenizer"
   ]
  },
  {
   "cell_type": "code",
   "execution_count": 3,
   "metadata": {},
   "outputs": [
    {
     "name": "stdout",
     "output_type": "stream",
     "text": [
      "[INFO] unique_characters:  %&'(),-./01234589:?abcdefghijklmnopqrstuvwxyz| \n",
      "[INFO] ['First'] => [[22, 6, 4, 5, 7]]\n",
      "[INFO] [[22, 6, 4, 5, 7]] => ['f i r s t']\n"
     ]
    }
   ],
   "source": [
    "# print the set of all unique characters that exist in the text\n",
    "# NOTE: capitilization is lost during tokenization\n",
    "unique_characters = ''.join(sorted(set(article_text.lower())))\n",
    "print(f\"[INFO] unique_characters: {unique_characters}\")\n",
    "\n",
    "tokenizer = keras.preprocessing.text.Tokenizer(char_level=True)\n",
    "tokenizer.fit_on_texts(article_text)\n",
    "\n",
    "# print a sample to illustrate tokenziation\n",
    "text = ['First']\n",
    "text_tts = tokenizer.texts_to_sequences(text)\n",
    "print(f\"[INFO] {text} => {text_tts}\")\n",
    "text_stt = tokenizer.sequences_to_texts(text_tts)\n",
    "print(f\"[INFO] {text_tts} => {text_stt}\")\n",
    "\n",
    "# the results of this code on \"Alice's Adventures in Wonderland\"\n",
    "# !\"'()*,-.:;?[]_abcdefghijklmnopqrstuvwxyz﻿\n",
    "# ['First'] => [[22, 6, 10, 9, 3]]\n",
    "# [[22, 6, 10, 9, 3]] => ['f i r s t']"
   ]
  },
  {
   "cell_type": "markdown",
   "metadata": {},
   "source": [
    "## Preparing the Dataset"
   ]
  },
  {
   "cell_type": "code",
   "execution_count": 4,
   "metadata": {},
   "outputs": [
    {
     "name": "stdout",
     "output_type": "stream",
     "text": [
      "[INFO] X_batch.shape: (16, 100, 48)\n",
      "[INFO] Y_batch.shape: (16, 100)\n"
     ]
    }
   ],
   "source": [
    "# https://github.com/tensorflow/tensorflow/issues/38064\n",
    "# if validation set has less samples than hyperparameters error will occur\n",
    "# UnboundLocalError: local variable 'logs' referenced before assignment\n",
    "batch_size = 16 # 32\n",
    "dataset_size = tokenizer.document_count # total number of characters\n",
    "max_id = len(tokenizer.word_index) # number of distinct characters\n",
    "n_steps = 100\n",
    "train_size = dataset_size * 90 // 100\n",
    "window_length = n_steps + 1 # target = input shifted 1 character ahead\n",
    "\n",
    "[encoded] = np.array(tokenizer.texts_to_sequences([article_text])) - 1\n",
    "dataset = tf.data.Dataset.from_tensor_slices(encoded[:train_size])\n",
    "dataset = dataset.repeat().window(window_length, shift=1, drop_remainder=True)\n",
    "dataset = dataset.flat_map(lambda window: window.batch(window_length))\n",
    "dataset = dataset.shuffle(10000).batch(batch_size)\n",
    "dataset = dataset.map(lambda windows: (windows[:, :-1], windows[:, 1:]))\n",
    "dataset = dataset.map(lambda X_batch, Y_batch: (tf.one_hot(X_batch, depth=max_id), Y_batch))\n",
    "dataset = dataset.prefetch(1)\n",
    "\n",
    "for X_batch, Y_batch in dataset.take(1):\n",
    "    print(f\"[INFO] X_batch.shape: {X_batch.shape}\")\n",
    "    print(f\"[INFO] Y_batch.shape: {Y_batch.shape}\")"
   ]
  },
  {
   "cell_type": "markdown",
   "metadata": {},
   "source": [
    "## Stateful RNN"
   ]
  },
  {
   "cell_type": "code",
   "execution_count": 5,
   "metadata": {},
   "outputs": [
    {
     "name": "stdout",
     "output_type": "stream",
     "text": [
      "Epoch 1/50\n",
      "8/8 [==============================] - 1s 111ms/step - loss: 3.8116\n",
      "Epoch 2/50\n",
      "8/8 [==============================] - 1s 107ms/step - loss: 3.3993\n",
      "Epoch 3/50\n",
      "8/8 [==============================] - 1s 107ms/step - loss: 3.1339\n",
      "Epoch 4/50\n",
      "8/8 [==============================] - 1s 108ms/step - loss: 3.0796\n",
      "Epoch 5/50\n",
      "8/8 [==============================] - 1s 127ms/step - loss: 3.0418\n",
      "Epoch 6/50\n",
      "8/8 [==============================] - 1s 112ms/step - loss: 3.0075\n",
      "Epoch 7/50\n",
      "8/8 [==============================] - 1s 115ms/step - loss: 2.9715\n",
      "Epoch 8/50\n",
      "8/8 [==============================] - 1s 125ms/step - loss: 2.9228\n",
      "Epoch 9/50\n",
      "8/8 [==============================] - 1s 143ms/step - loss: 2.8606\n",
      "Epoch 10/50\n",
      "8/8 [==============================] - 1s 185ms/step - loss: 2.8017\n",
      "Epoch 11/50\n",
      "8/8 [==============================] - 1s 142ms/step - loss: 2.7404\n",
      "Epoch 12/50\n",
      "8/8 [==============================] - 1s 134ms/step - loss: 2.6821\n",
      "Epoch 13/50\n",
      "8/8 [==============================] - 1s 147ms/step - loss: 2.6241\n",
      "Epoch 14/50\n",
      "8/8 [==============================] - 1s 164ms/step - loss: 2.5774\n",
      "Epoch 15/50\n",
      "8/8 [==============================] - 2s 232ms/step - loss: 2.5288\n",
      "Epoch 16/50\n",
      "8/8 [==============================] - 1s 179ms/step - loss: 2.5066\n",
      "Epoch 17/50\n",
      "8/8 [==============================] - 1s 148ms/step - loss: 2.4710\n",
      "Epoch 18/50\n",
      "8/8 [==============================] - 1s 182ms/step - loss: 2.4527\n",
      "Epoch 19/50\n",
      "8/8 [==============================] - 1s 155ms/step - loss: 2.4190\n",
      "Epoch 20/50\n",
      "8/8 [==============================] - 1s 154ms/step - loss: 2.3995\n",
      "Epoch 21/50\n",
      "8/8 [==============================] - 2s 214ms/step - loss: 2.3866\n",
      "Epoch 22/50\n",
      "8/8 [==============================] - 2s 195ms/step - loss: 2.3686\n",
      "Epoch 23/50\n",
      "8/8 [==============================] - 1s 180ms/step - loss: 2.3430\n",
      "Epoch 24/50\n",
      "8/8 [==============================] - 2s 209ms/step - loss: 2.3231\n",
      "Epoch 25/50\n",
      "8/8 [==============================] - 1s 162ms/step - loss: 2.2960\n",
      "Epoch 26/50\n",
      "8/8 [==============================] - 1s 160ms/step - loss: 2.2883\n",
      "Epoch 27/50\n",
      "8/8 [==============================] - 1s 164ms/step - loss: 2.2684\n",
      "Epoch 28/50\n",
      "8/8 [==============================] - 1s 176ms/step - loss: 2.2463\n",
      "Epoch 29/50\n",
      "8/8 [==============================] - 1s 154ms/step - loss: 2.2351\n",
      "Epoch 30/50\n",
      "8/8 [==============================] - 1s 153ms/step - loss: 2.2279\n",
      "Epoch 31/50\n",
      "8/8 [==============================] - 1s 152ms/step - loss: 2.2093\n",
      "Epoch 32/50\n",
      "8/8 [==============================] - 1s 142ms/step - loss: 2.1947\n",
      "Epoch 33/50\n",
      "8/8 [==============================] - 1s 143ms/step - loss: 2.1656\n",
      "Epoch 34/50\n",
      "8/8 [==============================] - 1s 157ms/step - loss: 2.1457\n",
      "Epoch 35/50\n",
      "8/8 [==============================] - 1s 152ms/step - loss: 2.1396\n",
      "Epoch 36/50\n",
      "8/8 [==============================] - 1s 155ms/step - loss: 2.1278\n",
      "Epoch 37/50\n",
      "8/8 [==============================] - 1s 152ms/step - loss: 2.1331\n",
      "Epoch 38/50\n",
      "8/8 [==============================] - 1s 153ms/step - loss: 2.0994\n",
      "Epoch 39/50\n",
      "8/8 [==============================] - 1s 148ms/step - loss: 2.0811\n",
      "Epoch 40/50\n",
      "8/8 [==============================] - 1s 145ms/step - loss: 2.0680\n",
      "Epoch 41/50\n",
      "8/8 [==============================] - 1s 165ms/step - loss: 2.0550\n",
      "Epoch 42/50\n",
      "8/8 [==============================] - 1s 178ms/step - loss: 2.0330\n",
      "Epoch 43/50\n",
      "8/8 [==============================] - 1s 159ms/step - loss: 2.0239\n",
      "Epoch 44/50\n",
      "8/8 [==============================] - 1s 157ms/step - loss: 1.9989\n",
      "Epoch 45/50\n",
      "8/8 [==============================] - 1s 175ms/step - loss: 1.9773\n",
      "Epoch 46/50\n",
      "8/8 [==============================] - 1s 174ms/step - loss: 1.9781\n",
      "Epoch 47/50\n",
      "8/8 [==============================] - 1s 160ms/step - loss: 1.9642\n",
      "Epoch 48/50\n",
      "8/8 [==============================] - 1s 159ms/step - loss: 1.9476\n",
      "Epoch 49/50\n",
      "8/8 [==============================] - 1s 172ms/step - loss: 1.9230\n",
      "Epoch 50/50\n",
      "8/8 [==============================] - 1s 171ms/step - loss: 1.9162\n"
     ]
    }
   ],
   "source": [
    "datasets = []\n",
    "encoded_parts = np.array_split(encoded[:train_size], batch_size)\n",
    "\n",
    "dataset = tf.data.Dataset.from_tensor_slices(encoded[:train_size])\n",
    "dataset = dataset.window(window_length, shift=n_steps, drop_remainder=True)\n",
    "dataset = dataset.flat_map(lambda window: window.batch(window_length))\n",
    "dataset = dataset.repeat().batch(1)\n",
    "dataset = dataset.map(lambda windows: (windows[:, :-1], windows[:, 1:]))\n",
    "dataset = dataset.map(lambda X_batch, Y_batch: (tf.one_hot(X_batch, depth=max_id), Y_batch))\n",
    "dataset = dataset.prefetch(1)\n",
    "\n",
    "for encoded_part in encoded_parts:\n",
    "    dataset = tf.data.Dataset.from_tensor_slices(encoded_part)\n",
    "    dataset = dataset.window(window_length, drop_remainder=True, shift=n_steps)\n",
    "    dataset = dataset.flat_map(lambda window: window.batch(window_length))\n",
    "    datasets.append(dataset)\n",
    "    \n",
    "dataset = tf.data.Dataset.zip(tuple(datasets)).map(lambda *windows: tf.stack(windows))\n",
    "dataset = dataset.repeat().map(lambda windows: (windows[:, :-1], windows[:, 1:]))\n",
    "dataset = dataset.map(lambda X_batch, Y_batch: (tf.one_hot(X_batch, depth=max_id), Y_batch))\n",
    "dataset = dataset.prefetch(1)\n",
    "\n",
    "model = keras.models.Sequential()\n",
    "model.add(keras.layers.GRU(128, batch_input_shape=[batch_size, None, max_id], dropout=0.2, recurrent_dropout=0.2, return_sequences=True, stateful=True))\n",
    "model.add(keras.layers.GRU(128, dropout=0.2, recurrent_dropout=0.2, return_sequences=True, stateful=True))\n",
    "model.add(keras.layers.TimeDistributed(keras.layers.Dense(max_id, activation='softmax')))\n",
    "\n",
    "\n",
    "class ResetStatesCallback(keras.callbacks.Callback):\n",
    "    def on_epoch_begin(self, epoch, logs):\n",
    "        self.model.reset_states()\n",
    "\n",
    "        \n",
    "model.compile(loss='sparse_categorical_crossentropy', optimizer='adam')\n",
    "steps_per_epoch = train_size // batch_size // n_steps\n",
    "history = model.fit(dataset, callbacks=[ResetStatesCallback()], epochs=50, steps_per_epoch=steps_per_epoch)\n",
    "# history = model.fit(dataset, callbacks=[ResetStatesCallback()], epochs=5, steps_per_epoch=steps_per_epoch)\n",
    "\n",
    "stateless_model = keras.models.Sequential()\n",
    "stateless_model.add(keras.layers.GRU(128, input_shape=[None, max_id], return_sequences=True))\n",
    "stateless_model.add(keras.layers.GRU(128, return_sequences=True))\n",
    "stateless_model.add(keras.layers.TimeDistributed(keras.layers.Dense(max_id, activation='softmax')))\n",
    "\n",
    "stateless_model.build(tf.TensorShape([None, None, max_id]))\n",
    "stateless_model.set_weights(model.get_weights())\n",
    "model = stateless_model"
   ]
  },
  {
   "cell_type": "markdown",
   "metadata": {},
   "source": [
    "## Using the Model to Generate Text"
   ]
  },
  {
   "cell_type": "code",
   "execution_count": 6,
   "metadata": {},
   "outputs": [
    {
     "name": "stdout",
     "output_type": "stream",
     "text": [
      "[INFO] random_samples: [[0 0 1 0 0 0 0 0 2 0 1 0 0 0 0 2 1 0 0 1 1 1 0 0 0 0 0 1 0 1]]\n",
      "WARNING:tensorflow:From <ipython-input-6-3f9d8f1e8309>:26: Sequential.predict_classes (from tensorflow.python.keras.engine.sequential) is deprecated and will be removed after 2021-01-01.\n",
      "Instructions for updating:\n",
      "Please use instead:* `np.argmax(model.predict(x), axis=-1)`,   if your model does multi-class classification   (e.g. if it uses a `softmax` last-layer activation).* `(model.predict(x) > 0.5).astype(\"int32\")`,   if your model does binary classification   (e.g. if it uses a `sigmoid` last-layer activation).\n"
     ]
    },
    {
     "name": "stderr",
     "output_type": "stream",
     "text": [
      "WARNING:tensorflow:From <ipython-input-6-3f9d8f1e8309>:26: Sequential.predict_classes (from tensorflow.python.keras.engine.sequential) is deprecated and will be removed after 2021-01-01.\n",
      "Instructions for updating:\n",
      "Please use instead:* `np.argmax(model.predict(x), axis=-1)`,   if your model does multi-class classification   (e.g. if it uses a `softmax` last-layer activation).* `(model.predict(x) > 0.5).astype(\"int32\")`,   if your model does binary classification   (e.g. if it uses a `sigmoid` last-layer activation).\n"
     ]
    },
    {
     "name": "stdout",
     "output_type": "stream",
     "text": [
      "[INFO] last_charcter: <g>\n",
      "[INFO] next_char('How are yo', temperature=1): a\n",
      "[INFO] complete_text('t', temperature=0.2): ty partich bread/ sandwich bread/ sandwiched bread/\n",
      "[INFO] complete_text('t', temperature=1): t'53  itho bread/ hot whole steeds/ prr dish, finsa\n",
      "[INFO] complete_text('t', temperature=2): t/(|ogafir poot1 texfblean:o:l,ex d  & salebustadri\n"
     ]
    }
   ],
   "source": [
    "def complete_text(text, n_chars=50, temperature=1):\n",
    "    for _ in range(n_chars):\n",
    "        text += next_char(text, temperature)\n",
    "    return text\n",
    "\n",
    "\n",
    "def next_char(text, temperature=1):\n",
    "    X_new = preprocess([text])\n",
    "    y_proba = model.predict(X_new)[0, -1:, :]\n",
    "    rescaled_logits = tf.math.log(y_proba) / temperature\n",
    "    char_id = tf.random.categorical(rescaled_logits, num_samples=1) + 1\n",
    "    return tokenizer.sequences_to_texts(char_id.numpy())[0]\n",
    "\n",
    "\n",
    "def preprocess(texts):\n",
    "    X = np.array(tokenizer.texts_to_sequences(texts)) - 1\n",
    "    return tf.one_hot(X, max_id)\n",
    "\n",
    "\n",
    "# print random samples to illustrate char_id calculation\n",
    "random_samples = tf.random.categorical([[np.log(0.5), np.log(0.4), np.log(0.1)]], num_samples=30).numpy()\n",
    "print(f\"[INFO] random_samples: {random_samples}\")\n",
    "\n",
    "# if the model is good, this should print \"u\", the missing letter\n",
    "X_new = preprocess(['How are yo'])\n",
    "Y_pred = model.predict_classes(X_new)\n",
    "last_charcter = tokenizer.sequences_to_texts(Y_pred + 1)[0][-1]\n",
    "print(f\"[INFO] last_charcter: <{last_charcter}>\")\n",
    "\n",
    "# print some sample text with varying temperatures\n",
    "print(f\"[INFO] next_char('How are yo', temperature=1): {next_char('How are yo', temperature=1)}\")\n",
    "print(f\"[INFO] complete_text('t', temperature=0.2): {complete_text('t', temperature=0.2)}\")\n",
    "print(f\"[INFO] complete_text('t', temperature=1): {complete_text('t', temperature=1)}\")\n",
    "print(f\"[INFO] complete_text('t', temperature=2): {complete_text('t', temperature=2)}\")"
   ]
  },
  {
   "cell_type": "code",
   "execution_count": null,
   "metadata": {},
   "outputs": [],
   "source": []
  }
 ],
 "metadata": {
  "kernelspec": {
   "display_name": "Python 3",
   "language": "python",
   "name": "python3"
  },
  "language_info": {
   "codemirror_mode": {
    "name": "ipython",
    "version": 3
   },
   "file_extension": ".py",
   "mimetype": "text/x-python",
   "name": "python",
   "nbconvert_exporter": "python",
   "pygments_lexer": "ipython3",
   "version": "3.8.2"
  }
 },
 "nbformat": 4,
 "nbformat_minor": 4
}
