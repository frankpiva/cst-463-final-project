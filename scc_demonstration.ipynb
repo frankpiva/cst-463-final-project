{
 "cells": [
  {
   "cell_type": "markdown",
   "metadata": {},
   "source": [
    "## Sparse Categorical Crossentropy Demonstration\n",
    "\n",
    "Credit: Keras Documentation\n",
    "\n",
    "Source: https://keras.io/api/losses/probabilistic_losses/#sparsecategoricalcrossentropy-function\n",
    "\n",
    "As we can see if the example below, the sparse categorical crossentropy loss does not care about a one-hot encoded value's distance from the true value. In the manufactured example the true value is always 0, and the predictions of 1 and 2 both evaluate to the same amount of error."
   ]
  },
  {
   "cell_type": "code",
   "execution_count": 16,
   "metadata": {},
   "outputs": [
    {
     "name": "stdout",
     "output_type": "stream",
     "text": [
      "Keras Documentation Example\n",
      "loss: [0.0513 2.3026]\n",
      "\n",
      "Manufactured Example\n",
      "loss: [0.2231 2.3026 2.3026]\n"
     ]
    }
   ],
   "source": [
    "from math import pi\n",
    "\n",
    "import numpy as np\n",
    "import tensorflow as tf\n",
    "\n",
    "np.set_printoptions(precision=4)\n",
    "\n",
    "print('Keras Documentation Example')\n",
    "y_true = [1, 2]\n",
    "y_pred = [[0.05, 0.95, 0], [0.1, 0.8, 0.1]]\n",
    "loss = tf.keras.losses.sparse_categorical_crossentropy(y_true, y_pred)\n",
    "assert loss.shape == (2,)\n",
    "print(f\"loss: {loss.numpy()}\\n\")\n",
    "# array([0.0513, 2.303], dtype=float32)\n",
    "\n",
    "print('Manufactured Example')\n",
    "y_true = [0, 0, 0]\n",
    "y_pred = [[0.8, 0.1, 0.1], [0.1, 0.8, 0.1], [0.1,0.1,0.8]]\n",
    "loss = tf.keras.losses.sparse_categorical_crossentropy(y_true, y_pred)\n",
    "assert loss.shape == (3,)\n",
    "print(f\"loss: {loss.numpy()}\")\n",
    "# array([0.0513, 2.303], dtype=float32)\n"
   ]
  },
  {
   "cell_type": "code",
   "execution_count": null,
   "metadata": {},
   "outputs": [],
   "source": []
  }
 ],
 "metadata": {
  "kernelspec": {
   "display_name": "Python 3",
   "language": "python",
   "name": "python3"
  },
  "language_info": {
   "codemirror_mode": {
    "name": "ipython",
    "version": 3
   },
   "file_extension": ".py",
   "mimetype": "text/x-python",
   "name": "python",
   "nbconvert_exporter": "python",
   "pygments_lexer": "ipython3",
   "version": "3.8.2"
  }
 },
 "nbformat": 4,
 "nbformat_minor": 4
}
