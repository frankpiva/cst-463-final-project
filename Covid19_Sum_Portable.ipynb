{
 "cells": [
  {
   "cell_type": "markdown",
   "metadata": {
    "id": "_vyQj-x9LAtj"
   },
   "source": [
    "This kernel is an abstractive text summarizer that attempts to create novel summaries of Covid-19 research articles. We train on articles using their abstracts as targets, test on articles without abstracts. \n",
    "\n",
    "*** Colab crashes if articles are over 1000 in length. only 18% of the articles are < 1000. this is a problem***\n",
    "- ideas:\n",
    "  - pay for a better service\n",
    "  - split the articles into batches of len 800 and give them the same abstract\n",
    "    - frank had the idea that we would have to put the snippets back together. \n",
    "    - test with splits of 800 and compare to performance if we recombine the snippets.\n",
    "  - try on local machine before paying for anything\n"
   ]
  },
  {
   "cell_type": "markdown",
   "metadata": {
    "id": "snkAMhYRLoDa"
   },
   "source": [
    "# Imports"
   ]
  },
  {
   "cell_type": "code",
   "execution_count": 1,
   "metadata": {
    "id": "-1xsakQrK2eS"
   },
   "outputs": [],
   "source": [
    "import tensorflow as tf\n",
    "import numpy as np\n",
    "import nltk\n",
    "import pandas as pd \n",
    "import re\n",
    "import json\n",
    "import os\n",
    "from bs4 import BeautifulSoup\n",
    "from keras.preprocessing.text import Tokenizer \n",
    "from keras.preprocessing.sequence import pad_sequences\n",
    "from nltk.corpus import stopwords\n",
    "from tensorflow.keras.layers import Input, LSTM, Embedding, Dense, Concatenate, TimeDistributed, Layer, Bidirectional, Attention\n",
    "from tensorflow.keras.models import Model\n",
    "from tensorflow.keras.callbacks import EarlyStopping\n",
    "import warnings\n",
    "pd.set_option(\"display.max_colwidth\", 200)\n",
    "warnings.filterwarnings(\"ignore\")"
   ]
  },
  {
   "cell_type": "code",
   "execution_count": 2,
   "metadata": {
    "id": "OthsW3cJLwH8"
   },
   "outputs": [],
   "source": [
    "data1=pd.read_csv('articles/data_b1.csv')\n",
    "data2=pd.read_csv('articles/data_b2.csv')\n",
    "data3=pd.read_csv('articles/data_b3.csv')\n",
    "data4=pd.read_csv('articles/data_b4.csv')\n",
    "data5=pd.read_csv('articles/data_b5.csv')\n",
    "data6=pd.read_csv('articles/data_b6.csv')\n",
    "data7=pd.read_csv('articles/data_b7.csv')\n",
    "data8=pd.read_csv('articles/data_bL.csv')"
   ]
  },
  {
   "cell_type": "code",
   "execution_count": 3,
   "metadata": {
    "id": "1bb6ondHcb5U"
   },
   "outputs": [],
   "source": [
    "frames = [data1,data2,data3,data4,data5,data6,data7,data8]"
   ]
  },
  {
   "cell_type": "code",
   "execution_count": 4,
   "metadata": {
    "id": "oiedYpbgd2Y7"
   },
   "outputs": [],
   "source": [
    "data = pd.concat(frames)"
   ]
  },
  {
   "cell_type": "code",
   "execution_count": 5,
   "metadata": {
    "id": "nAlpOMtFu_Yj"
   },
   "outputs": [],
   "source": [
    "del data1, data2, data3, data4, data5, data6, data7, data8, frames"
   ]
  },
  {
   "cell_type": "code",
   "execution_count": 6,
   "metadata": {
    "colab": {
     "base_uri": "https://localhost:8080/"
    },
    "id": "OozhRrK4QiKb",
    "outputId": "c7e0ffa3-f07b-49f4-c1b2-f4d6580829db"
   },
   "outputs": [
    {
     "name": "stdout",
     "output_type": "stream",
     "text": [
      "<class 'pandas.core.frame.DataFrame'>\n",
      "Int64Index: 11511 entries, 0 to 2045\n",
      "Data columns (total 5 columns):\n",
      " #   Column           Non-Null Count  Dtype \n",
      "---  ------           --------------  ----- \n",
      " 0   Unnamed: 0       11511 non-null  int64 \n",
      " 1   Text             11511 non-null  object\n",
      " 2   Summary          11511 non-null  object\n",
      " 3   cleaned_text     11511 non-null  object\n",
      " 4   cleaned_summary  11511 non-null  object\n",
      "dtypes: int64(1), object(4)\n",
      "memory usage: 539.6+ KB\n"
     ]
    }
   ],
   "source": [
    "data.info()"
   ]
  },
  {
   "cell_type": "markdown",
   "metadata": {
    "id": "ZSmPGBCVLyP0"
   },
   "source": [
    "# Covid19Sum Dataset"
   ]
  },
  {
   "cell_type": "markdown",
   "metadata": {
    "id": "PVlUQSCgL6XN"
   },
   "source": [
    "## The metadata"
   ]
  },
  {
   "cell_type": "code",
   "execution_count": 7,
   "metadata": {
    "id": "gLCH-gXUL5G9"
   },
   "outputs": [],
   "source": [
    "# data_dir = \"/content/drive/Shared drives/Abstractive Text Summarization/metadata.csv\"\n",
    "# meta=pd.read_csv(data_dir)"
   ]
  },
  {
   "cell_type": "markdown",
   "metadata": {
    "id": "XoDSr0jpNpCy"
   },
   "source": [
    "## Data collection and preprocessing"
   ]
  },
  {
   "cell_type": "markdown",
   "metadata": {
    "id": "DeGK-9UWnlLs"
   },
   "source": []
  },
  {
   "cell_type": "markdown",
   "metadata": {
    "id": "RiCOhZF9MCxS"
   },
   "source": [
    "The pdf articles have abstracts, while the xml articles do not."
   ]
  },
  {
   "cell_type": "code",
   "execution_count": 8,
   "metadata": {
    "id": "_yN4dGUWL-wh"
   },
   "outputs": [],
   "source": [
    "# #PDF articles (for training)\n",
    "# os.chdir(\"/content/drive/Shared drives/Covid Summary Data/covid sum sample pdf\")\n",
    "# print(len(os.listdir()))"
   ]
  },
  {
   "cell_type": "markdown",
   "metadata": {
    "id": "08xOsP0GNynb"
   },
   "source": []
  },
  {
   "cell_type": "code",
   "execution_count": 9,
   "metadata": {
    "id": "zKzg6MOEMVTo"
   },
   "outputs": [],
   "source": [
    "#XML articles (for testing)\n",
    "# os.chdir(\"/content/drive/Shared drives/Abstractive Text Summarization/covid sum sample\")\n",
    "# os.listdir()"
   ]
  },
  {
   "cell_type": "markdown",
   "metadata": {
    "id": "OmdnGu6TMonQ"
   },
   "source": [
    "Here we parse the body of the articles and the abstracts"
   ]
  },
  {
   "cell_type": "code",
   "execution_count": 10,
   "metadata": {
    "id": "O2VcqA6_MnJp"
   },
   "outputs": [],
   "source": [
    "# #articles for train\n",
    "# articles_abstract = list()\n",
    "# articles_body = list()\n",
    "# for i in os.listdir():\n",
    "#  # print(i)\n",
    "#   with open(i) as json_file:\n",
    "#     itemDataPDF = json.load(json_file)\n",
    "#     text_collection_body = \"\"\n",
    "#     text_collection_abstract = \"\"\n",
    "#     for body_text in itemDataPDF['body_text']:\n",
    "#       # cov_test1.append(text['text'])\n",
    "#      # print(body_text['text'])\n",
    "#       text_collection_body = text_collection_body + body_text[\"text\"]\n",
    "#     for abs_text in itemDataPDF['abstract']:\n",
    "#      # print(abs_text['text'])\n",
    "#       text_collection_abstract = text_collection_abstract + abs_text['text']\n",
    "#   articles_body.append(text_collection_body)\n",
    "#   articles_abstract.append(text_collection_abstract)\n",
    "\n",
    "#   # break;\n",
    "# # with open('PMC442122.xml.json') as json_file:\n",
    "# #     itemData = json.load(json_file)\n"
   ]
  },
  {
   "cell_type": "code",
   "execution_count": 11,
   "metadata": {
    "id": "ulq2eZ7WM8JD"
   },
   "outputs": [],
   "source": [
    "# print(articles_abstract[1])"
   ]
  },
  {
   "cell_type": "code",
   "execution_count": 12,
   "metadata": {
    "id": "dcmoYQkANCw_"
   },
   "outputs": [],
   "source": [
    "#the body still has the section attatched. need to remove\n",
    "# print(articles_body[1])"
   ]
  },
  {
   "cell_type": "code",
   "execution_count": 13,
   "metadata": {
    "id": "WzOKtcrDNJS1"
   },
   "outputs": [],
   "source": [
    "# #checking that number of articles and abstracts match \n",
    "# #if they do not match, more processing is needed\n",
    "# print('number of abstracts',len(articles_abstract))\n",
    "# print('number of articles',len(articles_body))"
   ]
  },
  {
   "cell_type": "code",
   "execution_count": 14,
   "metadata": {
    "id": "_5_CcYDiNkQa"
   },
   "outputs": [],
   "source": [
    "#change to np array\n",
    "# articles = np.array(articles_body)\n",
    "# summary = np.array(articles_abstract)"
   ]
  },
  {
   "cell_type": "markdown",
   "metadata": {
    "id": "732bsFItOIvv"
   },
   "source": [
    "# AttentionLayer"
   ]
  },
  {
   "cell_type": "code",
   "execution_count": 15,
   "metadata": {
    "id": "w3qjv5vTONr4"
   },
   "outputs": [],
   "source": [
    "class AttentionLayer(Layer):\n",
    "    \"\"\"\n",
    "    This class implements Bahdanau attention (https://arxiv.org/pdf/1409.0473.pdf).\n",
    "    There are three sets of weights introduced W_a, U_a, and V_a\n",
    "     \"\"\"\n",
    "\n",
    "    def __init__(self, **kwargs):\n",
    "        super(AttentionLayer, self).__init__(**kwargs)\n",
    "\n",
    "    def build(self, input_shape):\n",
    "        assert isinstance(input_shape, list)\n",
    "        # Create a trainable weight variable for this layer.\n",
    "\n",
    "        self.W_a = self.add_weight(name='W_a',\n",
    "                                   shape=tf.TensorShape((input_shape[0][2], input_shape[0][2])),\n",
    "                                   initializer='uniform',\n",
    "                                   trainable=True)\n",
    "        self.U_a = self.add_weight(name='U_a',\n",
    "                                   shape=tf.TensorShape((input_shape[1][2], input_shape[0][2])),\n",
    "                                   initializer='uniform',\n",
    "                                   trainable=True)\n",
    "        self.V_a = self.add_weight(name='V_a',\n",
    "                                   shape=tf.TensorShape((input_shape[0][2], 1)),\n",
    "                                   initializer='uniform',\n",
    "                                   trainable=True)\n",
    "\n",
    "        super(AttentionLayer, self).build(input_shape)  # Be sure to call this at the end\n",
    "\n",
    "    def call(self, inputs, verbose=False):\n",
    "        \"\"\"\n",
    "        inputs: [encoder_output_sequence, decoder_output_sequence]\n",
    "        \"\"\"\n",
    "        assert type(inputs) == list\n",
    "        encoder_out_seq, decoder_out_seq = inputs\n",
    "        if verbose:\n",
    "            print('encoder_out_seq>', encoder_out_seq.shape)\n",
    "            print('decoder_out_seq>', decoder_out_seq.shape)\n",
    "\n",
    "        def energy_step(inputs, states):\n",
    "            \"\"\" Step function for computing energy for a single decoder state\n",
    "            inputs: (batchsize * 1 * de_in_dim)\n",
    "            states: (batchsize * 1 * de_latent_dim)\n",
    "            \"\"\"\n",
    "\n",
    "            assert_msg = \"States must be an iterable. Got {} of type {}\".format(states, type(states))\n",
    "            assert isinstance(states, list) or isinstance(states, tuple), assert_msg\n",
    "\n",
    "            \"\"\" Some parameters required for shaping tensors\"\"\"\n",
    "            en_seq_len, en_hidden = encoder_out_seq.shape[1], encoder_out_seq.shape[2]\n",
    "            de_hidden = inputs.shape[-1]\n",
    "\n",
    "            \"\"\" Computing S.Wa where S=[s0, s1, ..., si]\"\"\"\n",
    "            # <= batch size * en_seq_len * latent_dim\n",
    "            W_a_dot_s = K.dot(encoder_out_seq, self.W_a)\n",
    "\n",
    "            \"\"\" Computing hj.Ua \"\"\"\n",
    "            U_a_dot_h = K.expand_dims(K.dot(inputs, self.U_a), 1)  # <= batch_size, 1, latent_dim\n",
    "            if verbose:\n",
    "                print('Ua.h>', U_a_dot_h.shape)\n",
    "\n",
    "            \"\"\" tanh(S.Wa + hj.Ua) \"\"\"\n",
    "            # <= batch_size*en_seq_len, latent_dim\n",
    "            Ws_plus_Uh = K.tanh(W_a_dot_s + U_a_dot_h)\n",
    "            if verbose:\n",
    "                print('Ws+Uh>', Ws_plus_Uh.shape)\n",
    "\n",
    "            \"\"\" softmax(va.tanh(S.Wa + hj.Ua)) \"\"\"\n",
    "            # <= batch_size, en_seq_len\n",
    "            e_i = K.squeeze(K.dot(Ws_plus_Uh, self.V_a), axis=-1)\n",
    "            # <= batch_size, en_seq_len\n",
    "            e_i = K.softmax(e_i)\n",
    "\n",
    "            if verbose:\n",
    "                print('ei>', e_i.shape)\n",
    "\n",
    "            return e_i, [e_i]\n",
    "\n",
    "        def context_step(inputs, states):\n",
    "            \"\"\" Step function for computing ci using ei \"\"\"\n",
    "\n",
    "            assert_msg = \"States must be an iterable. Got {} of type {}\".format(states, type(states))\n",
    "            assert isinstance(states, list) or isinstance(states, tuple), assert_msg\n",
    "\n",
    "            # <= batch_size, hidden_size\n",
    "            c_i = K.sum(encoder_out_seq * K.expand_dims(inputs, -1), axis=1)\n",
    "            if verbose:\n",
    "                print('ci>', c_i.shape)\n",
    "            return c_i, [c_i]\n",
    "\n",
    "        fake_state_c = K.sum(encoder_out_seq, axis=1)\n",
    "        fake_state_e = K.sum(encoder_out_seq, axis=2)  # <= (batch_size, enc_seq_len, latent_dim\n",
    "\n",
    "        \"\"\" Computing energy outputs \"\"\"\n",
    "        # e_outputs => (batch_size, de_seq_len, en_seq_len)\n",
    "        last_out, e_outputs, _ = K.rnn(\n",
    "            energy_step, decoder_out_seq, [fake_state_e],\n",
    "        )\n",
    "\n",
    "        \"\"\" Computing context vectors \"\"\"\n",
    "        last_out, c_outputs, _ = K.rnn(\n",
    "            context_step, e_outputs, [fake_state_c],\n",
    "        )\n",
    "\n",
    "        return c_outputs, e_outputs\n",
    "\n",
    "    def compute_output_shape(self, input_shape):\n",
    "        \"\"\" Outputs produced by the layer \"\"\"\n",
    "        return [\n",
    "            tf.TensorShape((input_shape[1][0], input_shape[1][1], input_shape[1][2])),\n",
    "            tf.TensorShape((input_shape[1][0], input_shape[1][1], input_shape[0][1]))\n",
    "        ]"
   ]
  },
  {
   "cell_type": "markdown",
   "metadata": {
    "id": "c0dIj8v9WEaD"
   },
   "source": [
    "# Creating Dataframe"
   ]
  },
  {
   "cell_type": "code",
   "execution_count": 16,
   "metadata": {
    "id": "ugRjk4_dTNpv"
   },
   "outputs": [],
   "source": [
    "# #creates \"nice\" string? not sure if this is necessary\n",
    "# def to_string_trim(line):\n",
    "#   return str(line)[2:-2]"
   ]
  },
  {
   "cell_type": "code",
   "execution_count": 17,
   "metadata": {
    "id": "bn94RBLIMSqT"
   },
   "outputs": [],
   "source": [
    "# X_test = np.array(list(map(to_string_trim, np.array(articles_body))))\n",
    "# y_test = np.array(list(map(to_string_trim, np.array(articles_abstract))))"
   ]
  },
  {
   "cell_type": "code",
   "execution_count": 18,
   "metadata": {
    "id": "GSxzAJH6UuIr"
   },
   "outputs": [],
   "source": [
    "# X_test = np.array(list(map(to_string_trim, articles)))\n",
    "# y_test = np.array(list(map(to_string_trim, summary)))\n"
   ]
  },
  {
   "cell_type": "code",
   "execution_count": 19,
   "metadata": {
    "id": "ftka7cKpV0qy"
   },
   "outputs": [],
   "source": [
    "# data = pd.DataFrame({\"Text\":X_test, \"Summary\":y_test})"
   ]
  },
  {
   "cell_type": "code",
   "execution_count": 20,
   "metadata": {
    "id": "bV96Hm4EV90E"
   },
   "outputs": [],
   "source": [
    "# data.info()"
   ]
  },
  {
   "cell_type": "markdown",
   "metadata": {
    "id": "hHH0Py7nWMGu"
   },
   "source": [
    "# Preprocessing\n"
   ]
  },
  {
   "cell_type": "markdown",
   "metadata": {
    "id": "zgtXuF1sWP4b"
   },
   "source": [
    "Some of the preprocessing may be redundant. Not sure if contraction_mapping is necssary, research articles shouldn't have many contractions."
   ]
  },
  {
   "cell_type": "code",
   "execution_count": 21,
   "metadata": {
    "id": "hq6zWzeOWapC"
   },
   "outputs": [],
   "source": [
    "# contraction_mapping = {\"ain't\": \"is not\", \"aren't\": \"are not\",\"can't\": \"cannot\", \"'cause\": \"because\", \"could've\": \"could have\", \"couldn't\": \"could not\",\n",
    "#                            \"didn't\": \"did not\",  \"doesn't\": \"does not\", \"don't\": \"do not\", \"hadn't\": \"had not\", \"hasn't\": \"has not\", \"haven't\": \"have not\",\n",
    "#                            \"he'd\": \"he would\",\"he'll\": \"he will\", \"he's\": \"he is\", \"how'd\": \"how did\", \"how'd'y\": \"how do you\", \"how'll\": \"how will\", \"how's\": \"how is\",\n",
    "#                            \"I'd\": \"I would\", \"I'd've\": \"I would have\", \"I'll\": \"I will\", \"I'll've\": \"I will have\",\"I'm\": \"I am\", \"I've\": \"I have\", \"i'd\": \"i would\",\n",
    "#                            \"i'd've\": \"i would have\", \"i'll\": \"i will\",  \"i'll've\": \"i will have\",\"i'm\": \"i am\", \"i've\": \"i have\", \"isn't\": \"is not\", \"it'd\": \"it would\",\n",
    "#                            \"it'd've\": \"it would have\", \"it'll\": \"it will\", \"it'll've\": \"it will have\",\"it's\": \"it is\", \"let's\": \"let us\", \"ma'am\": \"madam\",\n",
    "#                            \"mayn't\": \"may not\", \"might've\": \"might have\",\"mightn't\": \"might not\",\"mightn't've\": \"might not have\", \"must've\": \"must have\",\n",
    "#                            \"mustn't\": \"must not\", \"mustn't've\": \"must not have\", \"needn't\": \"need not\", \"needn't've\": \"need not have\",\"o'clock\": \"of the clock\",\n",
    "#                            \"oughtn't\": \"ought not\", \"oughtn't've\": \"ought not have\", \"shan't\": \"shall not\", \"sha'n't\": \"shall not\", \"shan't've\": \"shall not have\",\n",
    "#                            \"she'd\": \"she would\", \"she'd've\": \"she would have\", \"she'll\": \"she will\", \"she'll've\": \"she will have\", \"she's\": \"she is\",\n",
    "#                            \"should've\": \"should have\", \"shouldn't\": \"should not\", \"shouldn't've\": \"should not have\", \"so've\": \"so have\",\"so's\": \"so as\",\n",
    "#                            \"this's\": \"this is\",\"that'd\": \"that would\", \"that'd've\": \"that would have\", \"that's\": \"that is\", \"there'd\": \"there would\",\n",
    "#                            \"there'd've\": \"there would have\", \"there's\": \"there is\", \"here's\": \"here is\",\"they'd\": \"they would\", \"they'd've\": \"they would have\",\n",
    "#                            \"they'll\": \"they will\", \"they'll've\": \"they will have\", \"they're\": \"they are\", \"they've\": \"they have\", \"to've\": \"to have\",\n",
    "#                            \"wasn't\": \"was not\", \"we'd\": \"we would\", \"we'd've\": \"we would have\", \"we'll\": \"we will\", \"we'll've\": \"we will have\", \"we're\": \"we are\",\n",
    "#                            \"we've\": \"we have\", \"weren't\": \"were not\", \"what'll\": \"what will\", \"what'll've\": \"what will have\", \"what're\": \"what are\",\n",
    "#                            \"what's\": \"what is\", \"what've\": \"what have\", \"when's\": \"when is\", \"when've\": \"when have\", \"where'd\": \"where did\", \"where's\": \"where is\",\n",
    "#                            \"where've\": \"where have\", \"who'll\": \"who will\", \"who'll've\": \"who will have\", \"who's\": \"who is\", \"who've\": \"who have\",\n",
    "#                            \"why's\": \"why is\", \"why've\": \"why have\", \"will've\": \"will have\", \"won't\": \"will not\", \"won't've\": \"will not have\",\n",
    "#                            \"would've\": \"would have\", \"wouldn't\": \"would not\", \"wouldn't've\": \"would not have\", \"y'all\": \"you all\",\n",
    "#                            \"y'all'd\": \"you all would\",\"y'all'd've\": \"you all would have\",\"y'all're\": \"you all are\",\"y'all've\": \"you all have\",\n",
    "#                            \"you'd\": \"you would\", \"you'd've\": \"you would have\", \"you'll\": \"you will\", \"you'll've\": \"you will have\",\n",
    "#                            \"you're\": \"you are\", \"you've\": \"you have\"}"
   ]
  },
  {
   "cell_type": "code",
   "execution_count": 22,
   "metadata": {
    "id": "7gDrj59XWiJ3"
   },
   "outputs": [],
   "source": [
    "# #removes HTML tags no necessary, contraction mapping?,\n",
    "# # remove('s) and parenthesis may be useful\n",
    "# import nltk\n",
    "# nltk.download('stopwords')\n",
    "\n",
    "# stop_words = set(stopwords.words('english')) \n",
    "\n",
    "# def text_cleaner(text,num):\n",
    "#     newString = text.lower()\n",
    "#     newString = BeautifulSoup(newString, \"lxml\").text\n",
    "#     newString = re.sub(r'\\([^)]*\\)', '', newString)\n",
    "#     newString = re.sub('\"','', newString)\n",
    "#     newString = ' '.join([contraction_mapping[t] if t in contraction_mapping else t for t in newString.split(\" \")])    \n",
    "#     newString = re.sub(r\"'s\\b\",\"\",newString)\n",
    "#     newString = re.sub(\"[^a-zA-Z]\", \" \", newString) \n",
    "#     newString = re.sub('[m]{2,}', 'mm', newString)\n",
    "#     if(num==0):\n",
    "#         tokens = [w for w in newString.split() if not w in stop_words]\n",
    "#     else:\n",
    "#         tokens=newString.split()\n",
    "#     long_words=[]\n",
    "#     for i in tokens:\n",
    "#         if len(i)>1:                                                 #removing short word\n",
    "#             long_words.append(i)   \n",
    "#     return (\" \".join(long_words)).strip()"
   ]
  },
  {
   "cell_type": "code",
   "execution_count": 23,
   "metadata": {
    "id": "naiNwGPcW5QD"
   },
   "outputs": [],
   "source": [
    "# #call the function\n",
    "# cleaned_text = []\n",
    "# for t in data['Text']:\n",
    "#     cleaned_text.append(text_cleaner(t,0)) "
   ]
  },
  {
   "cell_type": "code",
   "execution_count": 24,
   "metadata": {
    "id": "PsIrywL5W-LL"
   },
   "outputs": [],
   "source": [
    "# cleaned_text[:5]  "
   ]
  },
  {
   "cell_type": "code",
   "execution_count": 25,
   "metadata": {
    "id": "SnGJg9AuW_49"
   },
   "outputs": [],
   "source": [
    "# #call the function\n",
    "# cleaned_summary = []\n",
    "# for t in data['Summary']:\n",
    "#     cleaned_summary.append(text_cleaner(t,1))"
   ]
  },
  {
   "cell_type": "code",
   "execution_count": 26,
   "metadata": {
    "id": "lwlEkoT7XBZZ"
   },
   "outputs": [],
   "source": [
    "# cleaned_summary[:10]"
   ]
  },
  {
   "cell_type": "code",
   "execution_count": 27,
   "metadata": {
    "id": "vpMRsWJxXDDh"
   },
   "outputs": [],
   "source": [
    "# data['cleaned_text']=cleaned_text\n",
    "# data['cleaned_summary']=cleaned_summary"
   ]
  },
  {
   "cell_type": "markdown",
   "metadata": {
    "id": "HmMXPrfpXGjM"
   },
   "source": [
    "shouldnt have any empty rows, but just incase:\n",
    "*turns out its needed*"
   ]
  },
  {
   "cell_type": "code",
   "execution_count": 28,
   "metadata": {
    "id": "2qSdqUkRXKKR"
   },
   "outputs": [],
   "source": [
    "# data.replace('', np.nan, inplace=True)\n",
    "# data.dropna(axis=0,inplace=True)"
   ]
  },
  {
   "cell_type": "code",
   "execution_count": 29,
   "metadata": {
    "colab": {
     "base_uri": "https://localhost:8080/"
    },
    "id": "cnhkcE52LGvK",
    "outputId": "221b0dd6-e5ae-4a71-e559-b9ca02d891e8"
   },
   "outputs": [
    {
     "name": "stdout",
     "output_type": "stream",
     "text": [
      "<class 'pandas.core.frame.DataFrame'>\n",
      "Int64Index: 11511 entries, 0 to 2045\n",
      "Data columns (total 5 columns):\n",
      " #   Column           Non-Null Count  Dtype \n",
      "---  ------           --------------  ----- \n",
      " 0   Unnamed: 0       11511 non-null  int64 \n",
      " 1   Text             11511 non-null  object\n",
      " 2   Summary          11511 non-null  object\n",
      " 3   cleaned_text     11511 non-null  object\n",
      " 4   cleaned_summary  11511 non-null  object\n",
      "dtypes: int64(1), object(4)\n",
      "memory usage: 539.6+ KB\n"
     ]
    }
   ],
   "source": [
    "data.info()"
   ]
  },
  {
   "cell_type": "code",
   "execution_count": 30,
   "metadata": {
    "id": "R_vvfGN_N_4G"
   },
   "outputs": [],
   "source": [
    "# with open('/content/drive/Shared drives/Abstractive Text Summarization/data.csv', 'w') as f:\n",
    "#   data.to_csv(f)"
   ]
  },
  {
   "cell_type": "markdown",
   "metadata": {
    "id": "DHJxprenQtZW"
   },
   "source": [
    "# Data info"
   ]
  },
  {
   "cell_type": "code",
   "execution_count": 31,
   "metadata": {
    "colab": {
     "base_uri": "https://localhost:8080/"
    },
    "id": "OyDdV0LNGx6f",
    "outputId": "9ad2987e-f0cd-4c81-d2cf-08fb0d89522d"
   },
   "outputs": [
    {
     "name": "stdout",
     "output_type": "stream",
     "text": [
      "<class 'pandas.core.frame.DataFrame'>\n",
      "Int64Index: 11511 entries, 0 to 2045\n",
      "Data columns (total 5 columns):\n",
      " #   Column           Non-Null Count  Dtype \n",
      "---  ------           --------------  ----- \n",
      " 0   Unnamed: 0       11511 non-null  int64 \n",
      " 1   Text             11511 non-null  object\n",
      " 2   Summary          11511 non-null  object\n",
      " 3   cleaned_text     11511 non-null  object\n",
      " 4   cleaned_summary  11511 non-null  object\n",
      "dtypes: int64(1), object(4)\n",
      "memory usage: 539.6+ KB\n"
     ]
    }
   ],
   "source": [
    "data.info()"
   ]
  },
  {
   "cell_type": "code",
   "execution_count": 32,
   "metadata": {
    "colab": {
     "base_uri": "https://localhost:8080/"
    },
    "id": "Rjnx8thXGoVa",
    "outputId": "40c2b2f0-4d8b-49ab-bd82-4e3d507740c5"
   },
   "outputs": [
    {
     "name": "stdout",
     "output_type": "stream",
     "text": [
      "Article 1\n",
      "0    use personal protective equipment central behavioural policy response control spread sars cov virus global covid pandemic particular masks sometimes gloves aprons gowns face eye protection recomme...\n",
      "0    document written request parisarea healthcare authorities france guidance intended help professionals coordinate patients pathways standardize practices among centers avoid acting first come first...\n",
      "0    historically pacific island countries territories severely affected influenza pandemics part world extreme example influenza pandemic western samoa experienced loss population hand also pandemic f...\n",
      "0    drug metabolism experiment played important role drug discovery drug design drug clinical application therefore fast efficient ways provide accurate information drug metabolism target compounds ma...\n",
      "0    date italy experiencing severe outbreak covid infection largely unexpected death rate consequence entire nation global lockdown contain virus spread since february except health services food supp...\n",
      "0    may researchers craig venter institute published science latest achievement creation first synthetic cell labeled jcvi syn controlled completely chemically synthesized genome achievement upon publ...\n",
      "0    recent research shown psychological stress influences susceptibility experimentally induced upper respiratory tract illnesses also shown respiratory virus infections commonly cause associated exac...\n",
      "0    insufficient properly resolve small scales mixing process crucial droplet evaporation also temperature humidity fields fully coupled however determine evaporation rate thus lifetime droplets essen...\n",
      "Name: cleaned_text, dtype: object\n",
      "----------------------------------------------------------------------------------------------------\n",
      "0    use of personal protective equipment has been central to controlling spread of sars cov this study aims to quantify the environmental impact of this and to model strategies for its reduction life ...\n",
      "0    sars cov has caused global pandemic unprecedented in size spread severity and mortality the influx of patients with severe or life threatening disease means that in some cases the available medica...\n",
      "0    background historically pacific island countries and territories have been more severely affected by influenza pandemics than any other part of the world we herein describe the emergence and epide...\n",
      "0    sensitive and specific method for the analysis of anisodamine and its metabolites in rat urine by liquid chromatography electrospray ionization tandem mass spectrometry was developed various extra...\n",
      "0    to contain covid spread italy is under global lockdown since february except for health services and food supply in this scenario growing apprehension concerning legal consequences is rising among...\n",
      "0    synthetic biology is an emerging field which since its birth has shown great value and potential in many fields including medicine energy environment and agriculture it is also important for the s...\n",
      "0    the aim of this research was study the role of psychosocial factors in exacerbations of asthma in adults induced by upper respiratory tract infections it involved longitudinal study of adults with...\n",
      "0    to mitigate the covid pandemic it is key to slow down the spreading of the life threatening coronavirus this spreading mainly occurs through virus laden droplets expelled at speaking screaming sho...\n",
      "Name: cleaned_summary, dtype: object\n",
      "Article 2\n",
      "1    developed deterministic compartmental transmission model sars cov population stratified disease status disease awareness status due spread covid self imposed measures assumed taken diseaseaware in...\n",
      "1    coronavirus acute disease primarily targets respiratory system however mounting evidence suggests cardiac involvement common particularly hospitalized patients substantial increase morbidity morta...\n",
      "1    new coronavirus sars cov found cause pulmonary disease city wuhan china december name sars cov due genomic rna similar severe acute respiratory syndrome coronavirus viruses found link clade betaco...\n",
      "1    le virus influenza origine de la premi pand mie du xxi si cle les premiers cas sont apparus en france au du mois de mai pendant deux mois tous les cas ont hospitalis et isol la mise en place de la...\n",
      "1    outbreak middle east respiratory syndrome coronavirus posed serious public health threat republic korea generated confirmed cases including fatal cases drawn lot attention largest outbreak mers co...\n",
      "1    challenges combating novel coronavirus pandemic put halt many economic socio cultural activities many societies across globe hand triggered avalanche scientific research within outside medical dom...\n",
      "1    one approach estimate prevalence assay measurements begins setting cut value samples whose measurement exceeds value diagnosed infected uninfected rather setting cut model probability sample infec...\n",
      "1    measles virus member genus morbillivirus family paramyxoviridae order mononegavirales consists nucleotides encode six major structural proteins nucleoprotein phosphoprotein large protein genomic r...\n",
      "Name: cleaned_text, dtype: object\n",
      "----------------------------------------------------------------------------------------------------\n",
      "1    the coronavirus disease caused by the severe acute respiratory syndrome coronavirus has spread to nearly every country in the world since it first emerged in china in december many countries have ...\n",
      "1    tel word count conflict of interest none declared journal pre proof abstract coronavirus is an acute respiratory disease that has rapidly spread around the world and been declared global pandemic ...\n",
      "1    recently pathogen has been identified as novel coronavirus and found to trigger novel pneumonia in human beings and some other mammals the uncontrolled release of cytokines is seen from the primar...\n",
      "1    le registre reva grippe srlf permis de colliger les donn es de patients infect par le virus grippal et hospitalis en animation la mortalit globale de ces patients de le recours la ventilation inva...\n",
      "1    super spreading events have been observed in the transmission dynamics of many infectious diseases the mers cov outbreak in the republic of korea has also shown super spreading events with signifi...\n",
      "1    please cite this article as haghani bliemer goerlandt li the scientific literature on coronaviruses covid and its associated safety related research dimensions scientometric analysis and scoping r...\n",
      "1    during the emergence of pandemic we need to estimate the prevalence of disease using serological assays whose characterization is incomplete relying on limited validation data this introduces unce...\n",
      "1    further attenuated measles vaccines were developed more than years ago and have been used throughout the world recombinant measles vaccine candidates have been developed and express several hetero...\n",
      "Name: cleaned_summary, dtype: object\n",
      "Article 3\n",
      "2    covid spread within months countries across globe progression covid pandemic country estimated daily report compiled world health organization publically available worldometers online resource cou...\n",
      "2    first outbreak disease caused sars cov virus wuhan december rapid spread led declare global health emergency shortly related impact confinement adherence pregnant women md physical exercise engage...\n",
      "2    march th world health organization declared coronavirus disease pandemic due high number cases countries outside china disease started late currently almost million people worldwide infected virus...\n",
      "2    like chinese diaspora archaeology archaeology japanese diaspora traces roots late contrast early work isolated incidental unreported formal reports japanese diaspora sites north america pacific is...\n",
      "2    dear editor read great interest article myasthenic crisis covid delly et al described case patient myasthenic crisis simultaneous severe acute respiratory syndrome coronavirus infection authors cl...\n",
      "2    rapid growth antibiotic resistance become main clinical epidemiological problem human health bacteria lactam antibiotics primarily hydrolyzed blactamases acylation deacylation based process thus b...\n",
      "2    coronaviruses rna single stranded positive polarity virus associated important disease avian poultry infectious bronchitis virus known coronavirus chickens causes important economic losses poultry...\n",
      "2    last years microfinance exploded development tool across global south first premised provision small scale loans income generation microfinance promoted market driven silver bullet escape poverty ...\n",
      "Name: cleaned_text, dtype: object\n",
      "----------------------------------------------------------------------------------------------------\n",
      "2    covid started in hubei province in china and has spread to countries within months the statistic of covid across the world is reported daily providing dynamic perspective for each country we teste...\n",
      "2    background this study aimed to analyze the impact of the confinement due to the covid pandemics on the eating exercise and quality of life habits of pregnant women methods this was an internet bas...\n",
      "2    as in other countries health problems such as osteoporotic hip fractures may in fact remain stable during the implementation of stringent lock down measures for the population like osteoporotic hi...\n",
      "2    japanese diaspora archaeology originated in the late but reports and publications did not appear until the early studies often included japanese artifacts or sites within larger surveys but by the...\n",
      "2    funding this research did not receive any specific grant from funding agencies in the public commercial or not for profit sectors journal pre proof journal pre proof journal pre proof highlights w...\n",
      "2    new delhi metallo beta lactamase is an enzyme that makes bacteria resistant to broad range of beta lactam antibiotic drugs this is because it can inactivate most beta lactam antibiotic drugs by hy...\n",
      "2    coronaviruses are single stranded positive sense rna viruses associated with important avian diseases their relatively high rates of mutation and recombination frequencies allow them to adapt to n...\n",
      "2    the covid pandemic has hit at time when microfinance is at its historical peak with an estimated million microfinance customers globally cambodia microfinance sector is one of the fastest growing ...\n",
      "Name: cleaned_summary, dtype: object\n",
      "Article 4\n",
      "3    estimating field effectiveness influenza vaccines poses specific challenges pandemic particular pandemic seasonal vaccination campaigns took place epidemic consequence vaccine coverage changed tim...\n",
      "3    houttuynia cordata thunb traditional medicinal plant used china years treatment cough leucorrhea ureteritis previous study showed steam distillate prepared fresh plants houttuynia cordata thunb po...\n",
      "3    covid pandemic significantly impacted economies world full impacts felt let alone measured runs course secondary effects around much longer consequences altering courses implications likely extend...\n",
      "3    purulente huidinfecties worden meestal veroorzaakt door grampositieve bacteri met zogenaamde empirische antibiotische therapie gericht tegen streptokokken en stafylokokken en met drainage bij abce...\n",
      "3    asset management organizations introducing data science initiatives support digital transformation business processes however order data science successful vital asset management organizations abl...\n",
      "3    recent covid pandemic showed deeper understanding dynamics outbreaking spreading infectious disease necessary specially urgent need models accurately predicts first stages epidemic outbreak order ...\n",
      "3    mouse hepatitis virus murine coronavirus contains largest known viral rna genome kb nonsegmented single stranded rna positive polarity replication strategy mhv includes transcription full length n...\n",
      "3    generation rndvs expressing protein ibv expression cassettes containing codon optimized non codon optimized genes ibv cloned cdna encoding complete antigenome ndv strain lasota using pmei site gen...\n"
     ]
    },
    {
     "name": "stdout",
     "output_type": "stream",
     "text": [
      "Name: cleaned_text, dtype: object\n",
      "----------------------------------------------------------------------------------------------------\n",
      "3    background in this study we assess how effective pandemic and trivalent seasonal vaccines were in preventing influenza like illness during the pandemic in france we also compare vaccine effectiven...\n",
      "3    houttuynia cordata injection is traditional chinese medicine used in china it was chosen as one of eight types of traditional chinese medicine that play unique role in severe acute respiratory syn...\n",
      "3    this review draws pragmatic lessons for developing countries to address covid induced recessions and to sustain developmental recovery these recessions are unique caused initially by supply disrup...\n",
      "3    mediastinal compression syndromes due to idiopathic fibrosing mediastinitis report of three cases and review of the literature thorac cardiovasc surg dehner lp coffin cm idiopathic fibrosclerotic ...\n",
      "3    more and more asset management organizations are introducing data science initiatives to support predictive maintenance and anomaly detection asset management organizations are by nature data inte...\n",
      "3    please cite this article as ballesteros blasco and gutierrez sagredo hamiltonian structure of compartmental epidemiological models physica doi https doi any epidemiological compartmental model wit...\n",
      "3    several polypeptide products of mhv orf were characterized in mhv infected dbt cells using antisera directed against fusion proteins encoded in the first kb of orfla these included the previously ...\n",
      "3    currently live attenuated ibv vaccines are used to control the disease however safety attenuation and immunization outcomes of current vaccines are not guaranteed several studies indicate that att...\n",
      "Name: cleaned_summary, dtype: object\n",
      "Article 5\n",
      "4    covid pandemic reached million confirmed reported cases worldwide generally associated acronym precedes name severe acute respiratory syndrome however bottom iceberg progressively unveiled since f...\n",
      "4    review summarize present day knowledge concerning host proteins able downmodulate capture nanoparticles phagocytes cells also aim challenging easy simplified straightforward yet quite widespread c...\n",
      "4    sars cov etiologic agent current covid pandemic similar sars cov betacoronaviruses uses angiotensin converting enzyme receptor ace expressed nasal respiratory epithelium conducting airway type ii ...\n",
      "4    introduction acute respiratory disease caused novel coronavirus coronavirus disease spread throughout china received worldwide attention january world health organization officially declared covid...\n",
      "4    coronaviridae large family medically important viruses cause primarily respiratory enteric infections humans wide range animals viruses enveloped contain single stranded positive sense rna genome ...\n",
      "4    new pandemic caused severe acute respiratory syndrome coronavirus emerged late disrupting health systems critical care even within developed heath systems economies april nd million confirmed case...\n",
      "4    vivo studies highlighted role exacerbation respiratory viral infections recently research group setti et al table considering population size density potential confounders observed effect pm daily...\n",
      "4    recent worldwide outbreak caused novel virus named novel coronavirus chinese researchers later named severe acute respiratory syndrome international committee taxonomy viruses sars cov first repor...\n",
      "Name: cleaned_text, dtype: object\n",
      "----------------------------------------------------------------------------------------------------\n",
      "4    due to its extreme virulence covid virus has rapidly spread developing severe pandemic sars cov mostly affected the respiratory tract causing severe acute lung failure although the infection of ai...\n",
      "4    understanding the effects mediated by set of nanoparticle bound host biomolecules often indicated with the umbrella term of np corona is essential in nanomedicine nanopharmacology and nanotoxicolo...\n",
      "4    sars cov the etiologic agent of covid uses ace as cell entry receptor soluble ace has been shown to have neutralizing antiviral activity but has short half life and no active transport mechanism f...\n",
      "4    the current study compared the amplitude of transient evoked otoacoustic emissions and latencies of vestibular evoked myogenic potentials between asymptomatic covid pcr positive cases and normal n...\n",
      "4    the coronavirus nucleocapsid is multifunctional phosphoprotein that encapsidates the genomic rna into helical nucleocapsid within the mature virion the protein also plays roles in viral rna transc...\n",
      "4    background transmission of covid in developing countries is expected to surpass that in developed countries however information on community perceptions of this new disease is scarce the aim of th...\n",
      "4    new coronavirus has determined pneumonia outbreak in china in december called covid disease in addition to the person to person transmission dynamic of the novel respiratory virus it has been rece...\n",
      "4    backround and aims after the emergence of severe acute respiratory syndrome coronavirus and middle east respiratory syndrome coronavirus in the last two decades the world is facing its new challen...\n",
      "Name: cleaned_summary, dtype: object\n"
     ]
    }
   ],
   "source": [
    "for i in range(5):\n",
    "  print(\"Article\", i+1)\n",
    "  print(data['cleaned_text'][i])\n",
    "  print('-'*100)\n",
    "  print(data['cleaned_summary'][i])"
   ]
  },
  {
   "cell_type": "code",
   "execution_count": 33,
   "metadata": {
    "colab": {
     "base_uri": "https://localhost:8080/",
     "height": 499
    },
    "id": "-tGwArxGXOLa",
    "outputId": "654bb4b0-98de-466f-e2b5-d063c6ad3099"
   },
   "outputs": [
    {
     "data": {
      "image/png": "[encoded data removed]",
      "text/plain": [
       "<Figure size 1440x576 with 2 Axes>"
      ]
     },
     "metadata": {
      "needs_background": "light"
     },
     "output_type": "display_data"
    }
   ],
   "source": [
    "import matplotlib.pyplot as plt\n",
    "from pylab import rcParams\n",
    "rcParams['figure.figsize'] = 20, 8\n",
    "text_word_count = []\n",
    "summary_word_count = []\n",
    "\n",
    "# populate the lists with sentence lengths\n",
    "for i in data['cleaned_text']:\n",
    "      text_word_count.append(len(i.split()))\n",
    "\n",
    "for i in data['cleaned_summary']:\n",
    "      summary_word_count.append(len(i.split()))\n",
    "\n",
    "length_df = pd.DataFrame({'text':text_word_count, 'summary':summary_word_count})\n",
    "\n",
    "length_df.hist(bins = 50)\n",
    "plt.show()"
   ]
  },
  {
   "cell_type": "code",
   "execution_count": 34,
   "metadata": {
    "colab": {
     "base_uri": "https://localhost:8080/"
    },
    "id": "bU73rdPQXPhq",
    "outputId": "a619e646-78cb-43fe-c614-4602275b7e24"
   },
   "outputs": [
    {
     "name": "stdout",
     "output_type": "stream",
     "text": [
      "0.9394492224828425\n"
     ]
    }
   ],
   "source": [
    "#propotion of length of summaries\n",
    "cnt=0\n",
    "for i in data['cleaned_summary']:\n",
    "    if(len(i.split())<=400):\n",
    "        cnt=cnt+1\n",
    "print(cnt/len(data['cleaned_summary']))"
   ]
  },
  {
   "cell_type": "code",
   "execution_count": 35,
   "metadata": {
    "colab": {
     "base_uri": "https://localhost:8080/"
    },
    "id": "PaATJZYDHmCC",
    "outputId": "71d1dfa1-58f1-49c0-aa2b-e53eef7c166f"
   },
   "outputs": [
    {
     "name": "stdout",
     "output_type": "stream",
     "text": [
      "0.9063504473981409\n"
     ]
    }
   ],
   "source": [
    "#propotion of length of summaries\n",
    "cnt=0\n",
    "for i in data['cleaned_text']:\n",
    "    if(len(i.split())<=4000):\n",
    "        cnt=cnt+1\n",
    "print(cnt/len(data['cleaned_text']))"
   ]
  },
  {
   "cell_type": "code",
   "execution_count": 36,
   "metadata": {
    "colab": {
     "base_uri": "https://localhost:8080/",
     "height": 657
    },
    "id": "y2IXNLrPINvG",
    "outputId": "0087aaeb-0975-4f57-a720-58b04c4839b7"
   },
   "outputs": [
    {
     "data": {
      "text/html": [
       "<div>\n",
       "<style scoped>\n",
       "    .dataframe tbody tr th:only-of-type {\n",
       "        vertical-align: middle;\n",
       "    }\n",
       "\n",
       "    .dataframe tbody tr th {\n",
       "        vertical-align: top;\n",
       "    }\n",
       "\n",
       "    .dataframe thead th {\n",
       "        text-align: right;\n",
       "    }\n",
       "</style>\n",
       "<table border=\"1\" class=\"dataframe\">\n",
       "  <thead>\n",
       "    <tr style=\"text-align: right;\">\n",
       "      <th></th>\n",
       "      <th>Unnamed: 0</th>\n",
       "      <th>Text</th>\n",
       "      <th>Summary</th>\n",
       "      <th>cleaned_text</th>\n",
       "      <th>cleaned_summary</th>\n",
       "    </tr>\n",
       "  </thead>\n",
       "  <tbody>\n",
       "    <tr>\n",
       "      <th>0</th>\n",
       "      <td>1</td>\n",
       "      <td>Use of Personal Protective Equipment (PPE) has been a central behavioural and policy response to control spread of the SARS-CoV2 virus during the global COVID-19 pandemic. In particular masks, and...</td>\n",
       "      <td>Use of Personal Protective Equipment (PPE) has been central to controlling spread of SARS-CoV2. This study aims to quantify the environmental impact of this, and to model strategies for its reduct...</td>\n",
       "      <td>use personal protective equipment central behavioural policy response control spread sars cov virus global covid pandemic particular masks sometimes gloves aprons gowns face eye protection recomme...</td>\n",
       "      <td>use of personal protective equipment has been central to controlling spread of sars cov this study aims to quantify the environmental impact of this and to model strategies for its reduction life ...</td>\n",
       "    </tr>\n",
       "    <tr>\n",
       "      <th>1</th>\n",
       "      <td>2</td>\n",
       "      <td>We developed a deterministic compartmental transmission model of SARS-CoV-2 in a population stratified by disease status (susceptible, exposed, infectious with mild or severe disease, diagnosed, a...</td>\n",
       "      <td>The coronavirus disease caused by the severe acute respiratory syndrome coronavirus 2 (SARS-CoV-2) has spread to nearly every country in the world since it first emerged in China in December 2019....</td>\n",
       "      <td>developed deterministic compartmental transmission model sars cov population stratified disease status disease awareness status due spread covid self imposed measures assumed taken diseaseaware in...</td>\n",
       "      <td>the coronavirus disease caused by the severe acute respiratory syndrome coronavirus has spread to nearly every country in the world since it first emerged in china in december many countries have ...</td>\n",
       "    </tr>\n",
       "    <tr>\n",
       "      <th>2</th>\n",
       "      <td>5</td>\n",
       "      <td>COVID-19 spread within 3 months to 210 countries across the globe. The progression of COVID-19 pandemic in each country is estimated by the daily report compiled by the World Health Organization (...</td>\n",
       "      <td>COVID-19 started in Hubei province in China and has spread to 210 countries within 3 months. The statistic of COVID-19 across the world is reported daily, providing a dynamic perspective for each ...</td>\n",
       "      <td>covid spread within months countries across globe progression covid pandemic country estimated daily report compiled world health organization publically available worldometers online resource cou...</td>\n",
       "      <td>covid started in hubei province in china and has spread to countries within months the statistic of covid across the world is reported daily providing dynamic perspective for each country we teste...</td>\n",
       "    </tr>\n",
       "    <tr>\n",
       "      <th>3</th>\n",
       "      <td>6</td>\n",
       "      <td>Estimating the field effectiveness of influenza vaccines (VE) poses specific challenges for the 2009 A(H1N1) pandemic. In particular, both pandemic and seasonal vaccination campaigns took place du...</td>\n",
       "      <td>Background: In this study, we assess how effective pandemic and trivalent 2009-2010 seasonal vaccines were in preventing influenza-like illness (ILI) during the 2009 A(H1N1) pandemic in France. We...</td>\n",
       "      <td>estimating field effectiveness influenza vaccines poses specific challenges pandemic particular pandemic seasonal vaccination campaigns took place epidemic consequence vaccine coverage changed tim...</td>\n",
       "      <td>background in this study we assess how effective pandemic and trivalent seasonal vaccines were in preventing influenza like illness during the pandemic in france we also compare vaccine effectiven...</td>\n",
       "    </tr>\n",
       "    <tr>\n",
       "      <th>4</th>\n",
       "      <td>7</td>\n",
       "      <td>COVID-19 pandemic reached 3.78 million confirmed reported cases worldwide, and it is generally associated to the acronym that precedes its name: severe acute respiratory syndrome (SARS). However, ...</td>\n",
       "      <td>Due to its extreme virulence, COVID-19 virus has rapidly spread, developing a severe pandemic. SARS-COV-2 mostly affected the respiratory tract, causing a severe acute lung failure. Although the i...</td>\n",
       "      <td>covid pandemic reached million confirmed reported cases worldwide generally associated acronym precedes name severe acute respiratory syndrome however bottom iceberg progressively unveiled since f...</td>\n",
       "      <td>due to its extreme virulence covid virus has rapidly spread developing severe pandemic sars cov mostly affected the respiratory tract causing severe acute lung failure although the infection of ai...</td>\n",
       "    </tr>\n",
       "  </tbody>\n",
       "</table>\n",
       "</div>"
      ],
      "text/plain": [
       "   Unnamed: 0  \\\n",
       "0           1   \n",
       "1           2   \n",
       "2           5   \n",
       "3           6   \n",
       "4           7   \n",
       "\n",
       "                                                                                                                                                                                                      Text  \\\n",
       "0  Use of Personal Protective Equipment (PPE) has been a central behavioural and policy response to control spread of the SARS-CoV2 virus during the global COVID-19 pandemic. In particular masks, and...   \n",
       "1  We developed a deterministic compartmental transmission model of SARS-CoV-2 in a population stratified by disease status (susceptible, exposed, infectious with mild or severe disease, diagnosed, a...   \n",
       "2  COVID-19 spread within 3 months to 210 countries across the globe. The progression of COVID-19 pandemic in each country is estimated by the daily report compiled by the World Health Organization (...   \n",
       "3  Estimating the field effectiveness of influenza vaccines (VE) poses specific challenges for the 2009 A(H1N1) pandemic. In particular, both pandemic and seasonal vaccination campaigns took place du...   \n",
       "4  COVID-19 pandemic reached 3.78 million confirmed reported cases worldwide, and it is generally associated to the acronym that precedes its name: severe acute respiratory syndrome (SARS). However, ...   \n",
       "\n",
       "                                                                                                                                                                                                   Summary  \\\n",
       "0  Use of Personal Protective Equipment (PPE) has been central to controlling spread of SARS-CoV2. This study aims to quantify the environmental impact of this, and to model strategies for its reduct...   \n",
       "1  The coronavirus disease caused by the severe acute respiratory syndrome coronavirus 2 (SARS-CoV-2) has spread to nearly every country in the world since it first emerged in China in December 2019....   \n",
       "2  COVID-19 started in Hubei province in China and has spread to 210 countries within 3 months. The statistic of COVID-19 across the world is reported daily, providing a dynamic perspective for each ...   \n",
       "3  Background: In this study, we assess how effective pandemic and trivalent 2009-2010 seasonal vaccines were in preventing influenza-like illness (ILI) during the 2009 A(H1N1) pandemic in France. We...   \n",
       "4  Due to its extreme virulence, COVID-19 virus has rapidly spread, developing a severe pandemic. SARS-COV-2 mostly affected the respiratory tract, causing a severe acute lung failure. Although the i...   \n",
       "\n",
       "                                                                                                                                                                                              cleaned_text  \\\n",
       "0  use personal protective equipment central behavioural policy response control spread sars cov virus global covid pandemic particular masks sometimes gloves aprons gowns face eye protection recomme...   \n",
       "1  developed deterministic compartmental transmission model sars cov population stratified disease status disease awareness status due spread covid self imposed measures assumed taken diseaseaware in...   \n",
       "2  covid spread within months countries across globe progression covid pandemic country estimated daily report compiled world health organization publically available worldometers online resource cou...   \n",
       "3  estimating field effectiveness influenza vaccines poses specific challenges pandemic particular pandemic seasonal vaccination campaigns took place epidemic consequence vaccine coverage changed tim...   \n",
       "4  covid pandemic reached million confirmed reported cases worldwide generally associated acronym precedes name severe acute respiratory syndrome however bottom iceberg progressively unveiled since f...   \n",
       "\n",
       "                                                                                                                                                                                           cleaned_summary  \n",
       "0  use of personal protective equipment has been central to controlling spread of sars cov this study aims to quantify the environmental impact of this and to model strategies for its reduction life ...  \n",
       "1  the coronavirus disease caused by the severe acute respiratory syndrome coronavirus has spread to nearly every country in the world since it first emerged in china in december many countries have ...  \n",
       "2  covid started in hubei province in china and has spread to countries within months the statistic of covid across the world is reported daily providing dynamic perspective for each country we teste...  \n",
       "3  background in this study we assess how effective pandemic and trivalent seasonal vaccines were in preventing influenza like illness during the pandemic in france we also compare vaccine effectiven...  \n",
       "4  due to its extreme virulence covid virus has rapidly spread developing severe pandemic sars cov mostly affected the respiratory tract causing severe acute lung failure although the infection of ai...  "
      ]
     },
     "execution_count": 36,
     "metadata": {},
     "output_type": "execute_result"
    }
   ],
   "source": [
    "data.head()"
   ]
  },
  {
   "cell_type": "code",
   "execution_count": 37,
   "metadata": {
    "id": "scinl6zoXeDR"
   },
   "outputs": [],
   "source": [
    "#**change to fit data set**\n",
    "max_text_len=4000\n",
    "max_summary_len=400 # this should be 100"
   ]
  },
  {
   "cell_type": "code",
   "execution_count": 38,
   "metadata": {
    "id": "QWdSLBflXrTb"
   },
   "outputs": [],
   "source": [
    "#selecting summaries of desired length\n",
    "cleaned_text =np.array(data['cleaned_text'])\n",
    "cleaned_summary=np.array(data['cleaned_summary'])\n",
    "\n",
    "short_text=[]\n",
    "short_summary=[]\n",
    "\n",
    "for i in range(len(cleaned_text)):\n",
    "    if(len(cleaned_summary[i].split())<=max_summary_len and len(cleaned_text[i].split())<=max_text_len):\n",
    "        short_text.append(cleaned_text[i])\n",
    "        short_summary.append(cleaned_summary[i])\n",
    "        \n",
    "df=pd.DataFrame({'text':short_text,'summary':short_summary})"
   ]
  },
  {
   "cell_type": "markdown",
   "metadata": {
    "id": "GSEBAyp0X103"
   },
   "source": [
    "Remember to add the **START** and **END** special tokens at the beginning and end of the summary. Here, I have chosen **sostok** and **eostok** as START and END tokens\n",
    "\n",
    "**Note:** Be sure that the chosen special tokens never appear in the summary"
   ]
  },
  {
   "cell_type": "code",
   "execution_count": 39,
   "metadata": {
    "id": "NtNh-wdZXwk0"
   },
   "outputs": [],
   "source": [
    "df['summary'] = df['summary'].apply(lambda x : 'sostok '+ x + ' eostok')"
   ]
  },
  {
   "cell_type": "code",
   "execution_count": 40,
   "metadata": {
    "colab": {
     "base_uri": "https://localhost:8080/"
    },
    "id": "qgIx3GgpXzDo",
    "outputId": "cdf2a563-5daf-44cc-f19a-244686894e88"
   },
   "outputs": [
    {
     "data": {
      "text/plain": [
       "0       use personal protective equipment central behavioural policy response control spread sars cov virus global covid pandemic particular masks sometimes gloves aprons gowns face eye protection recomme...\n",
       "1       developed deterministic compartmental transmission model sars cov population stratified disease status disease awareness status due spread covid self imposed measures assumed taken diseaseaware in...\n",
       "2       covid spread within months countries across globe progression covid pandemic country estimated daily report compiled world health organization publically available worldometers online resource cou...\n",
       "3       estimating field effectiveness influenza vaccines poses specific challenges pandemic particular pandemic seasonal vaccination campaigns took place epidemic consequence vaccine coverage changed tim...\n",
       "4       covid pandemic reached million confirmed reported cases worldwide generally associated acronym precedes name severe acute respiratory syndrome however bottom iceberg progressively unveiled since f...\n",
       "                                                                                                         ...                                                                                                   \n",
       "9859    following green kreuter precede proceed model asked infection experts team identify behaviors likely efficacious carried qualitative study determine also viewed feasible acceptable target populati...\n",
       "9860    rna silencing unique rna guided gene regulatory mechanism operates wide range eukaryotic organisms plants mammals consistent notion rnai natural antiviral mechanism mirnas related certain viruses ...\n",
       "9861    pandemic severe acute respiratory syndrome coronavirus associated coronavirus disease major threat global health approximately hospitalized patients diagnosed covid develop severe respiratory fail...\n",
       "9862    liver cancer second leading cause cancer mortality worldwide causing deaths annually hepatocellular carcinoma common histological type liver ivyspring international publisher cancer accounts cases...\n",
       "9863    influenza viruses major cause morbidity severe illness globally emergence highly pathogenic avian iav strains predominately across asia caused sporadic infections humans high mortality mouse model...\n",
       "Name: text, Length: 9864, dtype: object"
      ]
     },
     "execution_count": 40,
     "metadata": {},
     "output_type": "execute_result"
    }
   ],
   "source": [
    "df['text']"
   ]
  },
  {
   "cell_type": "code",
   "execution_count": 41,
   "metadata": {
    "id": "P21dcPNqX4v9"
   },
   "outputs": [],
   "source": [
    "from sklearn.model_selection import train_test_split\n",
    "x_tr,x_val,y_tr,y_val=train_test_split(np.array(df['text']),np.array(df['summary']),test_size=0.3,random_state=0,shuffle=True) "
   ]
  },
  {
   "cell_type": "markdown",
   "metadata": {
    "id": "RMXW2zz3bQ0p"
   },
   "source": [
    "# Tokenizer"
   ]
  },
  {
   "cell_type": "code",
   "execution_count": 42,
   "metadata": {
    "id": "pZHsajiXbPea"
   },
   "outputs": [],
   "source": [
    "from keras.preprocessing.text import Tokenizer \n",
    "from keras.preprocessing.sequence import pad_sequences\n",
    "\n",
    "#prepare a tokenizer for reviews on training data\n",
    "x_tokenizer = Tokenizer() \n",
    "x_tokenizer.fit_on_texts(list(x_tr))"
   ]
  },
  {
   "cell_type": "code",
   "execution_count": 43,
   "metadata": {
    "colab": {
     "base_uri": "https://localhost:8080/"
    },
    "id": "DgZJs-tdbVoe",
    "outputId": "c2a6ed7e-1c1f-4624-87f4-a4bd19ae70b9"
   },
   "outputs": [
    {
     "name": "stdout",
     "output_type": "stream",
     "text": [
      "% of rare words in vocabulary: 63.93158307594254\n",
      "Total Coverage of rare words: 1.2099514278455907\n"
     ]
    }
   ],
   "source": [
    "thresh=4\n",
    "\n",
    "cnt=0\n",
    "tot_cnt=0\n",
    "freq=0\n",
    "tot_freq=0\n",
    "\n",
    "for key,value in x_tokenizer.word_counts.items():\n",
    "    tot_cnt=tot_cnt+1\n",
    "    tot_freq=tot_freq+value\n",
    "    if(value<thresh):\n",
    "        cnt=cnt+1\n",
    "        freq=freq+value\n",
    "    \n",
    "print(\"% of rare words in vocabulary:\",(cnt/tot_cnt)*100)\n",
    "print(\"Total Coverage of rare words:\",(freq/tot_freq)*100)"
   ]
  },
  {
   "cell_type": "code",
   "execution_count": 44,
   "metadata": {
    "id": "bQOUIOaGbW5e"
   },
   "outputs": [],
   "source": [
    "#prepare a tokenizer for reviews on training data\n",
    "x_tokenizer = Tokenizer(num_words=tot_cnt-cnt) \n",
    "x_tokenizer.fit_on_texts(list(x_tr))\n",
    "\n",
    "#convert text sequences into integer sequences\n",
    "x_tr_seq    =   x_tokenizer.texts_to_sequences(x_tr) \n",
    "x_val_seq   =   x_tokenizer.texts_to_sequences(x_val)\n",
    "\n",
    "#padding zero upto maximum length\n",
    "x_tr    =   pad_sequences(x_tr_seq,  maxlen=max_text_len, padding='post')\n",
    "x_val   =   pad_sequences(x_val_seq, maxlen=max_text_len, padding='post')\n",
    "\n",
    "#size of vocabulary ( +1 for padding token)\n",
    "x_voc   =  x_tokenizer.num_words + 1"
   ]
  },
  {
   "cell_type": "code",
   "execution_count": 45,
   "metadata": {
    "colab": {
     "base_uri": "https://localhost:8080/"
    },
    "id": "FyVOSfrbbYZ2",
    "outputId": "deace72e-4f1d-4fc7-9300-7bc0f3c311bf"
   },
   "outputs": [
    {
     "data": {
      "text/plain": [
       "58856"
      ]
     },
     "execution_count": 45,
     "metadata": {},
     "output_type": "execute_result"
    }
   ],
   "source": [
    "x_voc"
   ]
  },
  {
   "cell_type": "markdown",
   "metadata": {
    "id": "xJdwFYHUbbdu"
   },
   "source": [
    "# Summary Tokenizer"
   ]
  },
  {
   "cell_type": "code",
   "execution_count": 46,
   "metadata": {
    "id": "HYy3MMSubZ61"
   },
   "outputs": [],
   "source": [
    "#prepare a tokenizer for reviews on training data\n",
    "y_tokenizer = Tokenizer()   \n",
    "y_tokenizer.fit_on_texts(list(y_tr))"
   ]
  },
  {
   "cell_type": "code",
   "execution_count": 47,
   "metadata": {
    "colab": {
     "base_uri": "https://localhost:8080/"
    },
    "id": "Nda45v5nbi3T",
    "outputId": "67112c1e-9338-47ec-8e0d-4d25f456d8b5"
   },
   "outputs": [
    {
     "name": "stdout",
     "output_type": "stream",
     "text": [
      "% of rare words in vocabulary: 72.41718911388149\n",
      "Total Coverage of rare words: 4.322686425676395\n"
     ]
    }
   ],
   "source": [
    "thresh=6\n",
    "\n",
    "cnt=0\n",
    "tot_cnt=0\n",
    "freq=0\n",
    "tot_freq=0\n",
    "\n",
    "for key,value in y_tokenizer.word_counts.items():\n",
    "    tot_cnt=tot_cnt+1\n",
    "    tot_freq=tot_freq+value\n",
    "    if(value<thresh):\n",
    "        cnt=cnt+1\n",
    "        freq=freq+value\n",
    "    \n",
    "print(\"% of rare words in vocabulary:\",(cnt/tot_cnt)*100)\n",
    "print(\"Total Coverage of rare words:\",(freq/tot_freq)*100)"
   ]
  },
  {
   "cell_type": "code",
   "execution_count": 48,
   "metadata": {
    "id": "sbL1eWqvbkLr"
   },
   "outputs": [],
   "source": [
    "#prepare a tokenizer for reviews on training data\n",
    "y_tokenizer = Tokenizer(num_words=tot_cnt-cnt) \n",
    "y_tokenizer.fit_on_texts(list(y_tr))\n",
    "\n",
    "#convert text sequences into integer sequences\n",
    "y_tr_seq    =   y_tokenizer.texts_to_sequences(y_tr) \n",
    "y_val_seq   =   y_tokenizer.texts_to_sequences(y_val) \n",
    "\n",
    "#padding zero upto maximum length\n",
    "y_tr    =   pad_sequences(y_tr_seq, maxlen=max_summary_len, padding='post')\n",
    "y_val   =   pad_sequences(y_val_seq, maxlen=max_summary_len, padding='post')\n",
    "\n",
    "#size of vocabulary\n",
    "y_voc  =   y_tokenizer.num_words +1"
   ]
  },
  {
   "cell_type": "code",
   "execution_count": 49,
   "metadata": {
    "colab": {
     "base_uri": "https://localhost:8080/"
    },
    "id": "K4R-oJVvhJQH",
    "outputId": "e6d2ffa3-c2bc-4b0b-c6f7-7fbfc449d700"
   },
   "outputs": [
    {
     "data": {
      "text/plain": [
       "11484"
      ]
     },
     "execution_count": 49,
     "metadata": {},
     "output_type": "execute_result"
    }
   ],
   "source": [
    "#y_voc size seems too small.\n",
    "#first try increasing number of articles\n",
    "y_voc"
   ]
  },
  {
   "cell_type": "code",
   "execution_count": 50,
   "metadata": {
    "colab": {
     "base_uri": "https://localhost:8080/"
    },
    "id": "JC7DrUqxblGT",
    "outputId": "8a686786-35f9-4ad6-8e3b-48678bc50f65"
   },
   "outputs": [
    {
     "data": {
      "text/plain": [
       "(6904, 6904)"
      ]
     },
     "execution_count": 50,
     "metadata": {},
     "output_type": "execute_result"
    }
   ],
   "source": [
    "y_tokenizer.word_counts['sostok'],len(y_tr)   "
   ]
  },
  {
   "cell_type": "markdown",
   "metadata": {
    "id": "DBuXjtzSboEp"
   },
   "source": [
    "Delete start and end tokens"
   ]
  },
  {
   "cell_type": "code",
   "execution_count": 51,
   "metadata": {
    "id": "0u_NLwT2bsFY"
   },
   "outputs": [],
   "source": [
    "ind=[]\n",
    "for i in range(len(y_tr)):\n",
    "    cnt=0\n",
    "    for j in y_tr[i]:\n",
    "        if j!=0:\n",
    "            cnt=cnt+1\n",
    "    if(cnt==2):\n",
    "        ind.append(i)\n",
    "\n",
    "y_tr=np.delete(y_tr,ind, axis=0)\n",
    "x_tr=np.delete(x_tr,ind, axis=0)"
   ]
  },
  {
   "cell_type": "code",
   "execution_count": 52,
   "metadata": {
    "id": "CMYE45x4buTb"
   },
   "outputs": [],
   "source": [
    "ind=[]\n",
    "for i in range(len(y_val)):\n",
    "    cnt=0\n",
    "    for j in y_val[i]:\n",
    "        if j!=0:\n",
    "            cnt=cnt+1\n",
    "    if(cnt==2):\n",
    "        ind.append(i)\n",
    "\n",
    "y_val=np.delete(y_val,ind, axis=0)\n",
    "x_val=np.delete(x_val,ind, axis=0)"
   ]
  },
  {
   "cell_type": "markdown",
   "metadata": {
    "id": "FW4RUqUBbx3U"
   },
   "source": [
    "# The Model"
   ]
  },
  {
   "cell_type": "code",
   "execution_count": 53,
   "metadata": {
    "colab": {
     "base_uri": "https://localhost:8080/"
    },
    "id": "h411gr2lb0rK",
    "outputId": "7981c5cd-4b7d-4b9e-8841-3f39d700d264"
   },
   "outputs": [
    {
     "name": "stdout",
     "output_type": "stream",
     "text": [
      "Model: \"functional_1\"\n",
      "__________________________________________________________________________________________________\n",
      "Layer (type)                    Output Shape         Param #     Connected to                     \n",
      "==================================================================================================\n",
      "input_1 (InputLayer)            [(None, 4000)]       0                                            \n",
      "__________________________________________________________________________________________________\n",
      "embedding (Embedding)           (None, 4000, 100)    5885600     input_1[0][0]                    \n",
      "__________________________________________________________________________________________________\n",
      "bidirectional (Bidirectional)   [(None, 4000, 400),  481600      embedding[0][0]                  \n",
      "__________________________________________________________________________________________________\n",
      "bi (Bidirectional)              [(None, 400), (None, 961600      bidirectional[0][0]              \n",
      "                                                                 bidirectional[0][1]              \n",
      "                                                                 bidirectional[0][2]              \n",
      "                                                                 bidirectional[0][3]              \n",
      "                                                                 bidirectional[0][4]              \n",
      "__________________________________________________________________________________________________\n",
      "input_2 (InputLayer)            [(None, None)]       0                                            \n",
      "__________________________________________________________________________________________________\n",
      "tf_op_layer_ExpandDims (TensorF [(None, 400, 1)]     0           bi[0][0]                         \n",
      "__________________________________________________________________________________________________\n",
      "embedding_1 (Embedding)         (None, None, 100)    1148400     input_2[0][0]                    \n",
      "__________________________________________________________________________________________________\n",
      "lstm_2 (LSTM)                   [(None, 400, 200), ( 161600      tf_op_layer_ExpandDims[0][0]     \n",
      "__________________________________________________________________________________________________\n",
      "lstm_3 (LSTM)                   [(None, None, 200),  240800      embedding_1[0][0]                \n",
      "                                                                 lstm_2[0][1]                     \n",
      "                                                                 lstm_2[0][2]                     \n",
      "__________________________________________________________________________________________________\n",
      "attention_layer (AttentionLayer ((None, None, 200),  80200       lstm_2[0][0]                     \n",
      "                                                                 lstm_3[0][0]                     \n",
      "__________________________________________________________________________________________________\n",
      "concat_layer (Concatenate)      (None, None, 400)    0           lstm_3[0][0]                     \n",
      "                                                                 attention_layer[0][0]            \n",
      "__________________________________________________________________________________________________\n",
      "time_distributed (TimeDistribut (None, None, 11484)  4605084     concat_layer[0][0]               \n",
      "==================================================================================================\n",
      "Total params: 13,564,884\n",
      "Trainable params: 13,564,884\n",
      "Non-trainable params: 0\n",
      "__________________________________________________________________________________________________\n"
     ]
    }
   ],
   "source": [
    "#can also use go_backwards = true for a layer or two\n",
    "\n",
    "from keras import backend as K \n",
    "K.clear_session()\n",
    "\n",
    "latent_dim = 200\n",
    "embedding_dim=100\n",
    "\n",
    "# Encoder\n",
    "encoder_inputs = Input(shape=(max_text_len,))\n",
    "\n",
    "#embedding layer\n",
    "enc_emb =  Embedding(x_voc, embedding_dim,trainable=True)(encoder_inputs)\n",
    "\n",
    "#encoder lstm 1\n",
    "bi_LSTM = Bidirectional(LSTM(latent_dim,return_sequences=True,return_state=True,\n",
    "                             dropout=0.5,recurrent_dropout=0.5),merge_mode='concat' )(enc_emb)\n",
    "\n",
    "encoder_output0, state_h0, state_c0, backward_h, backward_c =Bidirectional(LSTM(latent_dim, return_state=True), \n",
    "                               merge_mode=\"concat\", name='bi')(bi_LSTM)\n",
    "\n",
    "#econder_output0 = tf.expand_dims(encoder_output0, axis=-1)\n",
    "\n",
    "encoder_lstm1 = LSTM(latent_dim,return_sequences=True,return_state=True,dropout=0.5,recurrent_dropout=0.5)\n",
    "encoder_outputs, state_h, state_c = encoder_lstm1(tf.expand_dims(encoder_output0, axis=-1)) #expanded dim of bi_lstm\n",
    "\n",
    "#econder_output1 = tf.expand_dims(encoder_output1, axis=-1)\n",
    "\n",
    "#encoder lstm 2\n",
    "# encoder_lstm2 = LSTM(latent_dim,return_sequences=True,return_state=True,dropout=0.5,recurrent_dropout=0.5)\n",
    "# encoder_outputs, state_h, state_c = encoder_lstm2(encoder_output1)\n",
    "\n",
    "#encoder lstm 3\n",
    "#(consider bidirectinal layer pg. 546 in Geron)\n",
    "# encoder_lstm3=LSTM(latent_dim, return_state=True, return_sequences=True,dropout=0.4,recurrent_dropout=0.4)\n",
    "# encoder_outputs, state_h, state_c= encoder_lstm3(encoder_output2)\n",
    "\n",
    "# Set up the decoder, using `encoder_states` as initial state.\n",
    "decoder_inputs = Input(shape=(None,))\n",
    "\n",
    "#embedding layer\n",
    "dec_emb_layer = Embedding(y_voc, embedding_dim,trainable=True)\n",
    "dec_emb = dec_emb_layer(decoder_inputs)\n",
    "\n",
    "decoder_lstm = LSTM(latent_dim, return_sequences=True, return_state=True,dropout=0.4,recurrent_dropout=0.2)\n",
    "decoder_outputs,decoder_fwd_state, decoder_back_state = decoder_lstm(dec_emb,initial_state=[state_h, state_c])\n",
    "\n",
    "# Attention layer\n",
    "attn_layer = AttentionLayer(name='attention_layer')\n",
    "attn_out, attn_states = attn_layer([encoder_outputs, decoder_outputs])\n",
    "\n",
    "# Concat attention input and decoder LSTM output\n",
    "decoder_concat_input = Concatenate(axis=-1, name='concat_layer')([decoder_outputs, attn_out])\n",
    "\n",
    "#dense layer\n",
    "decoder_dense =  TimeDistributed(Dense(y_voc, activation='elu')) #try elu***\n",
    "decoder_outputs = decoder_dense(decoder_concat_input)\n",
    "\n",
    "# Define the model \n",
    "model = Model([encoder_inputs, decoder_inputs], decoder_outputs)\n",
    "\n",
    "model.summary() "
   ]
  },
  {
   "cell_type": "code",
   "execution_count": 54,
   "metadata": {
    "id": "dwmpdsp9b3xn"
   },
   "outputs": [],
   "source": [
    "model.compile(optimizer='rmsprop', loss='sparse_categorical_crossentropy')"
   ]
  },
  {
   "cell_type": "code",
   "execution_count": 55,
   "metadata": {
    "id": "R9XjyQZub5Hi"
   },
   "outputs": [],
   "source": [
    "es = EarlyStopping(monitor='val_loss', mode='min', verbose=1,patience=2)"
   ]
  },
  {
   "cell_type": "code",
   "execution_count": null,
   "metadata": {
    "colab": {
     "base_uri": "https://localhost:8080/"
    },
    "id": "Luz3ajjSb6Me",
    "outputId": "c73f7d81-8c43-444d-f080-207ab18e1563"
   },
   "outputs": [
    {
     "name": "stdout",
     "output_type": "stream",
     "text": [
      "Epoch 1/5\n"
     ]
    }
   ],
   "source": [
    "history=model.fit([x_tr,y_tr[:,:-1]], y_tr.reshape(y_tr.shape[0],y_tr.shape[1], 1)[:,1:] ,epochs=5,batch_size=16, validation_data=([x_val,y_val[:,:-1]], y_val.reshape(y_val.shape[0],y_val.shape[1], 1)[:,1:]))"
   ]
  },
  {
   "cell_type": "code",
   "execution_count": null,
   "metadata": {
    "id": "L4WmOFTccCS-"
   },
   "outputs": [],
   "source": [
    "#plot training\n",
    "from matplotlib import pyplot\n",
    "pyplot.plot(history.history['loss'], label='train')\n",
    "pyplot.plot(history.history['val_loss'], label='test')\n",
    "pyplot.legend()\n",
    "pyplot.show()"
   ]
  },
  {
   "cell_type": "code",
   "execution_count": null,
   "metadata": {
    "id": "sA-ubBW2cGGb"
   },
   "outputs": [],
   "source": [
    "reverse_target_word_index=y_tokenizer.index_word\n",
    "reverse_source_word_index=x_tokenizer.index_word\n",
    "target_word_index=y_tokenizer.word_index"
   ]
  },
  {
   "cell_type": "markdown",
   "metadata": {
    "id": "ZbV1BphvcJLI"
   },
   "source": [
    "# Encoder/Decoder"
   ]
  },
  {
   "cell_type": "code",
   "execution_count": null,
   "metadata": {
    "id": "fXUt74NKcMhK"
   },
   "outputs": [],
   "source": [
    "# Encode the input sequence to get the feature vector\n",
    "encoder_model = Model(inputs=encoder_inputs,outputs=[encoder_outputs, state_h, state_c])\n",
    "\n",
    "# Decoder setup\n",
    "# Below tensors will hold the states of the previous time step\n",
    "decoder_state_input_h = Input(shape=(latent_dim,))\n",
    "decoder_state_input_c = Input(shape=(latent_dim,))\n",
    "decoder_hidden_state_input = Input(shape=(max_text_len,latent_dim))\n",
    "\n",
    "# Get the embeddings of the decoder sequence\n",
    "dec_emb2= dec_emb_layer(decoder_inputs) \n",
    "# To predict the next word in the sequence, set the initial states to the states from the previous time step\n",
    "decoder_outputs2, state_h2, state_c2 = decoder_lstm(dec_emb2, initial_state=[decoder_state_input_h, decoder_state_input_c])\n",
    "\n",
    "#attention inference\n",
    "attn_out_inf, attn_states_inf = attn_layer([decoder_hidden_state_input, decoder_outputs2])\n",
    "decoder_inf_concat = Concatenate(axis=-1, name='concat')([decoder_outputs2, attn_out_inf])\n",
    "\n",
    "# A dense softmax layer to generate prob dist. over the target vocabulary\n",
    "decoder_outputs2 = decoder_dense(decoder_inf_concat) \n",
    "\n",
    "# Final decoder model\n",
    "decoder_model = Model(\n",
    "    [decoder_inputs] + [decoder_hidden_state_input,decoder_state_input_h, decoder_state_input_c],\n",
    "    [decoder_outputs2] + [state_h2, state_c2])"
   ]
  },
  {
   "cell_type": "code",
   "execution_count": null,
   "metadata": {
    "id": "h5qqPFTbcPsh"
   },
   "outputs": [],
   "source": [
    "def decode_sequence(input_seq):\n",
    "    # Encode the input as state vectors.\n",
    "    e_out, e_h, e_c = encoder_model.predict(input_seq)\n",
    "    \n",
    "    # Generate empty target sequence of length 1.\n",
    "    target_seq = np.zeros((1,1))\n",
    "    \n",
    "    # Populate the first word of target sequence with the start word.\n",
    "    target_seq[0, 0] = target_word_index['sostok']\n",
    "\n",
    "    stop_condition = False\n",
    "    decoded_sentence = ''\n",
    "    while not stop_condition:\n",
    "        #print('here')\n",
    "        output_tokens, h, c = decoder_model.predict([target_seq] + [e_out, e_h, e_c])\n",
    "\n",
    "        # Sample a token\n",
    "        sampled_token_index = np.argmax(output_tokens[0, -1, :])\n",
    "        #print(sampled_token_index)\n",
    "\n",
    "    #***for some reason the decoder breaks when sampled_token_index=0 t\n",
    "        if(sampled_token_index == 0):sampled_token_index = sampled_token_index+1\n",
    "    #****\n",
    "        sampled_token = reverse_target_word_index[sampled_token_index]\n",
    "        #sampled_token = reverse_source_word_index[sampled_token_index]\n",
    "        \n",
    "        if(sampled_token!='eostok'):\n",
    "            decoded_sentence += ' '+sampled_token\n",
    "\n",
    "        # Exit condition: either hit max length or find stop word.\n",
    "        if (sampled_token == 'eostok'  or len(decoded_sentence.split()) >= (max_summary_len-1)):\n",
    "            stop_condition = True\n",
    "\n",
    "        # Update the target sequence (of length 1).\n",
    "        target_seq = np.zeros((1,1))\n",
    "        target_seq[0, 0] = sampled_token_index\n",
    "\n",
    "        # Update internal states\n",
    "        e_h, e_c = h, c\n",
    "\n",
    "    return decoded_sentence"
   ]
  },
  {
   "cell_type": "code",
   "execution_count": null,
   "metadata": {
    "id": "HwGoCUONcReJ"
   },
   "outputs": [],
   "source": [
    "def seq2summary(input_seq):\n",
    "    newString=''\n",
    "    for i in input_seq:\n",
    "        if((i!=0 and i!=target_word_index['sostok']) and i!=target_word_index['eostok']):\n",
    "            newString=newString+reverse_target_word_index[i]+' '\n",
    "    return newString\n",
    "\n",
    "def seq2text(input_seq):\n",
    "    newString=''\n",
    "    for i in input_seq:\n",
    "        if(i!=0):\n",
    "            newString=newString+reverse_source_word_index[i]+' '\n",
    "    return newString"
   ]
  },
  {
   "cell_type": "code",
   "execution_count": null,
   "metadata": {
    "id": "v2QB92ppcTRB"
   },
   "outputs": [],
   "source": [
    "for i in range(0,100):\n",
    "    print(\"Review:\",seq2text(x_tr[i]))\n",
    "    print(\"Original summary:\",seq2summary(y_tr[i]))\n",
    "    print(\"Predicted summary:\",decode_sequence(x_tr[i].reshape(1,max_text_len)))\n",
    "    print(\"\\n\")"
   ]
  },
  {
   "cell_type": "code",
   "execution_count": null,
   "metadata": {
    "id": "ZklAuTfDCUmc"
   },
   "outputs": [],
   "source": [
    "# from google.colab import files\n",
    "# files.download('/var/log/colab-jupyter.log') "
   ]
  },
  {
   "cell_type": "code",
   "execution_count": null,
   "metadata": {
    "id": "YKpK3CbACbha"
   },
   "outputs": [],
   "source": []
  }
 ],
 "metadata": {
  "accelerator": "TPU",
  "colab": {
   "collapsed_sections": [
    "PVlUQSCgL6XN",
    "XoDSr0jpNpCy",
    "c0dIj8v9WEaD",
    "hHH0Py7nWMGu"
   ],
   "machine_shape": "hm",
   "name": "Covid19 Sum_V3.ipynb",
   "provenance": []
  },
  "kernelspec": {
   "display_name": "Python 3",
   "language": "python",
   "name": "python3"
  },
  "language_info": {
   "codemirror_mode": {
    "name": "ipython",
    "version": 3
   },
   "file_extension": ".py",
   "mimetype": "text/x-python",
   "name": "python",
   "nbconvert_exporter": "python",
   "pygments_lexer": "ipython3",
   "version": "3.8.2"
  }
 },
 "nbformat": 4,
 "nbformat_minor": 1
}
