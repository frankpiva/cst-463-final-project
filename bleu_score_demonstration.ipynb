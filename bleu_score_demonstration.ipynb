{
 "cells": [
  {
   "cell_type": "markdown",
   "metadata": {},
   "source": [
    "## BLEU Score Demonstration\n",
    "\n",
    "Credit: code adapted from Jason Brownlee PhD\n",
    "\n",
    "Source: https://machinelearningmastery.com/calculate-bleu-score-for-text-python/"
   ]
  },
  {
   "cell_type": "code",
   "execution_count": 2,
   "metadata": {},
   "outputs": [
    {
     "name": "stdout",
     "output_type": "stream",
     "text": [
      "[INFO] candidate: this is a test\n",
      "[INFO] reference: this is a test\n",
      "[INFO] cumulative 1-gram score: 1.00\n",
      "[INFO] cumulative 2-gram score: 1.00\n",
      "[INFO] cumulative 3-gram score: 1.00\n",
      "[INFO] cumulative 4-gram score: 1.00\n",
      "[INFO] candidate: this is small test\n",
      "[INFO] reference: this is a test\n",
      "[INFO] cumulative 1-gram score: 0.75\n",
      "[INFO] cumulative 2-gram score: 0.50\n",
      "[INFO] cumulative 3-gram score: 0.00\n",
      "[INFO] cumulative 4-gram score: 0.00\n",
      "[INFO] candidate: the quick brown fox jumped over the lazy dog\n",
      "[INFO] reference: the quick brown fox jumped over the lazy dog\n",
      "[INFO] cumulative 1-gram score: 1.00\n",
      "[INFO] cumulative 2-gram score: 1.00\n",
      "[INFO] cumulative 3-gram score: 1.00\n",
      "[INFO] cumulative 4-gram score: 1.00\n",
      "[INFO] candidate: the fast brown fox jumped over the lazy dog\n",
      "[INFO] reference: the quick brown fox jumped over the lazy dog\n",
      "[INFO] cumulative 1-gram score: 0.89\n",
      "[INFO] cumulative 2-gram score: 0.82\n",
      "[INFO] cumulative 3-gram score: 0.78\n",
      "[INFO] cumulative 4-gram score: 0.75\n"
     ]
    }
   ],
   "source": [
    "from nltk.translate.bleu_score import sentence_bleu\n",
    "\n",
    "def print_bleu_report(candidate, reference):\n",
    "    print(f\"[INFO] candidate: {' '.join(candidate)}\")\n",
    "    print(f\"[INFO] reference: {' '.join(reference[0])}\")\n",
    "    print(f\"[INFO] cumulative 1-gram score: {sentence_bleu(reference, candidate, weights=[1]):.2f}\")\n",
    "    print(f\"[INFO] cumulative 2-gram score: {sentence_bleu(reference, candidate, weights=[0.5, 0.5]):.2f}\")\n",
    "    print(f\"[INFO] cumulative 3-gram score: {sentence_bleu(reference, candidate, weights=[0.33, 0.33, 0.33]):.2f}\")\n",
    "    print(f\"[INFO] cumulative 4-gram score: {sentence_bleu(reference, candidate, weights=[0.25, 0.25, 0.25, 0.25]):.2f}\")\n",
    "\n",
    "\n",
    "perfect_candidate = ['this', 'is', 'a', 'test']\n",
    "similar_candidate = ['this', 'is', 'small', 'test']\n",
    "print_bleu_report(perfect_candidate, [perfect_candidate])\n",
    "print_bleu_report(similar_candidate, [perfect_candidate])    \n",
    "\n",
    "perfect_candidate = ['the', 'quick', 'brown', 'fox', 'jumped', 'over', 'the', 'lazy', 'dog']\n",
    "similar_candidate = ['the', 'fast', 'brown', 'fox', 'jumped', 'over', 'the', 'lazy', 'dog']\n",
    "print_bleu_report(perfect_candidate, [perfect_candidate])\n",
    "print_bleu_report(similar_candidate, [perfect_candidate])"
   ]
  },
  {
   "cell_type": "code",
   "execution_count": null,
   "metadata": {},
   "outputs": [],
   "source": []
  }
 ],
 "metadata": {
  "kernelspec": {
   "display_name": "Python 3",
   "language": "python",
   "name": "python3"
  },
  "language_info": {
   "codemirror_mode": {
    "name": "ipython",
    "version": 3
   },
   "file_extension": ".py",
   "mimetype": "text/x-python",
   "name": "python",
   "nbconvert_exporter": "python",
   "pygments_lexer": "ipython3",
   "version": "3.8.2"
  }
 },
 "nbformat": 4,
 "nbformat_minor": 4
}
