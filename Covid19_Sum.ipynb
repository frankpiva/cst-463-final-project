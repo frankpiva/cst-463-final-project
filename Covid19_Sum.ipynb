{
  "nbformat": 4,
  "nbformat_minor": 0,
  "metadata": {
    "accelerator": "TPU",
    "colab": {
      "name": "Covid19 Sum_V3.ipynb",
      "provenance": [],
      "collapsed_sections": [
        "PVlUQSCgL6XN",
        "XoDSr0jpNpCy",
        "c0dIj8v9WEaD",
        "hHH0Py7nWMGu"
      ],
      "machine_shape": "hm"
    },
    "kernelspec": {
      "display_name": "Python 3",
      "name": "python3"
    }
  },
  "cells": [
    {
      "cell_type": "markdown",
      "metadata": {
        "id": "_vyQj-x9LAtj"
      },
      "source": [
        "This kernel is an abstractive text summarizer that attempts to create novel summaries of Covid-19 research articles. We train on articles using their abstracts as targets, test on articles without abstracts. \r\n",
        "\r\n",
        "*** Colab crashes if articles are over 1000 in length. only 18% of the articles are < 1000. this is a problem***\r\n",
        "- ideas:\r\n",
        "  - pay for a better service\r\n",
        "  - split the articles into batches of len 800 and give them the same abstract\r\n",
        "    - frank had the idea that we would have to put the snippets back together. \r\n",
        "    - test with splits of 800 and compare to performance if we recombine the snippets.\r\n",
        "  - try on local machine before paying for anything\r\n"
      ]
    },
    {
      "cell_type": "markdown",
      "metadata": {
        "id": "snkAMhYRLoDa"
      },
      "source": [
        "# Imports"
      ]
    },
    {
      "cell_type": "code",
      "metadata": {
        "id": "-1xsakQrK2eS"
      },
      "source": [
        "import tensorflow as tf\r\n",
        "import numpy as np\r\n",
        "import nltk\r\n",
        "import pandas as pd \r\n",
        "import re\r\n",
        "import json\r\n",
        "import os\r\n",
        "from bs4 import BeautifulSoup\r\n",
        "from keras.preprocessing.text import Tokenizer \r\n",
        "from keras.preprocessing.sequence import pad_sequences\r\n",
        "from nltk.corpus import stopwords\r\n",
        "from tensorflow.keras.layers import Input, LSTM, Embedding, Dense, Concatenate, TimeDistributed, Layer, Bidirectional, Attention\r\n",
        "from tensorflow.keras.models import Model\r\n",
        "from tensorflow.keras.callbacks import EarlyStopping\r\n",
        "import warnings\r\n",
        "pd.set_option(\"display.max_colwidth\", 200)\r\n",
        "warnings.filterwarnings(\"ignore\")"
      ],
      "execution_count": null,
      "outputs": []
    },
    {
      "cell_type": "code",
      "metadata": {
        "colab": {
          "base_uri": "https://localhost:8080/"
        },
        "id": "SPLy3kznLuqN",
        "outputId": "f8b6e8d0-1e4d-4472-a3e0-59dcd447c1e7"
      },
      "source": [
        "from google.colab import drive\r\n",
        "drive.mount('/content/drive', force_remount=True)"
      ],
      "execution_count": null,
      "outputs": [
        {
          "output_type": "stream",
          "text": [
            "Mounted at /content/drive\n"
          ],
          "name": "stdout"
        }
      ]
    },
    {
      "cell_type": "code",
      "metadata": {
        "id": "OthsW3cJLwH8"
      },
      "source": [
        "data0=pd.read_csv('/content/drive/Shared drives/Abstractive Text Summarization/data.csv')\r\n",
        "data1=pd.read_csv('/content/drive/Shared drives/Abstractive Text Summarization/data_b1.csv')\r\n",
        "data2=pd.read_csv('/content/drive/Shared drives/Abstractive Text Summarization/data_b2.csv')\r\n",
        "data3=pd.read_csv('/content/drive/Shared drives/Abstractive Text Summarization/data_b3.csv')\r\n",
        "data4=pd.read_csv('/content/drive/Shared drives/Abstractive Text Summarization/data_b4.csv')\r\n",
        "data5=pd.read_csv('/content/drive/Shared drives/Abstractive Text Summarization/data_b5.csv')\r\n",
        "data6=pd.read_csv('/content/drive/Shared drives/Abstractive Text Summarization/data_b6.csv')\r\n",
        "data7=pd.read_csv('/content/drive/Shared drives/Abstractive Text Summarization/data_b7.csv')\r\n",
        "data8=pd.read_csv('/content/drive/Shared drives/Abstractive Text Summarization/data_bL.csv')\r\n"
      ],
      "execution_count": null,
      "outputs": []
    },
    {
      "cell_type": "code",
      "metadata": {
        "id": "1bb6ondHcb5U"
      },
      "source": [
        "frames = [data0,data1,data2,data3,data4,data5,data6,data7,data8]"
      ],
      "execution_count": null,
      "outputs": []
    },
    {
      "cell_type": "code",
      "metadata": {
        "id": "oiedYpbgd2Y7"
      },
      "source": [
        "data = pd.concat(frames)"
      ],
      "execution_count": null,
      "outputs": []
    },
    {
      "cell_type": "code",
      "metadata": {
        "id": "nAlpOMtFu_Yj"
      },
      "source": [
        "del data0, data1, data2, data3, data4, data5, data6, data7, data8, frames"
      ],
      "execution_count": null,
      "outputs": []
    },
    {
      "cell_type": "code",
      "metadata": {
        "colab": {
          "base_uri": "https://localhost:8080/"
        },
        "id": "OozhRrK4QiKb",
        "outputId": "c7e0ffa3-f07b-49f4-c1b2-f4d6580829db"
      },
      "source": [
        "data.info()"
      ],
      "execution_count": null,
      "outputs": [
        {
          "output_type": "stream",
          "text": [
            "<class 'pandas.core.frame.DataFrame'>\n",
            "Int64Index: 14126 entries, 0 to 2045\n",
            "Data columns (total 5 columns):\n",
            " #   Column           Non-Null Count  Dtype \n",
            "---  ------           --------------  ----- \n",
            " 0   Unnamed: 0       14126 non-null  int64 \n",
            " 1   Text             14126 non-null  object\n",
            " 2   Summary          14126 non-null  object\n",
            " 3   cleaned_text     14126 non-null  object\n",
            " 4   cleaned_summary  14126 non-null  object\n",
            "dtypes: int64(1), object(4)\n",
            "memory usage: 662.2+ KB\n"
          ],
          "name": "stdout"
        }
      ]
    },
    {
      "cell_type": "markdown",
      "metadata": {
        "id": "ZSmPGBCVLyP0"
      },
      "source": [
        "# Covid19Sum Dataset"
      ]
    },
    {
      "cell_type": "markdown",
      "metadata": {
        "id": "PVlUQSCgL6XN"
      },
      "source": [
        "## The metadata"
      ]
    },
    {
      "cell_type": "code",
      "metadata": {
        "id": "gLCH-gXUL5G9"
      },
      "source": [
        "# data_dir = \"/content/drive/Shared drives/Abstractive Text Summarization/metadata.csv\"\r\n",
        "# meta=pd.read_csv(data_dir)"
      ],
      "execution_count": null,
      "outputs": []
    },
    {
      "cell_type": "markdown",
      "metadata": {
        "id": "XoDSr0jpNpCy"
      },
      "source": [
        "## Data collection and preprocessing"
      ]
    },
    {
      "cell_type": "markdown",
      "metadata": {
        "id": "DeGK-9UWnlLs"
      },
      "source": [
        ""
      ]
    },
    {
      "cell_type": "markdown",
      "metadata": {
        "id": "RiCOhZF9MCxS"
      },
      "source": [
        "The pdf articles have abstracts, while the xml articles do not."
      ]
    },
    {
      "cell_type": "code",
      "metadata": {
        "id": "_yN4dGUWL-wh"
      },
      "source": [
        "# #PDF articles (for training)\r\n",
        "# os.chdir(\"/content/drive/Shared drives/Covid Summary Data/covid sum sample pdf\")\r\n",
        "# print(len(os.listdir()))"
      ],
      "execution_count": null,
      "outputs": []
    },
    {
      "cell_type": "markdown",
      "metadata": {
        "id": "08xOsP0GNynb"
      },
      "source": [
        ""
      ]
    },
    {
      "cell_type": "code",
      "metadata": {
        "id": "zKzg6MOEMVTo"
      },
      "source": [
        "#XML articles (for testing)\r\n",
        "# os.chdir(\"/content/drive/Shared drives/Abstractive Text Summarization/covid sum sample\")\r\n",
        "# os.listdir()"
      ],
      "execution_count": null,
      "outputs": []
    },
    {
      "cell_type": "markdown",
      "metadata": {
        "id": "OmdnGu6TMonQ"
      },
      "source": [
        "Here we parse the body of the articles and the abstracts"
      ]
    },
    {
      "cell_type": "code",
      "metadata": {
        "id": "O2VcqA6_MnJp"
      },
      "source": [
        "# #articles for train\r\n",
        "# articles_abstract = list()\r\n",
        "# articles_body = list()\r\n",
        "# for i in os.listdir():\r\n",
        "#  # print(i)\r\n",
        "#   with open(i) as json_file:\r\n",
        "#     itemDataPDF = json.load(json_file)\r\n",
        "#     text_collection_body = \"\"\r\n",
        "#     text_collection_abstract = \"\"\r\n",
        "#     for body_text in itemDataPDF['body_text']:\r\n",
        "#       # cov_test1.append(text['text'])\r\n",
        "#      # print(body_text['text'])\r\n",
        "#       text_collection_body = text_collection_body + body_text[\"text\"]\r\n",
        "#     for abs_text in itemDataPDF['abstract']:\r\n",
        "#      # print(abs_text['text'])\r\n",
        "#       text_collection_abstract = text_collection_abstract + abs_text['text']\r\n",
        "#   articles_body.append(text_collection_body)\r\n",
        "#   articles_abstract.append(text_collection_abstract)\r\n",
        "\r\n",
        "#   # break;\r\n",
        "# # with open('PMC442122.xml.json') as json_file:\r\n",
        "# #     itemData = json.load(json_file)\r\n"
      ],
      "execution_count": null,
      "outputs": []
    },
    {
      "cell_type": "code",
      "metadata": {
        "id": "ulq2eZ7WM8JD"
      },
      "source": [
        "# print(articles_abstract[1])"
      ],
      "execution_count": null,
      "outputs": []
    },
    {
      "cell_type": "code",
      "metadata": {
        "id": "dcmoYQkANCw_"
      },
      "source": [
        "#the body still has the section attatched. need to remove\r\n",
        "# print(articles_body[1])"
      ],
      "execution_count": null,
      "outputs": []
    },
    {
      "cell_type": "code",
      "metadata": {
        "id": "WzOKtcrDNJS1"
      },
      "source": [
        "# #checking that number of articles and abstracts match \r\n",
        "# #if they do not match, more processing is needed\r\n",
        "# print('number of abstracts',len(articles_abstract))\r\n",
        "# print('number of articles',len(articles_body))"
      ],
      "execution_count": null,
      "outputs": []
    },
    {
      "cell_type": "code",
      "metadata": {
        "id": "_5_CcYDiNkQa"
      },
      "source": [
        "#change to np array\r\n",
        "# articles = np.array(articles_body)\r\n",
        "# summary = np.array(articles_abstract)"
      ],
      "execution_count": null,
      "outputs": []
    },
    {
      "cell_type": "markdown",
      "metadata": {
        "id": "732bsFItOIvv"
      },
      "source": [
        "# AttentionLayer"
      ]
    },
    {
      "cell_type": "code",
      "metadata": {
        "id": "w3qjv5vTONr4"
      },
      "source": [
        "class AttentionLayer(Layer):\r\n",
        "    \"\"\"\r\n",
        "    This class implements Bahdanau attention (https://arxiv.org/pdf/1409.0473.pdf).\r\n",
        "    There are three sets of weights introduced W_a, U_a, and V_a\r\n",
        "     \"\"\"\r\n",
        "\r\n",
        "    def __init__(self, **kwargs):\r\n",
        "        super(AttentionLayer, self).__init__(**kwargs)\r\n",
        "\r\n",
        "    def build(self, input_shape):\r\n",
        "        assert isinstance(input_shape, list)\r\n",
        "        # Create a trainable weight variable for this layer.\r\n",
        "\r\n",
        "        self.W_a = self.add_weight(name='W_a',\r\n",
        "                                   shape=tf.TensorShape((input_shape[0][2], input_shape[0][2])),\r\n",
        "                                   initializer='uniform',\r\n",
        "                                   trainable=True)\r\n",
        "        self.U_a = self.add_weight(name='U_a',\r\n",
        "                                   shape=tf.TensorShape((input_shape[1][2], input_shape[0][2])),\r\n",
        "                                   initializer='uniform',\r\n",
        "                                   trainable=True)\r\n",
        "        self.V_a = self.add_weight(name='V_a',\r\n",
        "                                   shape=tf.TensorShape((input_shape[0][2], 1)),\r\n",
        "                                   initializer='uniform',\r\n",
        "                                   trainable=True)\r\n",
        "\r\n",
        "        super(AttentionLayer, self).build(input_shape)  # Be sure to call this at the end\r\n",
        "\r\n",
        "    def call(self, inputs, verbose=False):\r\n",
        "        \"\"\"\r\n",
        "        inputs: [encoder_output_sequence, decoder_output_sequence]\r\n",
        "        \"\"\"\r\n",
        "        assert type(inputs) == list\r\n",
        "        encoder_out_seq, decoder_out_seq = inputs\r\n",
        "        if verbose:\r\n",
        "            print('encoder_out_seq>', encoder_out_seq.shape)\r\n",
        "            print('decoder_out_seq>', decoder_out_seq.shape)\r\n",
        "\r\n",
        "        def energy_step(inputs, states):\r\n",
        "            \"\"\" Step function for computing energy for a single decoder state\r\n",
        "            inputs: (batchsize * 1 * de_in_dim)\r\n",
        "            states: (batchsize * 1 * de_latent_dim)\r\n",
        "            \"\"\"\r\n",
        "\r\n",
        "            assert_msg = \"States must be an iterable. Got {} of type {}\".format(states, type(states))\r\n",
        "            assert isinstance(states, list) or isinstance(states, tuple), assert_msg\r\n",
        "\r\n",
        "            \"\"\" Some parameters required for shaping tensors\"\"\"\r\n",
        "            en_seq_len, en_hidden = encoder_out_seq.shape[1], encoder_out_seq.shape[2]\r\n",
        "            de_hidden = inputs.shape[-1]\r\n",
        "\r\n",
        "            \"\"\" Computing S.Wa where S=[s0, s1, ..., si]\"\"\"\r\n",
        "            # <= batch size * en_seq_len * latent_dim\r\n",
        "            W_a_dot_s = K.dot(encoder_out_seq, self.W_a)\r\n",
        "\r\n",
        "            \"\"\" Computing hj.Ua \"\"\"\r\n",
        "            U_a_dot_h = K.expand_dims(K.dot(inputs, self.U_a), 1)  # <= batch_size, 1, latent_dim\r\n",
        "            if verbose:\r\n",
        "                print('Ua.h>', U_a_dot_h.shape)\r\n",
        "\r\n",
        "            \"\"\" tanh(S.Wa + hj.Ua) \"\"\"\r\n",
        "            # <= batch_size*en_seq_len, latent_dim\r\n",
        "            Ws_plus_Uh = K.tanh(W_a_dot_s + U_a_dot_h)\r\n",
        "            if verbose:\r\n",
        "                print('Ws+Uh>', Ws_plus_Uh.shape)\r\n",
        "\r\n",
        "            \"\"\" softmax(va.tanh(S.Wa + hj.Ua)) \"\"\"\r\n",
        "            # <= batch_size, en_seq_len\r\n",
        "            e_i = K.squeeze(K.dot(Ws_plus_Uh, self.V_a), axis=-1)\r\n",
        "            # <= batch_size, en_seq_len\r\n",
        "            e_i = K.softmax(e_i)\r\n",
        "\r\n",
        "            if verbose:\r\n",
        "                print('ei>', e_i.shape)\r\n",
        "\r\n",
        "            return e_i, [e_i]\r\n",
        "\r\n",
        "        def context_step(inputs, states):\r\n",
        "            \"\"\" Step function for computing ci using ei \"\"\"\r\n",
        "\r\n",
        "            assert_msg = \"States must be an iterable. Got {} of type {}\".format(states, type(states))\r\n",
        "            assert isinstance(states, list) or isinstance(states, tuple), assert_msg\r\n",
        "\r\n",
        "            # <= batch_size, hidden_size\r\n",
        "            c_i = K.sum(encoder_out_seq * K.expand_dims(inputs, -1), axis=1)\r\n",
        "            if verbose:\r\n",
        "                print('ci>', c_i.shape)\r\n",
        "            return c_i, [c_i]\r\n",
        "\r\n",
        "        fake_state_c = K.sum(encoder_out_seq, axis=1)\r\n",
        "        fake_state_e = K.sum(encoder_out_seq, axis=2)  # <= (batch_size, enc_seq_len, latent_dim\r\n",
        "\r\n",
        "        \"\"\" Computing energy outputs \"\"\"\r\n",
        "        # e_outputs => (batch_size, de_seq_len, en_seq_len)\r\n",
        "        last_out, e_outputs, _ = K.rnn(\r\n",
        "            energy_step, decoder_out_seq, [fake_state_e],\r\n",
        "        )\r\n",
        "\r\n",
        "        \"\"\" Computing context vectors \"\"\"\r\n",
        "        last_out, c_outputs, _ = K.rnn(\r\n",
        "            context_step, e_outputs, [fake_state_c],\r\n",
        "        )\r\n",
        "\r\n",
        "        return c_outputs, e_outputs\r\n",
        "\r\n",
        "    def compute_output_shape(self, input_shape):\r\n",
        "        \"\"\" Outputs produced by the layer \"\"\"\r\n",
        "        return [\r\n",
        "            tf.TensorShape((input_shape[1][0], input_shape[1][1], input_shape[1][2])),\r\n",
        "            tf.TensorShape((input_shape[1][0], input_shape[1][1], input_shape[0][1]))\r\n",
        "        ]"
      ],
      "execution_count": null,
      "outputs": []
    },
    {
      "cell_type": "markdown",
      "metadata": {
        "id": "c0dIj8v9WEaD"
      },
      "source": [
        "# Creating Dataframe"
      ]
    },
    {
      "cell_type": "code",
      "metadata": {
        "id": "ugRjk4_dTNpv"
      },
      "source": [
        "# #creates \"nice\" string? not sure if this is necessary\r\n",
        "# def to_string_trim(line):\r\n",
        "#   return str(line)[2:-2]"
      ],
      "execution_count": null,
      "outputs": []
    },
    {
      "cell_type": "code",
      "metadata": {
        "id": "bn94RBLIMSqT"
      },
      "source": [
        "# X_test = np.array(list(map(to_string_trim, np.array(articles_body))))\r\n",
        "# y_test = np.array(list(map(to_string_trim, np.array(articles_abstract))))"
      ],
      "execution_count": null,
      "outputs": []
    },
    {
      "cell_type": "code",
      "metadata": {
        "id": "GSxzAJH6UuIr"
      },
      "source": [
        "# X_test = np.array(list(map(to_string_trim, articles)))\r\n",
        "# y_test = np.array(list(map(to_string_trim, summary)))\r\n"
      ],
      "execution_count": null,
      "outputs": []
    },
    {
      "cell_type": "code",
      "metadata": {
        "id": "ftka7cKpV0qy"
      },
      "source": [
        "# data = pd.DataFrame({\"Text\":X_test, \"Summary\":y_test})"
      ],
      "execution_count": null,
      "outputs": []
    },
    {
      "cell_type": "code",
      "metadata": {
        "id": "bV96Hm4EV90E"
      },
      "source": [
        "# data.info()"
      ],
      "execution_count": null,
      "outputs": []
    },
    {
      "cell_type": "markdown",
      "metadata": {
        "id": "hHH0Py7nWMGu"
      },
      "source": [
        "# Preprocessing\r\n"
      ]
    },
    {
      "cell_type": "markdown",
      "metadata": {
        "id": "zgtXuF1sWP4b"
      },
      "source": [
        "Some of the preprocessing may be redundant. Not sure if contraction_mapping is necssary, research articles shouldn't have many contractions."
      ]
    },
    {
      "cell_type": "code",
      "metadata": {
        "id": "hq6zWzeOWapC"
      },
      "source": [
        "# contraction_mapping = {\"ain't\": \"is not\", \"aren't\": \"are not\",\"can't\": \"cannot\", \"'cause\": \"because\", \"could've\": \"could have\", \"couldn't\": \"could not\",\r\n",
        "#                            \"didn't\": \"did not\",  \"doesn't\": \"does not\", \"don't\": \"do not\", \"hadn't\": \"had not\", \"hasn't\": \"has not\", \"haven't\": \"have not\",\r\n",
        "#                            \"he'd\": \"he would\",\"he'll\": \"he will\", \"he's\": \"he is\", \"how'd\": \"how did\", \"how'd'y\": \"how do you\", \"how'll\": \"how will\", \"how's\": \"how is\",\r\n",
        "#                            \"I'd\": \"I would\", \"I'd've\": \"I would have\", \"I'll\": \"I will\", \"I'll've\": \"I will have\",\"I'm\": \"I am\", \"I've\": \"I have\", \"i'd\": \"i would\",\r\n",
        "#                            \"i'd've\": \"i would have\", \"i'll\": \"i will\",  \"i'll've\": \"i will have\",\"i'm\": \"i am\", \"i've\": \"i have\", \"isn't\": \"is not\", \"it'd\": \"it would\",\r\n",
        "#                            \"it'd've\": \"it would have\", \"it'll\": \"it will\", \"it'll've\": \"it will have\",\"it's\": \"it is\", \"let's\": \"let us\", \"ma'am\": \"madam\",\r\n",
        "#                            \"mayn't\": \"may not\", \"might've\": \"might have\",\"mightn't\": \"might not\",\"mightn't've\": \"might not have\", \"must've\": \"must have\",\r\n",
        "#                            \"mustn't\": \"must not\", \"mustn't've\": \"must not have\", \"needn't\": \"need not\", \"needn't've\": \"need not have\",\"o'clock\": \"of the clock\",\r\n",
        "#                            \"oughtn't\": \"ought not\", \"oughtn't've\": \"ought not have\", \"shan't\": \"shall not\", \"sha'n't\": \"shall not\", \"shan't've\": \"shall not have\",\r\n",
        "#                            \"she'd\": \"she would\", \"she'd've\": \"she would have\", \"she'll\": \"she will\", \"she'll've\": \"she will have\", \"she's\": \"she is\",\r\n",
        "#                            \"should've\": \"should have\", \"shouldn't\": \"should not\", \"shouldn't've\": \"should not have\", \"so've\": \"so have\",\"so's\": \"so as\",\r\n",
        "#                            \"this's\": \"this is\",\"that'd\": \"that would\", \"that'd've\": \"that would have\", \"that's\": \"that is\", \"there'd\": \"there would\",\r\n",
        "#                            \"there'd've\": \"there would have\", \"there's\": \"there is\", \"here's\": \"here is\",\"they'd\": \"they would\", \"they'd've\": \"they would have\",\r\n",
        "#                            \"they'll\": \"they will\", \"they'll've\": \"they will have\", \"they're\": \"they are\", \"they've\": \"they have\", \"to've\": \"to have\",\r\n",
        "#                            \"wasn't\": \"was not\", \"we'd\": \"we would\", \"we'd've\": \"we would have\", \"we'll\": \"we will\", \"we'll've\": \"we will have\", \"we're\": \"we are\",\r\n",
        "#                            \"we've\": \"we have\", \"weren't\": \"were not\", \"what'll\": \"what will\", \"what'll've\": \"what will have\", \"what're\": \"what are\",\r\n",
        "#                            \"what's\": \"what is\", \"what've\": \"what have\", \"when's\": \"when is\", \"when've\": \"when have\", \"where'd\": \"where did\", \"where's\": \"where is\",\r\n",
        "#                            \"where've\": \"where have\", \"who'll\": \"who will\", \"who'll've\": \"who will have\", \"who's\": \"who is\", \"who've\": \"who have\",\r\n",
        "#                            \"why's\": \"why is\", \"why've\": \"why have\", \"will've\": \"will have\", \"won't\": \"will not\", \"won't've\": \"will not have\",\r\n",
        "#                            \"would've\": \"would have\", \"wouldn't\": \"would not\", \"wouldn't've\": \"would not have\", \"y'all\": \"you all\",\r\n",
        "#                            \"y'all'd\": \"you all would\",\"y'all'd've\": \"you all would have\",\"y'all're\": \"you all are\",\"y'all've\": \"you all have\",\r\n",
        "#                            \"you'd\": \"you would\", \"you'd've\": \"you would have\", \"you'll\": \"you will\", \"you'll've\": \"you will have\",\r\n",
        "#                            \"you're\": \"you are\", \"you've\": \"you have\"}"
      ],
      "execution_count": null,
      "outputs": []
    },
    {
      "cell_type": "code",
      "metadata": {
        "id": "7gDrj59XWiJ3"
      },
      "source": [
        "# #removes HTML tags no necessary, contraction mapping?,\r\n",
        "# # remove('s) and parenthesis may be useful\r\n",
        "# import nltk\r\n",
        "# nltk.download('stopwords')\r\n",
        "\r\n",
        "# stop_words = set(stopwords.words('english')) \r\n",
        "\r\n",
        "# def text_cleaner(text,num):\r\n",
        "#     newString = text.lower()\r\n",
        "#     newString = BeautifulSoup(newString, \"lxml\").text\r\n",
        "#     newString = re.sub(r'\\([^)]*\\)', '', newString)\r\n",
        "#     newString = re.sub('\"','', newString)\r\n",
        "#     newString = ' '.join([contraction_mapping[t] if t in contraction_mapping else t for t in newString.split(\" \")])    \r\n",
        "#     newString = re.sub(r\"'s\\b\",\"\",newString)\r\n",
        "#     newString = re.sub(\"[^a-zA-Z]\", \" \", newString) \r\n",
        "#     newString = re.sub('[m]{2,}', 'mm', newString)\r\n",
        "#     if(num==0):\r\n",
        "#         tokens = [w for w in newString.split() if not w in stop_words]\r\n",
        "#     else:\r\n",
        "#         tokens=newString.split()\r\n",
        "#     long_words=[]\r\n",
        "#     for i in tokens:\r\n",
        "#         if len(i)>1:                                                 #removing short word\r\n",
        "#             long_words.append(i)   \r\n",
        "#     return (\" \".join(long_words)).strip()"
      ],
      "execution_count": null,
      "outputs": []
    },
    {
      "cell_type": "code",
      "metadata": {
        "id": "naiNwGPcW5QD"
      },
      "source": [
        "# #call the function\r\n",
        "# cleaned_text = []\r\n",
        "# for t in data['Text']:\r\n",
        "#     cleaned_text.append(text_cleaner(t,0)) "
      ],
      "execution_count": null,
      "outputs": []
    },
    {
      "cell_type": "code",
      "metadata": {
        "id": "PsIrywL5W-LL"
      },
      "source": [
        "# cleaned_text[:5]  "
      ],
      "execution_count": null,
      "outputs": []
    },
    {
      "cell_type": "code",
      "metadata": {
        "id": "SnGJg9AuW_49"
      },
      "source": [
        "# #call the function\r\n",
        "# cleaned_summary = []\r\n",
        "# for t in data['Summary']:\r\n",
        "#     cleaned_summary.append(text_cleaner(t,1))"
      ],
      "execution_count": null,
      "outputs": []
    },
    {
      "cell_type": "code",
      "metadata": {
        "id": "lwlEkoT7XBZZ"
      },
      "source": [
        "# cleaned_summary[:10]"
      ],
      "execution_count": null,
      "outputs": []
    },
    {
      "cell_type": "code",
      "metadata": {
        "id": "vpMRsWJxXDDh"
      },
      "source": [
        "# data['cleaned_text']=cleaned_text\r\n",
        "# data['cleaned_summary']=cleaned_summary"
      ],
      "execution_count": null,
      "outputs": []
    },
    {
      "cell_type": "markdown",
      "metadata": {
        "id": "HmMXPrfpXGjM"
      },
      "source": [
        "shouldnt have any empty rows, but just incase:\r\n",
        "*turns out its needed*"
      ]
    },
    {
      "cell_type": "code",
      "metadata": {
        "id": "2qSdqUkRXKKR"
      },
      "source": [
        "# data.replace('', np.nan, inplace=True)\r\n",
        "# data.dropna(axis=0,inplace=True)"
      ],
      "execution_count": null,
      "outputs": []
    },
    {
      "cell_type": "code",
      "metadata": {
        "colab": {
          "base_uri": "https://localhost:8080/"
        },
        "id": "cnhkcE52LGvK",
        "outputId": "221b0dd6-e5ae-4a71-e559-b9ca02d891e8"
      },
      "source": [
        "data.info()"
      ],
      "execution_count": null,
      "outputs": [
        {
          "output_type": "stream",
          "text": [
            "<class 'pandas.core.frame.DataFrame'>\n",
            "Int64Index: 14126 entries, 0 to 2045\n",
            "Data columns (total 5 columns):\n",
            " #   Column           Non-Null Count  Dtype \n",
            "---  ------           --------------  ----- \n",
            " 0   Unnamed: 0       14126 non-null  int64 \n",
            " 1   Text             14126 non-null  object\n",
            " 2   Summary          14126 non-null  object\n",
            " 3   cleaned_text     14126 non-null  object\n",
            " 4   cleaned_summary  14126 non-null  object\n",
            "dtypes: int64(1), object(4)\n",
            "memory usage: 662.2+ KB\n"
          ],
          "name": "stdout"
        }
      ]
    },
    {
      "cell_type": "code",
      "metadata": {
        "id": "R_vvfGN_N_4G"
      },
      "source": [
        "# with open('/content/drive/Shared drives/Abstractive Text Summarization/data.csv', 'w') as f:\r\n",
        "#   data.to_csv(f)"
      ],
      "execution_count": null,
      "outputs": []
    },
    {
      "cell_type": "markdown",
      "metadata": {
        "id": "DHJxprenQtZW"
      },
      "source": [
        "# Data info"
      ]
    },
    {
      "cell_type": "code",
      "metadata": {
        "colab": {
          "base_uri": "https://localhost:8080/"
        },
        "id": "OyDdV0LNGx6f",
        "outputId": "9ad2987e-f0cd-4c81-d2cf-08fb0d89522d"
      },
      "source": [
        "data.info()"
      ],
      "execution_count": null,
      "outputs": [
        {
          "output_type": "stream",
          "text": [
            "<class 'pandas.core.frame.DataFrame'>\n",
            "Int64Index: 14126 entries, 0 to 2045\n",
            "Data columns (total 5 columns):\n",
            " #   Column           Non-Null Count  Dtype \n",
            "---  ------           --------------  ----- \n",
            " 0   Unnamed: 0       14126 non-null  int64 \n",
            " 1   Text             14126 non-null  object\n",
            " 2   Summary          14126 non-null  object\n",
            " 3   cleaned_text     14126 non-null  object\n",
            " 4   cleaned_summary  14126 non-null  object\n",
            "dtypes: int64(1), object(4)\n",
            "memory usage: 662.2+ KB\n"
          ],
          "name": "stdout"
        }
      ]
    },
    {
      "cell_type": "code",
      "metadata": {
        "colab": {
          "base_uri": "https://localhost:8080/"
        },
        "id": "Rjnx8thXGoVa",
        "outputId": "40c2b2f0-4d8b-49ab-bd82-4e3d507740c5"
      },
      "source": [
        "for i in range(5):\r\n",
        "  print(\"Article\", i+1)\r\n",
        "  print(data['cleaned_text'][i])\r\n",
        "  print('-'*100)\r\n",
        "  print(data['cleaned_summary'][i])"
      ],
      "execution_count": null,
      "outputs": [
        {
          "output_type": "stream",
          "text": [
            "Article 1\n",
            "0    contrast lengthy often redundant genomes higher organisms genomes viruses extremely efficient encoding genes mammalian genomes example possess lengthy introns code genes given segment viral genome...\n",
            "0    use personal protective equipment central behavioural policy response control spread sars cov virus global covid pandemic particular masks sometimes gloves aprons gowns face eye protection recomme...\n",
            "0    document written request parisarea healthcare authorities france guidance intended help professionals coordinate patients pathways standardize practices among centers avoid acting first come first...\n",
            "0    historically pacific island countries territories severely affected influenza pandemics part world extreme example influenza pandemic western samoa experienced loss population hand also pandemic f...\n",
            "0    drug metabolism experiment played important role drug discovery drug design drug clinical application therefore fast efficient ways provide accurate information drug metabolism target compounds ma...\n",
            "0    date italy experiencing severe outbreak covid infection largely unexpected death rate consequence entire nation global lockdown contain virus spread since february except health services food supp...\n",
            "0    may researchers craig venter institute published science latest achievement creation first synthetic cell labeled jcvi syn controlled completely chemically synthesized genome achievement upon publ...\n",
            "0    recent research shown psychological stress influences susceptibility experimentally induced upper respiratory tract illnesses also shown respiratory virus infections commonly cause associated exac...\n",
            "0    insufficient properly resolve small scales mixing process crucial droplet evaporation also temperature humidity fields fully coupled however determine evaporation rate thus lifetime droplets essen...\n",
            "Name: cleaned_text, dtype: object\n",
            "----------------------------------------------------------------------------------------------------\n",
            "0    smallest known biological organisms are by far the viruses one of the unique adaptations that many viruses have aquired is the compression of the genes in their genomes in this paper we study form...\n",
            "0    use of personal protective equipment has been central to controlling spread of sars cov this study aims to quantify the environmental impact of this and to model strategies for its reduction life ...\n",
            "0    sars cov has caused global pandemic unprecedented in size spread severity and mortality the influx of patients with severe or life threatening disease means that in some cases the available medica...\n",
            "0    background historically pacific island countries and territories have been more severely affected by influenza pandemics than any other part of the world we herein describe the emergence and epide...\n",
            "0    sensitive and specific method for the analysis of anisodamine and its metabolites in rat urine by liquid chromatography electrospray ionization tandem mass spectrometry was developed various extra...\n",
            "0    to contain covid spread italy is under global lockdown since february except for health services and food supply in this scenario growing apprehension concerning legal consequences is rising among...\n",
            "0    synthetic biology is an emerging field which since its birth has shown great value and potential in many fields including medicine energy environment and agriculture it is also important for the s...\n",
            "0    the aim of this research was study the role of psychosocial factors in exacerbations of asthma in adults induced by upper respiratory tract infections it involved longitudinal study of adults with...\n",
            "0    to mitigate the covid pandemic it is key to slow down the spreading of the life threatening coronavirus this spreading mainly occurs through virus laden droplets expelled at speaking screaming sho...\n",
            "Name: cleaned_summary, dtype: object\n",
            "Article 2\n",
            "1    human respiratory viruses include adenovirus bocavirus human coronaviruses enterovirus influenza viruses human metapneumovirus parainfluenza virus respiratory syncytial virus rhinovirus although r...\n",
            "1    developed deterministic compartmental transmission model sars cov population stratified disease status disease awareness status due spread covid self imposed measures assumed taken diseaseaware in...\n",
            "1    coronavirus acute disease primarily targets respiratory system however mounting evidence suggests cardiac involvement common particularly hospitalized patients substantial increase morbidity morta...\n",
            "1    new coronavirus sars cov found cause pulmonary disease city wuhan china december name sars cov due genomic rna similar severe acute respiratory syndrome coronavirus viruses found link clade betaco...\n",
            "1    le virus influenza origine de la premi pand mie du xxi si cle les premiers cas sont apparus en france au du mois de mai pendant deux mois tous les cas ont hospitalis et isol la mise en place de la...\n",
            "1    outbreak middle east respiratory syndrome coronavirus posed serious public health threat republic korea generated confirmed cases including fatal cases drawn lot attention largest outbreak mers co...\n",
            "1    challenges combating novel coronavirus pandemic put halt many economic socio cultural activities many societies across globe hand triggered avalanche scientific research within outside medical dom...\n",
            "1    one approach estimate prevalence assay measurements begins setting cut value samples whose measurement exceeds value diagnosed infected uninfected rather setting cut model probability sample infec...\n",
            "1    measles virus member genus morbillivirus family paramyxoviridae order mononegavirales consists nucleotides encode six major structural proteins nucleoprotein phosphoprotein large protein genomic r...\n",
            "Name: cleaned_text, dtype: object\n",
            "----------------------------------------------------------------------------------------------------\n",
            "1    laboratory confirmed cases of respiratory viral infection among hospitalized patients were categorized as having hospital acquired infection the overall incidence of hospital acquired respiratory ...\n",
            "1    the coronavirus disease caused by the severe acute respiratory syndrome coronavirus has spread to nearly every country in the world since it first emerged in china in december many countries have ...\n",
            "1    tel word count conflict of interest none declared journal pre proof abstract coronavirus is an acute respiratory disease that has rapidly spread around the world and been declared global pandemic ...\n",
            "1    recently pathogen has been identified as novel coronavirus and found to trigger novel pneumonia in human beings and some other mammals the uncontrolled release of cytokines is seen from the primar...\n",
            "1    le registre reva grippe srlf permis de colliger les donn es de patients infect par le virus grippal et hospitalis en animation la mortalit globale de ces patients de le recours la ventilation inva...\n",
            "1    super spreading events have been observed in the transmission dynamics of many infectious diseases the mers cov outbreak in the republic of korea has also shown super spreading events with signifi...\n",
            "1    please cite this article as haghani bliemer goerlandt li the scientific literature on coronaviruses covid and its associated safety related research dimensions scientometric analysis and scoping r...\n",
            "1    during the emergence of pandemic we need to estimate the prevalence of disease using serological assays whose characterization is incomplete relying on limited validation data this introduces unce...\n",
            "1    further attenuated measles vaccines were developed more than years ago and have been used throughout the world recombinant measles vaccine candidates have been developed and express several hetero...\n",
            "Name: cleaned_summary, dtype: object\n",
            "Article 3\n",
            "2    pathologies infectieuses respiratoires sont fr quemment rencontr es dans la communaut et ralement de gravit ou mod les agents responsables sont dans la plupart des cas de type viral avec parmi eux...\n",
            "2    covid spread within months countries across globe progression covid pandemic country estimated daily report compiled world health organization publically available worldometers online resource cou...\n",
            "2    first outbreak disease caused sars cov virus wuhan december rapid spread led declare global health emergency shortly related impact confinement adherence pregnant women md physical exercise engage...\n",
            "2    march th world health organization declared coronavirus disease pandemic due high number cases countries outside china disease started late currently almost million people worldwide infected virus...\n",
            "2    like chinese diaspora archaeology archaeology japanese diaspora traces roots late contrast early work isolated incidental unreported formal reports japanese diaspora sites north america pacific is...\n",
            "2    dear editor read great interest article myasthenic crisis covid delly et al described case patient myasthenic crisis simultaneous severe acute respiratory syndrome coronavirus infection authors cl...\n",
            "2    rapid growth antibiotic resistance become main clinical epidemiological problem human health bacteria lactam antibiotics primarily hydrolyzed blactamases acylation deacylation based process thus b...\n",
            "2    coronaviruses rna single stranded positive polarity virus associated important disease avian poultry infectious bronchitis virus known coronavirus chickens causes important economic losses poultry...\n",
            "2    last years microfinance exploded development tool across global south first premised provision small scale loans income generation microfinance promoted market driven silver bullet escape poverty ...\n",
            "Name: cleaned_text, dtype: object\n",
            "----------------------------------------------------------------------------------------------------\n",
            "2    et accept le vrier les infections virales respiratoires communautaires sont fr quentes et le plus souvent nignes beaucoup agents diff rents comme les virus influenza ou para influenza le virus res...\n",
            "2    covid started in hubei province in china and has spread to countries within months the statistic of covid across the world is reported daily providing dynamic perspective for each country we teste...\n",
            "2    background this study aimed to analyze the impact of the confinement due to the covid pandemics on the eating exercise and quality of life habits of pregnant women methods this was an internet bas...\n",
            "2    as in other countries health problems such as osteoporotic hip fractures may in fact remain stable during the implementation of stringent lock down measures for the population like osteoporotic hi...\n",
            "2    japanese diaspora archaeology originated in the late but reports and publications did not appear until the early studies often included japanese artifacts or sites within larger surveys but by the...\n",
            "2    funding this research did not receive any specific grant from funding agencies in the public commercial or not for profit sectors journal pre proof journal pre proof journal pre proof highlights w...\n",
            "2    new delhi metallo beta lactamase is an enzyme that makes bacteria resistant to broad range of beta lactam antibiotic drugs this is because it can inactivate most beta lactam antibiotic drugs by hy...\n",
            "2    coronaviruses are single stranded positive sense rna viruses associated with important avian diseases their relatively high rates of mutation and recombination frequencies allow them to adapt to n...\n",
            "2    the covid pandemic has hit at time when microfinance is at its historical peak with an estimated million microfinance customers globally cambodia microfinance sector is one of the fastest growing ...\n",
            "Name: cleaned_summary, dtype: object\n",
            "Article 4\n",
            "3    ronavirus disease caused severe acute respiratory distress syndrome coronavirus initially reported december pneumonia unknown etiology wuhan city china world health organization recognized sars co...\n",
            "3    estimating field effectiveness influenza vaccines poses specific challenges pandemic particular pandemic seasonal vaccination campaigns took place epidemic consequence vaccine coverage changed tim...\n",
            "3    houttuynia cordata thunb traditional medicinal plant used china years treatment cough leucorrhea ureteritis previous study showed steam distillate prepared fresh plants houttuynia cordata thunb po...\n",
            "3    covid pandemic significantly impacted economies world full impacts felt let alone measured runs course secondary effects around much longer consequences altering courses implications likely extend...\n",
            "3    purulente huidinfecties worden meestal veroorzaakt door grampositieve bacteri met zogenaamde empirische antibiotische therapie gericht tegen streptokokken en stafylokokken en met drainage bij abce...\n",
            "3    asset management organizations introducing data science initiatives support digital transformation business processes however order data science successful vital asset management organizations abl...\n",
            "3    recent covid pandemic showed deeper understanding dynamics outbreaking spreading infectious disease necessary specially urgent need models accurately predicts first stages epidemic outbreak order ...\n",
            "3    mouse hepatitis virus murine coronavirus contains largest known viral rna genome kb nonsegmented single stranded rna positive polarity replication strategy mhv includes transcription full length n...\n",
            "3    generation rndvs expressing protein ibv expression cassettes containing codon optimized non codon optimized genes ibv cloned cdna encoding complete antigenome ndv strain lasota using pmei site gen...\n",
            "Name: cleaned_text, dtype: object\n",
            "----------------------------------------------------------------------------------------------------\n",
            "3    world health organization recognized sars cov as public health concern and declared it as pandemic on march over million people have been affected across several countries since it was first recog...\n",
            "3    background in this study we assess how effective pandemic and trivalent seasonal vaccines were in preventing influenza like illness during the pandemic in france we also compare vaccine effectiven...\n",
            "3    houttuynia cordata injection is traditional chinese medicine used in china it was chosen as one of eight types of traditional chinese medicine that play unique role in severe acute respiratory syn...\n",
            "3    this review draws pragmatic lessons for developing countries to address covid induced recessions and to sustain developmental recovery these recessions are unique caused initially by supply disrup...\n",
            "3    mediastinal compression syndromes due to idiopathic fibrosing mediastinitis report of three cases and review of the literature thorac cardiovasc surg dehner lp coffin cm idiopathic fibrosclerotic ...\n",
            "3    more and more asset management organizations are introducing data science initiatives to support predictive maintenance and anomaly detection asset management organizations are by nature data inte...\n",
            "3    please cite this article as ballesteros blasco and gutierrez sagredo hamiltonian structure of compartmental epidemiological models physica doi https doi any epidemiological compartmental model wit...\n",
            "3    several polypeptide products of mhv orf were characterized in mhv infected dbt cells using antisera directed against fusion proteins encoded in the first kb of orfla these included the previously ...\n",
            "3    currently live attenuated ibv vaccines are used to control the disease however safety attenuation and immunization outcomes of current vaccines are not guaranteed several studies indicate that att...\n",
            "Name: cleaned_summary, dtype: object\n",
            "Article 5\n",
            "4    decins sans fronti res one world leading humanitarian medical organizations provides emergency medical assistance populations danger countries foundational animating values msf humanitarian medica...\n",
            "4    covid pandemic reached million confirmed reported cases worldwide generally associated acronym precedes name severe acute respiratory syndrome however bottom iceberg progressively unveiled since f...\n",
            "4    review summarize present day knowledge concerning host proteins able downmodulate capture nanoparticles phagocytes cells also aim challenging easy simplified straightforward yet quite widespread c...\n",
            "4    sars cov etiologic agent current covid pandemic similar sars cov betacoronaviruses uses angiotensin converting enzyme receptor ace expressed nasal respiratory epithelium conducting airway type ii ...\n",
            "4    introduction acute respiratory disease caused novel coronavirus coronavirus disease spread throughout china received worldwide attention january world health organization officially declared covid...\n",
            "4    coronaviridae large family medically important viruses cause primarily respiratory enteric infections humans wide range animals viruses enveloped contain single stranded positive sense rna genome ...\n",
            "4    new pandemic caused severe acute respiratory syndrome coronavirus emerged late disrupting health systems critical care even within developed heath systems economies april nd million confirmed case...\n",
            "4    vivo studies highlighted role exacerbation respiratory viral infections recently research group setti et al table considering population size density potential confounders observed effect pm daily...\n",
            "4    recent worldwide outbreak caused novel virus named novel coronavirus chinese researchers later named severe acute respiratory syndrome international committee taxonomy viruses sars cov first repor...\n",
            "Name: cleaned_text, dtype: object\n",
            "----------------------------------------------------------------------------------------------------\n",
            "4    ckground decins sans fronti res is one of the world leading humanitarian medical organizations the increased emphasis in msf on research led to the creation of an ethics review board in the erb ha...\n",
            "4    due to its extreme virulence covid virus has rapidly spread developing severe pandemic sars cov mostly affected the respiratory tract causing severe acute lung failure although the infection of ai...\n",
            "4    understanding the effects mediated by set of nanoparticle bound host biomolecules often indicated with the umbrella term of np corona is essential in nanomedicine nanopharmacology and nanotoxicolo...\n",
            "4    sars cov the etiologic agent of covid uses ace as cell entry receptor soluble ace has been shown to have neutralizing antiviral activity but has short half life and no active transport mechanism f...\n",
            "4    the current study compared the amplitude of transient evoked otoacoustic emissions and latencies of vestibular evoked myogenic potentials between asymptomatic covid pcr positive cases and normal n...\n",
            "4    the coronavirus nucleocapsid is multifunctional phosphoprotein that encapsidates the genomic rna into helical nucleocapsid within the mature virion the protein also plays roles in viral rna transc...\n",
            "4    background transmission of covid in developing countries is expected to surpass that in developed countries however information on community perceptions of this new disease is scarce the aim of th...\n",
            "4    new coronavirus has determined pneumonia outbreak in china in december called covid disease in addition to the person to person transmission dynamic of the novel respiratory virus it has been rece...\n",
            "4    backround and aims after the emergence of severe acute respiratory syndrome coronavirus and middle east respiratory syndrome coronavirus in the last two decades the world is facing its new challen...\n",
            "Name: cleaned_summary, dtype: object\n"
          ],
          "name": "stdout"
        }
      ]
    },
    {
      "cell_type": "code",
      "metadata": {
        "colab": {
          "base_uri": "https://localhost:8080/",
          "height": 499
        },
        "id": "-tGwArxGXOLa",
        "outputId": "654bb4b0-98de-466f-e2b5-d063c6ad3099"
      },
      "source": [
        "import matplotlib.pyplot as plt\r\n",
        "from pylab import rcParams\r\n",
        "rcParams['figure.figsize'] = 20, 8\r\n",
        "text_word_count = []\r\n",
        "summary_word_count = []\r\n",
        "\r\n",
        "# populate the lists with sentence lengths\r\n",
        "for i in data['cleaned_text']:\r\n",
        "      text_word_count.append(len(i.split()))\r\n",
        "\r\n",
        "for i in data['cleaned_summary']:\r\n",
        "      summary_word_count.append(len(i.split()))\r\n",
        "\r\n",
        "length_df = pd.DataFrame({'text':text_word_count, 'summary':summary_word_count})\r\n",
        "\r\n",
        "length_df.hist(bins = 50)\r\n",
        "plt.show()"
      ],
      "execution_count": null,
      "outputs": [
        {
          "output_type": "display_data",
          "data": {
            "image/png": "[encoded data removed]",
            "text/plain": [
              "<Figure size 1440x576 with 2 Axes>"
            ]
          },
          "metadata": {
            "tags": [],
            "needs_background": "light"
          }
        }
      ]
    },
    {
      "cell_type": "code",
      "metadata": {
        "colab": {
          "base_uri": "https://localhost:8080/"
        },
        "id": "bU73rdPQXPhq",
        "outputId": "a619e646-78cb-43fe-c614-4602275b7e24"
      },
      "source": [
        "#propotion of length of summaries\r\n",
        "cnt=0\r\n",
        "for i in data['cleaned_summary']:\r\n",
        "    if(len(i.split())<=400):\r\n",
        "        cnt=cnt+1\r\n",
        "print(cnt/len(data['cleaned_summary']))"
      ],
      "execution_count": null,
      "outputs": [
        {
          "output_type": "stream",
          "text": [
            "0.9383406484496672\n"
          ],
          "name": "stdout"
        }
      ]
    },
    {
      "cell_type": "code",
      "metadata": {
        "colab": {
          "base_uri": "https://localhost:8080/"
        },
        "id": "PaATJZYDHmCC",
        "outputId": "71d1dfa1-58f1-49c0-aa2b-e53eef7c166f"
      },
      "source": [
        "#propotion of length of summaries\r\n",
        "cnt=0\r\n",
        "for i in data['cleaned_text']:\r\n",
        "    if(len(i.split())<=4000):\r\n",
        "        cnt=cnt+1\r\n",
        "print(cnt/len(data['cleaned_text']))"
      ],
      "execution_count": null,
      "outputs": [
        {
          "output_type": "stream",
          "text": [
            "0.9085374486761999\n"
          ],
          "name": "stdout"
        }
      ]
    },
    {
      "cell_type": "code",
      "metadata": {
        "colab": {
          "base_uri": "https://localhost:8080/",
          "height": 657
        },
        "id": "y2IXNLrPINvG",
        "outputId": "0087aaeb-0975-4f57-a720-58b04c4839b7"
      },
      "source": [
        "data.head()"
      ],
      "execution_count": null,
      "outputs": [
        {
          "output_type": "execute_result",
          "data": {
            "text/html": [
              "<div>\n",
              "<style scoped>\n",
              "    .dataframe tbody tr th:only-of-type {\n",
              "        vertical-align: middle;\n",
              "    }\n",
              "\n",
              "    .dataframe tbody tr th {\n",
              "        vertical-align: top;\n",
              "    }\n",
              "\n",
              "    .dataframe thead th {\n",
              "        text-align: right;\n",
              "    }\n",
              "</style>\n",
              "<table border=\"1\" class=\"dataframe\">\n",
              "  <thead>\n",
              "    <tr style=\"text-align: right;\">\n",
              "      <th></th>\n",
              "      <th>Unnamed: 0</th>\n",
              "      <th>Text</th>\n",
              "      <th>Summary</th>\n",
              "      <th>cleaned_text</th>\n",
              "      <th>cleaned_summary</th>\n",
              "    </tr>\n",
              "  </thead>\n",
              "  <tbody>\n",
              "    <tr>\n",
              "      <th>0</th>\n",
              "      <td>1</td>\n",
              "      <td>contrast to the lengthy, often redundant, genomes of higher organisms, the genomes of viruses are extremely efficient in the encoding of their genes. Where mammalian genomes, for example, possess...</td>\n",
              "      <td>e smallest known biological organisms are, by far, the viruses. One of the unique adaptations that many viruses have aquired is the compression of the genes in their genomes. In this paper we stud...</td>\n",
              "      <td>contrast lengthy often redundant genomes higher organisms genomes viruses extremely efficient encoding genes mammalian genomes example possess lengthy introns code genes given segment viral genome...</td>\n",
              "      <td>smallest known biological organisms are by far the viruses one of the unique adaptations that many viruses have aquired is the compression of the genes in their genomes in this paper we study form...</td>\n",
              "    </tr>\n",
              "    <tr>\n",
              "      <th>1</th>\n",
              "      <td>3</td>\n",
              "      <td>e human respiratory viruses include adenovirus, bocavirus, human coronaviruses, enterovirus, influenza viruses, human metapneumovirus, parainfluenza virus, respiratory syncytial virus, and rhinovi...</td>\n",
              "      <td>7,772 laboratory-confirmed cases of respiratory viral infection among hospitalized patients, 22.8% were categorized as having hospital-acquired infection. The overall incidence of hospital-acquir...</td>\n",
              "      <td>human respiratory viruses include adenovirus bocavirus human coronaviruses enterovirus influenza viruses human metapneumovirus parainfluenza virus respiratory syncytial virus rhinovirus although r...</td>\n",
              "      <td>laboratory confirmed cases of respiratory viral infection among hospitalized patients were categorized as having hospital acquired infection the overall incidence of hospital acquired respiratory ...</td>\n",
              "    </tr>\n",
              "    <tr>\n",
              "      <th>2</th>\n",
              "      <td>4</td>\n",
              "      <td>s pathologies infectieuses respiratoires sont fréquemment rencontrées dans la communauté et généralement de gravité légère ou modérée. Les agents responsables sont, dans la plupart des cas, de typ...</td>\n",
              "      <td>çu et accepté le 7 février 2004Les infections virales respiratoires communautaires sont fréquentes et le plus souvent bénignes. Beaucoup d'agents différents comme les virus influenza, ou para-infl...</td>\n",
              "      <td>pathologies infectieuses respiratoires sont fr quemment rencontr es dans la communaut et ralement de gravit ou mod les agents responsables sont dans la plupart des cas de type viral avec parmi eux...</td>\n",
              "      <td>et accept le vrier les infections virales respiratoires communautaires sont fr quentes et le plus souvent nignes beaucoup agents diff rents comme les virus influenza ou para influenza le virus res...</td>\n",
              "    </tr>\n",
              "    <tr>\n",
              "      <th>3</th>\n",
              "      <td>9</td>\n",
              "      <td>ronavirus disease-2019 (COVID- 19) , caused by severe acute respiratory distress syndrome-coronavirus-2 (SARS-CoV-2), was initially reported in December 2019 as pneumonia with unknown etiology in ...</td>\n",
              "      <td>e World Health Organization recognized SARS-CoV-2 as a public health concern and declared it as a pandemic on March 11, 2020. Over 12 million people have been affected across several countries sin...</td>\n",
              "      <td>ronavirus disease caused severe acute respiratory distress syndrome coronavirus initially reported december pneumonia unknown etiology wuhan city china world health organization recognized sars co...</td>\n",
              "      <td>world health organization recognized sars cov as public health concern and declared it as pandemic on march over million people have been affected across several countries since it was first recog...</td>\n",
              "    </tr>\n",
              "    <tr>\n",
              "      <th>4</th>\n",
              "      <td>10</td>\n",
              "      <td>decins Sans Frontières (MSF) is one of the world's leading humanitarian medical organizations. It provides emergency medical assistance to populations in danger in more than 70 countries. The foun...</td>\n",
              "      <td>ckground: Médecins Sans Frontières (MSF) is one of the world's leading humanitarian medical organizations. The increased emphasis in MSF on research led to the creation of an ethics review board (...</td>\n",
              "      <td>decins sans fronti res one world leading humanitarian medical organizations provides emergency medical assistance populations danger countries foundational animating values msf humanitarian medica...</td>\n",
              "      <td>ckground decins sans fronti res is one of the world leading humanitarian medical organizations the increased emphasis in msf on research led to the creation of an ethics review board in the erb ha...</td>\n",
              "    </tr>\n",
              "  </tbody>\n",
              "</table>\n",
              "</div>"
            ],
            "text/plain": [
              "   Unnamed: 0  ...                                                                                                                                                                                          cleaned_summary\n",
              "0           1  ...  smallest known biological organisms are by far the viruses one of the unique adaptations that many viruses have aquired is the compression of the genes in their genomes in this paper we study form...\n",
              "1           3  ...  laboratory confirmed cases of respiratory viral infection among hospitalized patients were categorized as having hospital acquired infection the overall incidence of hospital acquired respiratory ...\n",
              "2           4  ...  et accept le vrier les infections virales respiratoires communautaires sont fr quentes et le plus souvent nignes beaucoup agents diff rents comme les virus influenza ou para influenza le virus res...\n",
              "3           9  ...  world health organization recognized sars cov as public health concern and declared it as pandemic on march over million people have been affected across several countries since it was first recog...\n",
              "4          10  ...  ckground decins sans fronti res is one of the world leading humanitarian medical organizations the increased emphasis in msf on research led to the creation of an ethics review board in the erb ha...\n",
              "\n",
              "[5 rows x 5 columns]"
            ]
          },
          "metadata": {
            "tags": []
          },
          "execution_count": 38
        }
      ]
    },
    {
      "cell_type": "code",
      "metadata": {
        "id": "scinl6zoXeDR"
      },
      "source": [
        "#**change to fit data set**\r\n",
        "max_text_len=4000\r\n",
        "max_summary_len=400 # this should be 100"
      ],
      "execution_count": null,
      "outputs": []
    },
    {
      "cell_type": "code",
      "metadata": {
        "id": "QWdSLBflXrTb"
      },
      "source": [
        "#selecting summaries of desired length\r\n",
        "cleaned_text =np.array(data['cleaned_text'])\r\n",
        "cleaned_summary=np.array(data['cleaned_summary'])\r\n",
        "\r\n",
        "short_text=[]\r\n",
        "short_summary=[]\r\n",
        "\r\n",
        "for i in range(len(cleaned_text)):\r\n",
        "    if(len(cleaned_summary[i].split())<=max_summary_len and len(cleaned_text[i].split())<=max_text_len):\r\n",
        "        short_text.append(cleaned_text[i])\r\n",
        "        short_summary.append(cleaned_summary[i])\r\n",
        "        \r\n",
        "df=pd.DataFrame({'text':short_text,'summary':short_summary})"
      ],
      "execution_count": null,
      "outputs": []
    },
    {
      "cell_type": "markdown",
      "metadata": {
        "id": "GSEBAyp0X103"
      },
      "source": [
        "Remember to add the **START** and **END** special tokens at the beginning and end of the summary. Here, I have chosen **sostok** and **eostok** as START and END tokens\r\n",
        "\r\n",
        "**Note:** Be sure that the chosen special tokens never appear in the summary"
      ]
    },
    {
      "cell_type": "code",
      "metadata": {
        "id": "NtNh-wdZXwk0"
      },
      "source": [
        "df['summary'] = df['summary'].apply(lambda x : 'sostok '+ x + ' eostok')"
      ],
      "execution_count": null,
      "outputs": []
    },
    {
      "cell_type": "code",
      "metadata": {
        "colab": {
          "base_uri": "https://localhost:8080/"
        },
        "id": "qgIx3GgpXzDo",
        "outputId": "cdf2a563-5daf-44cc-f19a-244686894e88"
      },
      "source": [
        "df['text']"
      ],
      "execution_count": null,
      "outputs": [
        {
          "output_type": "execute_result",
          "data": {
            "text/plain": [
              "0        contrast lengthy often redundant genomes higher organisms genomes viruses extremely efficient encoding genes mammalian genomes example possess lengthy introns code genes given segment viral genome...\n",
              "1        human respiratory viruses include adenovirus bocavirus human coronaviruses enterovirus influenza viruses human metapneumovirus parainfluenza virus respiratory syncytial virus rhinovirus although r...\n",
              "2        ronavirus disease caused severe acute respiratory distress syndrome coronavirus initially reported december pneumonia unknown etiology wuhan city china world health organization recognized sars co...\n",
              "3        decins sans fronti res one world leading humanitarian medical organizations provides emergency medical assistance populations danger countries foundational animating values msf humanitarian medica...\n",
              "4        incidence health care associated infection caused multidrug resistant bacteria gradually risen last decade especially immunocompromised patients common causative agents hcai united states gram pos...\n",
              "                                                                                                          ...                                                                                                   \n",
              "12115    following green kreuter precede proceed model asked infection experts team identify behaviors likely efficacious carried qualitative study determine also viewed feasible acceptable target populati...\n",
              "12116    rna silencing unique rna guided gene regulatory mechanism operates wide range eukaryotic organisms plants mammals consistent notion rnai natural antiviral mechanism mirnas related certain viruses ...\n",
              "12117    pandemic severe acute respiratory syndrome coronavirus associated coronavirus disease major threat global health approximately hospitalized patients diagnosed covid develop severe respiratory fail...\n",
              "12118    liver cancer second leading cause cancer mortality worldwide causing deaths annually hepatocellular carcinoma common histological type liver ivyspring international publisher cancer accounts cases...\n",
              "12119    influenza viruses major cause morbidity severe illness globally emergence highly pathogenic avian iav strains predominately across asia caused sporadic infections humans high mortality mouse model...\n",
              "Name: text, Length: 12120, dtype: object"
            ]
          },
          "metadata": {
            "tags": []
          },
          "execution_count": 42
        }
      ]
    },
    {
      "cell_type": "code",
      "metadata": {
        "id": "P21dcPNqX4v9"
      },
      "source": [
        "from sklearn.model_selection import train_test_split\r\n",
        "x_tr,x_val,y_tr,y_val=train_test_split(np.array(df['text']),np.array(df['summary']),test_size=0.3,random_state=0,shuffle=True) "
      ],
      "execution_count": null,
      "outputs": []
    },
    {
      "cell_type": "markdown",
      "metadata": {
        "id": "RMXW2zz3bQ0p"
      },
      "source": [
        "# Tokenizer"
      ]
    },
    {
      "cell_type": "code",
      "metadata": {
        "id": "pZHsajiXbPea"
      },
      "source": [
        "from keras.preprocessing.text import Tokenizer \r\n",
        "from keras.preprocessing.sequence import pad_sequences\r\n",
        "\r\n",
        "#prepare a tokenizer for reviews on training data\r\n",
        "x_tokenizer = Tokenizer() \r\n",
        "x_tokenizer.fit_on_texts(list(x_tr))"
      ],
      "execution_count": null,
      "outputs": []
    },
    {
      "cell_type": "code",
      "metadata": {
        "colab": {
          "base_uri": "https://localhost:8080/"
        },
        "id": "DgZJs-tdbVoe",
        "outputId": "c2a6ed7e-1c1f-4624-87f4-a4bd19ae70b9"
      },
      "source": [
        "thresh=4\r\n",
        "\r\n",
        "cnt=0\r\n",
        "tot_cnt=0\r\n",
        "freq=0\r\n",
        "tot_freq=0\r\n",
        "\r\n",
        "for key,value in x_tokenizer.word_counts.items():\r\n",
        "    tot_cnt=tot_cnt+1\r\n",
        "    tot_freq=tot_freq+value\r\n",
        "    if(value<thresh):\r\n",
        "        cnt=cnt+1\r\n",
        "        freq=freq+value\r\n",
        "    \r\n",
        "print(\"% of rare words in vocabulary:\",(cnt/tot_cnt)*100)\r\n",
        "print(\"Total Coverage of rare words:\",(freq/tot_freq)*100)"
      ],
      "execution_count": null,
      "outputs": [
        {
          "output_type": "stream",
          "text": [
            "% of rare words in vocabulary: 64.44718611646404\n",
            "Total Coverage of rare words: 1.1043098474954807\n"
          ],
          "name": "stdout"
        }
      ]
    },
    {
      "cell_type": "code",
      "metadata": {
        "id": "bQOUIOaGbW5e"
      },
      "source": [
        "#prepare a tokenizer for reviews on training data\r\n",
        "x_tokenizer = Tokenizer(num_words=tot_cnt-cnt) \r\n",
        "x_tokenizer.fit_on_texts(list(x_tr))\r\n",
        "\r\n",
        "#convert text sequences into integer sequences\r\n",
        "x_tr_seq    =   x_tokenizer.texts_to_sequences(x_tr) \r\n",
        "x_val_seq   =   x_tokenizer.texts_to_sequences(x_val)\r\n",
        "\r\n",
        "#padding zero upto maximum length\r\n",
        "x_tr    =   pad_sequences(x_tr_seq,  maxlen=max_text_len, padding='post')\r\n",
        "x_val   =   pad_sequences(x_val_seq, maxlen=max_text_len, padding='post')\r\n",
        "\r\n",
        "#size of vocabulary ( +1 for padding token)\r\n",
        "x_voc   =  x_tokenizer.num_words + 1"
      ],
      "execution_count": null,
      "outputs": []
    },
    {
      "cell_type": "code",
      "metadata": {
        "colab": {
          "base_uri": "https://localhost:8080/"
        },
        "id": "FyVOSfrbbYZ2",
        "outputId": "deace72e-4f1d-4fc7-9300-7bc0f3c311bf"
      },
      "source": [
        "x_voc"
      ],
      "execution_count": null,
      "outputs": [
        {
          "output_type": "execute_result",
          "data": {
            "text/plain": [
              "65127"
            ]
          },
          "metadata": {
            "tags": []
          },
          "execution_count": 47
        }
      ]
    },
    {
      "cell_type": "markdown",
      "metadata": {
        "id": "xJdwFYHUbbdu"
      },
      "source": [
        "# Summary Tokenizer"
      ]
    },
    {
      "cell_type": "code",
      "metadata": {
        "id": "HYy3MMSubZ61"
      },
      "source": [
        "#prepare a tokenizer for reviews on training data\r\n",
        "y_tokenizer = Tokenizer()   \r\n",
        "y_tokenizer.fit_on_texts(list(y_tr))"
      ],
      "execution_count": null,
      "outputs": []
    },
    {
      "cell_type": "code",
      "metadata": {
        "colab": {
          "base_uri": "https://localhost:8080/"
        },
        "id": "Nda45v5nbi3T",
        "outputId": "67112c1e-9338-47ec-8e0d-4d25f456d8b5"
      },
      "source": [
        "thresh=6\r\n",
        "\r\n",
        "cnt=0\r\n",
        "tot_cnt=0\r\n",
        "freq=0\r\n",
        "tot_freq=0\r\n",
        "\r\n",
        "for key,value in y_tokenizer.word_counts.items():\r\n",
        "    tot_cnt=tot_cnt+1\r\n",
        "    tot_freq=tot_freq+value\r\n",
        "    if(value<thresh):\r\n",
        "        cnt=cnt+1\r\n",
        "        freq=freq+value\r\n",
        "    \r\n",
        "print(\"% of rare words in vocabulary:\",(cnt/tot_cnt)*100)\r\n",
        "print(\"Total Coverage of rare words:\",(freq/tot_freq)*100)"
      ],
      "execution_count": null,
      "outputs": [
        {
          "output_type": "stream",
          "text": [
            "% of rare words in vocabulary: 72.58688919476944\n",
            "Total Coverage of rare words: 3.918900986573716\n"
          ],
          "name": "stdout"
        }
      ]
    },
    {
      "cell_type": "code",
      "metadata": {
        "id": "sbL1eWqvbkLr"
      },
      "source": [
        "#prepare a tokenizer for reviews on training data\r\n",
        "y_tokenizer = Tokenizer(num_words=tot_cnt-cnt) \r\n",
        "y_tokenizer.fit_on_texts(list(y_tr))\r\n",
        "\r\n",
        "#convert text sequences into integer sequences\r\n",
        "y_tr_seq    =   y_tokenizer.texts_to_sequences(y_tr) \r\n",
        "y_val_seq   =   y_tokenizer.texts_to_sequences(y_val) \r\n",
        "\r\n",
        "#padding zero upto maximum length\r\n",
        "y_tr    =   pad_sequences(y_tr_seq, maxlen=max_summary_len, padding='post')\r\n",
        "y_val   =   pad_sequences(y_val_seq, maxlen=max_summary_len, padding='post')\r\n",
        "\r\n",
        "#size of vocabulary\r\n",
        "y_voc  =   y_tokenizer.num_words +1"
      ],
      "execution_count": null,
      "outputs": []
    },
    {
      "cell_type": "code",
      "metadata": {
        "colab": {
          "base_uri": "https://localhost:8080/"
        },
        "id": "K4R-oJVvhJQH",
        "outputId": "e6d2ffa3-c2bc-4b0b-c6f7-7fbfc449d700"
      },
      "source": [
        "#y_voc size seems too small.\r\n",
        "#first try increasing number of articles\r\n",
        "y_voc"
      ],
      "execution_count": null,
      "outputs": [
        {
          "output_type": "execute_result",
          "data": {
            "text/plain": [
              "12747"
            ]
          },
          "metadata": {
            "tags": []
          },
          "execution_count": 51
        }
      ]
    },
    {
      "cell_type": "code",
      "metadata": {
        "colab": {
          "base_uri": "https://localhost:8080/"
        },
        "id": "JC7DrUqxblGT",
        "outputId": "8a686786-35f9-4ad6-8e3b-48678bc50f65"
      },
      "source": [
        "y_tokenizer.word_counts['sostok'],len(y_tr)   "
      ],
      "execution_count": null,
      "outputs": [
        {
          "output_type": "execute_result",
          "data": {
            "text/plain": [
              "(8484, 8484)"
            ]
          },
          "metadata": {
            "tags": []
          },
          "execution_count": 52
        }
      ]
    },
    {
      "cell_type": "markdown",
      "metadata": {
        "id": "DBuXjtzSboEp"
      },
      "source": [
        "Delete start and end tokens"
      ]
    },
    {
      "cell_type": "code",
      "metadata": {
        "id": "0u_NLwT2bsFY"
      },
      "source": [
        "ind=[]\r\n",
        "for i in range(len(y_tr)):\r\n",
        "    cnt=0\r\n",
        "    for j in y_tr[i]:\r\n",
        "        if j!=0:\r\n",
        "            cnt=cnt+1\r\n",
        "    if(cnt==2):\r\n",
        "        ind.append(i)\r\n",
        "\r\n",
        "y_tr=np.delete(y_tr,ind, axis=0)\r\n",
        "x_tr=np.delete(x_tr,ind, axis=0)"
      ],
      "execution_count": null,
      "outputs": []
    },
    {
      "cell_type": "code",
      "metadata": {
        "id": "CMYE45x4buTb"
      },
      "source": [
        "ind=[]\r\n",
        "for i in range(len(y_val)):\r\n",
        "    cnt=0\r\n",
        "    for j in y_val[i]:\r\n",
        "        if j!=0:\r\n",
        "            cnt=cnt+1\r\n",
        "    if(cnt==2):\r\n",
        "        ind.append(i)\r\n",
        "\r\n",
        "y_val=np.delete(y_val,ind, axis=0)\r\n",
        "x_val=np.delete(x_val,ind, axis=0)"
      ],
      "execution_count": null,
      "outputs": []
    },
    {
      "cell_type": "markdown",
      "metadata": {
        "id": "FW4RUqUBbx3U"
      },
      "source": [
        "# The Model"
      ]
    },
    {
      "cell_type": "code",
      "metadata": {
        "colab": {
          "base_uri": "https://localhost:8080/"
        },
        "id": "h411gr2lb0rK",
        "outputId": "7981c5cd-4b7d-4b9e-8841-3f39d700d264"
      },
      "source": [
        "#can also use go_backwards = true for a layer or two\r\n",
        "\r\n",
        "from keras import backend as K \r\n",
        "K.clear_session()\r\n",
        "\r\n",
        "latent_dim = 200\r\n",
        "embedding_dim=100\r\n",
        "\r\n",
        "# Encoder\r\n",
        "encoder_inputs = Input(shape=(max_text_len,))\r\n",
        "\r\n",
        "#embedding layer\r\n",
        "enc_emb =  Embedding(x_voc, embedding_dim,trainable=True)(encoder_inputs)\r\n",
        "\r\n",
        "#encoder lstm 1\r\n",
        "bi_LSTM = Bidirectional(LSTM(latent_dim,return_sequences=True,return_state=True,\r\n",
        "                             dropout=0.5,recurrent_dropout=0.5),merge_mode='concat' )(enc_emb)\r\n",
        "\r\n",
        "encoder_output0, state_h0, state_c0, backward_h, backward_c =Bidirectional(LSTM(latent_dim, return_state=True), \r\n",
        "                               merge_mode=\"concat\", name='bi')(bi_LSTM)\r\n",
        "\r\n",
        "#econder_output0 = tf.expand_dims(encoder_output0, axis=-1)\r\n",
        "\r\n",
        "encoder_lstm1 = LSTM(latent_dim,return_sequences=True,return_state=True,dropout=0.5,recurrent_dropout=0.5)\r\n",
        "encoder_outputs, state_h, state_c = encoder_lstm1(tf.expand_dims(encoder_output0, axis=-1)) #expanded dim of bi_lstm\r\n",
        "\r\n",
        "#econder_output1 = tf.expand_dims(encoder_output1, axis=-1)\r\n",
        "\r\n",
        "#encoder lstm 2\r\n",
        "# encoder_lstm2 = LSTM(latent_dim,return_sequences=True,return_state=True,dropout=0.5,recurrent_dropout=0.5)\r\n",
        "# encoder_outputs, state_h, state_c = encoder_lstm2(encoder_output1)\r\n",
        "\r\n",
        "#encoder lstm 3\r\n",
        "#(consider bidirectinal layer pg. 546 in Geron)\r\n",
        "# encoder_lstm3=LSTM(latent_dim, return_state=True, return_sequences=True,dropout=0.4,recurrent_dropout=0.4)\r\n",
        "# encoder_outputs, state_h, state_c= encoder_lstm3(encoder_output2)\r\n",
        "\r\n",
        "# Set up the decoder, using `encoder_states` as initial state.\r\n",
        "decoder_inputs = Input(shape=(None,))\r\n",
        "\r\n",
        "#embedding layer\r\n",
        "dec_emb_layer = Embedding(y_voc, embedding_dim,trainable=True)\r\n",
        "dec_emb = dec_emb_layer(decoder_inputs)\r\n",
        "\r\n",
        "decoder_lstm = LSTM(latent_dim, return_sequences=True, return_state=True,dropout=0.4,recurrent_dropout=0.2)\r\n",
        "decoder_outputs,decoder_fwd_state, decoder_back_state = decoder_lstm(dec_emb,initial_state=[state_h, state_c])\r\n",
        "\r\n",
        "# Attention layer\r\n",
        "attn_layer = AttentionLayer(name='attention_layer')\r\n",
        "attn_out, attn_states = attn_layer([encoder_outputs, decoder_outputs])\r\n",
        "\r\n",
        "# Concat attention input and decoder LSTM output\r\n",
        "decoder_concat_input = Concatenate(axis=-1, name='concat_layer')([decoder_outputs, attn_out])\r\n",
        "\r\n",
        "#dense layer\r\n",
        "decoder_dense =  TimeDistributed(Dense(y_voc, activation='elu')) #try elu***\r\n",
        "decoder_outputs = decoder_dense(decoder_concat_input)\r\n",
        "\r\n",
        "# Define the model \r\n",
        "model = Model([encoder_inputs, decoder_inputs], decoder_outputs)\r\n",
        "\r\n",
        "model.summary() "
      ],
      "execution_count": null,
      "outputs": [
        {
          "output_type": "stream",
          "text": [
            "Model: \"functional_1\"\n",
            "__________________________________________________________________________________________________\n",
            "Layer (type)                    Output Shape         Param #     Connected to                     \n",
            "==================================================================================================\n",
            "input_1 (InputLayer)            [(None, 4000)]       0                                            \n",
            "__________________________________________________________________________________________________\n",
            "embedding (Embedding)           (None, 4000, 100)    6512700     input_1[0][0]                    \n",
            "__________________________________________________________________________________________________\n",
            "bidirectional (Bidirectional)   [(None, 4000, 400),  481600      embedding[0][0]                  \n",
            "__________________________________________________________________________________________________\n",
            "bi (Bidirectional)              [(None, 400), (None, 961600      bidirectional[0][0]              \n",
            "                                                                 bidirectional[0][1]              \n",
            "                                                                 bidirectional[0][2]              \n",
            "                                                                 bidirectional[0][3]              \n",
            "                                                                 bidirectional[0][4]              \n",
            "__________________________________________________________________________________________________\n",
            "input_2 (InputLayer)            [(None, None)]       0                                            \n",
            "__________________________________________________________________________________________________\n",
            "tf_op_layer_ExpandDims (TensorF [(None, 400, 1)]     0           bi[0][0]                         \n",
            "__________________________________________________________________________________________________\n",
            "embedding_1 (Embedding)         (None, None, 100)    1274700     input_2[0][0]                    \n",
            "__________________________________________________________________________________________________\n",
            "lstm_2 (LSTM)                   [(None, 400, 200), ( 161600      tf_op_layer_ExpandDims[0][0]     \n",
            "__________________________________________________________________________________________________\n",
            "lstm_3 (LSTM)                   [(None, None, 200),  240800      embedding_1[0][0]                \n",
            "                                                                 lstm_2[0][1]                     \n",
            "                                                                 lstm_2[0][2]                     \n",
            "__________________________________________________________________________________________________\n",
            "attention_layer (AttentionLayer ((None, None, 200),  80200       lstm_2[0][0]                     \n",
            "                                                                 lstm_3[0][0]                     \n",
            "__________________________________________________________________________________________________\n",
            "concat_layer (Concatenate)      (None, None, 400)    0           lstm_3[0][0]                     \n",
            "                                                                 attention_layer[0][0]            \n",
            "__________________________________________________________________________________________________\n",
            "time_distributed (TimeDistribut (None, None, 12747)  5111547     concat_layer[0][0]               \n",
            "==================================================================================================\n",
            "Total params: 14,824,747\n",
            "Trainable params: 14,824,747\n",
            "Non-trainable params: 0\n",
            "__________________________________________________________________________________________________\n"
          ],
          "name": "stdout"
        }
      ]
    },
    {
      "cell_type": "code",
      "metadata": {
        "id": "dwmpdsp9b3xn"
      },
      "source": [
        "model.compile(optimizer='rmsprop', loss='sparse_categorical_crossentropy')"
      ],
      "execution_count": null,
      "outputs": []
    },
    {
      "cell_type": "code",
      "metadata": {
        "id": "R9XjyQZub5Hi"
      },
      "source": [
        "es = EarlyStopping(monitor='val_loss', mode='min', verbose=1,patience=2)"
      ],
      "execution_count": null,
      "outputs": []
    },
    {
      "cell_type": "code",
      "metadata": {
        "colab": {
          "base_uri": "https://localhost:8080/"
        },
        "id": "Luz3ajjSb6Me",
        "outputId": "c73f7d81-8c43-444d-f080-207ab18e1563"
      },
      "source": [
        "history=model.fit([x_tr,y_tr[:,:-1]], y_tr.reshape(y_tr.shape[0],y_tr.shape[1], 1)[:,1:] ,epochs=5,batch_size=16, validation_data=([x_val,y_val[:,:-1]], y_val.reshape(y_val.shape[0],y_val.shape[1], 1)[:,1:]))"
      ],
      "execution_count": null,
      "outputs": [
        {
          "output_type": "stream",
          "text": [
            "Epoch 1/5\n",
            " 78/530 [===>..........................] - ETA: 3:20:12 - loss: 4.7637"
          ],
          "name": "stdout"
        }
      ]
    },
    {
      "cell_type": "code",
      "metadata": {
        "id": "L4WmOFTccCS-"
      },
      "source": [
        "#plot training\r\n",
        "from matplotlib import pyplot\r\n",
        "pyplot.plot(history.history['loss'], label='train')\r\n",
        "pyplot.plot(history.history['val_loss'], label='test')\r\n",
        "pyplot.legend()\r\n",
        "pyplot.show()"
      ],
      "execution_count": null,
      "outputs": []
    },
    {
      "cell_type": "code",
      "metadata": {
        "id": "sA-ubBW2cGGb"
      },
      "source": [
        "reverse_target_word_index=y_tokenizer.index_word\r\n",
        "reverse_source_word_index=x_tokenizer.index_word\r\n",
        "target_word_index=y_tokenizer.word_index"
      ],
      "execution_count": null,
      "outputs": []
    },
    {
      "cell_type": "markdown",
      "metadata": {
        "id": "ZbV1BphvcJLI"
      },
      "source": [
        "# Encoder/Decoder"
      ]
    },
    {
      "cell_type": "code",
      "metadata": {
        "id": "fXUt74NKcMhK"
      },
      "source": [
        "# Encode the input sequence to get the feature vector\r\n",
        "encoder_model = Model(inputs=encoder_inputs,outputs=[encoder_outputs, state_h, state_c])\r\n",
        "\r\n",
        "# Decoder setup\r\n",
        "# Below tensors will hold the states of the previous time step\r\n",
        "decoder_state_input_h = Input(shape=(latent_dim,))\r\n",
        "decoder_state_input_c = Input(shape=(latent_dim,))\r\n",
        "decoder_hidden_state_input = Input(shape=(max_text_len,latent_dim))\r\n",
        "\r\n",
        "# Get the embeddings of the decoder sequence\r\n",
        "dec_emb2= dec_emb_layer(decoder_inputs) \r\n",
        "# To predict the next word in the sequence, set the initial states to the states from the previous time step\r\n",
        "decoder_outputs2, state_h2, state_c2 = decoder_lstm(dec_emb2, initial_state=[decoder_state_input_h, decoder_state_input_c])\r\n",
        "\r\n",
        "#attention inference\r\n",
        "attn_out_inf, attn_states_inf = attn_layer([decoder_hidden_state_input, decoder_outputs2])\r\n",
        "decoder_inf_concat = Concatenate(axis=-1, name='concat')([decoder_outputs2, attn_out_inf])\r\n",
        "\r\n",
        "# A dense softmax layer to generate prob dist. over the target vocabulary\r\n",
        "decoder_outputs2 = decoder_dense(decoder_inf_concat) \r\n",
        "\r\n",
        "# Final decoder model\r\n",
        "decoder_model = Model(\r\n",
        "    [decoder_inputs] + [decoder_hidden_state_input,decoder_state_input_h, decoder_state_input_c],\r\n",
        "    [decoder_outputs2] + [state_h2, state_c2])"
      ],
      "execution_count": null,
      "outputs": []
    },
    {
      "cell_type": "code",
      "metadata": {
        "id": "h5qqPFTbcPsh"
      },
      "source": [
        "def decode_sequence(input_seq):\r\n",
        "    # Encode the input as state vectors.\r\n",
        "    e_out, e_h, e_c = encoder_model.predict(input_seq)\r\n",
        "    \r\n",
        "    # Generate empty target sequence of length 1.\r\n",
        "    target_seq = np.zeros((1,1))\r\n",
        "    \r\n",
        "    # Populate the first word of target sequence with the start word.\r\n",
        "    target_seq[0, 0] = target_word_index['sostok']\r\n",
        "\r\n",
        "    stop_condition = False\r\n",
        "    decoded_sentence = ''\r\n",
        "    while not stop_condition:\r\n",
        "        #print('here')\r\n",
        "        output_tokens, h, c = decoder_model.predict([target_seq] + [e_out, e_h, e_c])\r\n",
        "\r\n",
        "        # Sample a token\r\n",
        "        sampled_token_index = np.argmax(output_tokens[0, -1, :])\r\n",
        "        #print(sampled_token_index)\r\n",
        "\r\n",
        "    #***for some reason the decoder breaks when sampled_token_index=0 t\r\n",
        "        if(sampled_token_index == 0):sampled_token_index = sampled_token_index+1\r\n",
        "    #****\r\n",
        "        sampled_token = reverse_target_word_index[sampled_token_index]\r\n",
        "        #sampled_token = reverse_source_word_index[sampled_token_index]\r\n",
        "        \r\n",
        "        if(sampled_token!='eostok'):\r\n",
        "            decoded_sentence += ' '+sampled_token\r\n",
        "\r\n",
        "        # Exit condition: either hit max length or find stop word.\r\n",
        "        if (sampled_token == 'eostok'  or len(decoded_sentence.split()) >= (max_summary_len-1)):\r\n",
        "            stop_condition = True\r\n",
        "\r\n",
        "        # Update the target sequence (of length 1).\r\n",
        "        target_seq = np.zeros((1,1))\r\n",
        "        target_seq[0, 0] = sampled_token_index\r\n",
        "\r\n",
        "        # Update internal states\r\n",
        "        e_h, e_c = h, c\r\n",
        "\r\n",
        "    return decoded_sentence"
      ],
      "execution_count": null,
      "outputs": []
    },
    {
      "cell_type": "code",
      "metadata": {
        "id": "HwGoCUONcReJ"
      },
      "source": [
        "def seq2summary(input_seq):\r\n",
        "    newString=''\r\n",
        "    for i in input_seq:\r\n",
        "        if((i!=0 and i!=target_word_index['sostok']) and i!=target_word_index['eostok']):\r\n",
        "            newString=newString+reverse_target_word_index[i]+' '\r\n",
        "    return newString\r\n",
        "\r\n",
        "def seq2text(input_seq):\r\n",
        "    newString=''\r\n",
        "    for i in input_seq:\r\n",
        "        if(i!=0):\r\n",
        "            newString=newString+reverse_source_word_index[i]+' '\r\n",
        "    return newString"
      ],
      "execution_count": null,
      "outputs": []
    },
    {
      "cell_type": "code",
      "metadata": {
        "id": "v2QB92ppcTRB"
      },
      "source": [
        "for i in range(0,100):\r\n",
        "    print(\"Review:\",seq2text(x_tr[i]))\r\n",
        "    print(\"Original summary:\",seq2summary(y_tr[i]))\r\n",
        "    print(\"Predicted summary:\",decode_sequence(x_tr[i].reshape(1,max_text_len)))\r\n",
        "    print(\"\\n\")"
      ],
      "execution_count": null,
      "outputs": []
    },
    {
      "cell_type": "code",
      "metadata": {
        "id": "ZklAuTfDCUmc"
      },
      "source": [
        "# from google.colab import files\r\n",
        "# files.download('/var/log/colab-jupyter.log') "
      ],
      "execution_count": null,
      "outputs": []
    },
    {
      "cell_type": "code",
      "metadata": {
        "id": "YKpK3CbACbha"
      },
      "source": [
        ""
      ],
      "execution_count": null,
      "outputs": []
    }
  ]
}